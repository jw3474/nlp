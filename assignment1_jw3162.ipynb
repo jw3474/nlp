{
 "cells": [
  {
   "cell_type": "markdown",
   "metadata": {},
   "source": [
    "# Import Libraries"
   ]
  },
  {
   "cell_type": "code",
   "execution_count": 75,
   "metadata": {
    "collapsed": true
   },
   "outputs": [],
   "source": [
    "import os\n",
    "import torch\n",
    "import numpy as np\n",
    "import nltk\n",
    "import random\n",
    "from collections import Counter\n",
    "from nltk import word_tokenize\n",
    "from nltk.stem import WordNetLemmatizer\n",
    "from nltk.corpus import stopwords\n",
    "from torch.utils.data import Dataset\n",
    "import torch.nn as nn\n",
    "import torch.nn.functional as F\n",
    "import matplotlib.pyplot as plt\n",
    "%matplotlib inline"
   ]
  },
  {
   "cell_type": "code",
   "execution_count": 2,
   "metadata": {
    "collapsed": true
   },
   "outputs": [],
   "source": [
    "# specify date type and device type\n",
    "dtype = torch.float\n",
    "device = torch.device(\"cpu\")"
   ]
  },
  {
   "cell_type": "markdown",
   "metadata": {},
   "source": [
    "# Load Data"
   ]
  },
  {
   "cell_type": "code",
   "execution_count": 3,
   "metadata": {},
   "outputs": [],
   "source": [
    "def load_data(PATH_TO_FOLDER):\n",
    "    text = []\n",
    "    for file in os.listdir(PATH_TO_FOLDER):\n",
    "        if file.endswith('.txt'):\n",
    "            with open(str(PATH_TO_FOLDER + file), 'r') as f:\n",
    "                text.append(f.read().replace('\\n', ''))\n",
    "    return text"
   ]
  },
  {
   "cell_type": "code",
   "execution_count": 4,
   "metadata": {},
   "outputs": [],
   "source": [
    "PATH_TO_TRAIN_POS = \"./aclImdb/train/pos/\"\n",
    "PATH_TO_TRAIN_NEG = \"./aclImdb/train/neg/\"\n",
    "PATH_TO_TEST_POS = \"./aclImdb/test/pos/\"\n",
    "PATH_TO_TEST_NEG = \"./aclImdb/test/neg/\"\n",
    "train_pos = load_data(PATH_TO_TRAIN_POS)\n",
    "train_neg = load_data(PATH_TO_TRAIN_NEG)\n",
    "test_pos = load_data(PATH_TO_TEST_POS)\n",
    "test_neg = load_data(PATH_TO_TEST_NEG)"
   ]
  },
  {
   "cell_type": "code",
   "execution_count": 16,
   "metadata": {},
   "outputs": [
    {
     "name": "stdout",
     "output_type": "stream",
     "text": [
      "12500 12500 12500 12500\n"
     ]
    }
   ],
   "source": [
    "print(len(train_pos), len(train_neg), len(test_pos), len(test_neg))"
   ]
  },
  {
   "cell_type": "code",
   "execution_count": 17,
   "metadata": {
    "collapsed": true
   },
   "outputs": [],
   "source": [
    "train_data = train_pos + train_neg\n",
    "test = test_pos + test_neg"
   ]
  },
  {
   "cell_type": "code",
   "execution_count": 18,
   "metadata": {},
   "outputs": [
    {
     "name": "stdout",
     "output_type": "stream",
     "text": [
      "20000 25000\n"
     ]
    }
   ],
   "source": [
    "print(len(train_data), len(test))"
   ]
  },
  {
   "cell_type": "code",
   "execution_count": 41,
   "metadata": {
    "collapsed": true
   },
   "outputs": [],
   "source": [
    "y_orig = np.zeros((25000, ), dtype = int)\n",
    "y_test = np.zeros((25000, ), dtype = int)\n",
    "y_orig[:12500,] = 1\n",
    "y_test[:12500,] = 1"
   ]
  },
  {
   "cell_type": "code",
   "execution_count": 42,
   "metadata": {},
   "outputs": [],
   "source": [
    "# shuffle training dataset and split it into a training set and a validation set\n",
    "train_data_array = np.asarray(train_data)\n",
    "y = y_orig\n",
    "indices = np.arange(len(train_data))\n",
    "np.random.shuffle(indices)\n",
    "train_data_array = train_data_array[indices]\n",
    "y = y[indices]\n",
    "\n",
    "train = train_data_array[0:20000]\n",
    "y_train = y[0:20000]\n",
    "val = train_data_array[20000:25000]\n",
    "y_val = y[20000:25000]"
   ]
  },
  {
   "cell_type": "code",
   "execution_count": 48,
   "metadata": {
    "collapsed": true
   },
   "outputs": [],
   "source": [
    "# train, val, test are lists\n",
    "# y_train, y_val, y_test are np.array\n",
    "train = train.tolist()\n",
    "val = val.tolist()"
   ]
  },
  {
   "cell_type": "code",
   "execution_count": 113,
   "metadata": {},
   "outputs": [],
   "source": [
    "# ensure that data and label are correspon after shuffling\n",
    "for i in range(25000):\n",
    "    assert(train_data_array[i] == train_data[indices[i]])\n",
    "    assert(y[i] == y_orig[indices[i]])"
   ]
  },
  {
   "cell_type": "code",
   "execution_count": 50,
   "metadata": {},
   "outputs": [
    {
     "name": "stdout",
     "output_type": "stream",
     "text": [
      "20000 (20000,) <class 'list'> <class 'numpy.ndarray'>\n"
     ]
    }
   ],
   "source": [
    "print(len(train), y_train.shape, type(train), type(y_train))"
   ]
  },
  {
   "cell_type": "code",
   "execution_count": 51,
   "metadata": {},
   "outputs": [
    {
     "name": "stdout",
     "output_type": "stream",
     "text": [
      "5000 (5000,) <class 'list'> <class 'numpy.ndarray'>\n"
     ]
    }
   ],
   "source": [
    "print(len(val), y_val.shape, type(val), type(y_val))"
   ]
  },
  {
   "cell_type": "code",
   "execution_count": 52,
   "metadata": {},
   "outputs": [
    {
     "name": "stdout",
     "output_type": "stream",
     "text": [
      "25000 (25000,) <class 'list'> <class 'numpy.ndarray'>\n"
     ]
    }
   ],
   "source": [
    "print(len(test), y_test.shape, type(test), type(y_test))"
   ]
  },
  {
   "cell_type": "markdown",
   "metadata": {},
   "source": [
    "# Preprocess Data"
   ]
  },
  {
   "cell_type": "code",
   "execution_count": 60,
   "metadata": {
    "collapsed": true
   },
   "outputs": [],
   "source": [
    "ENGLISH_STOPS = set(stopwords.words('english'))"
   ]
  },
  {
   "cell_type": "code",
   "execution_count": 61,
   "metadata": {
    "collapsed": true
   },
   "outputs": [],
   "source": [
    "def preprocess_data(list_of_text):\n",
    "    text = []\n",
    "    for i in range(len(list_of_text)):\n",
    "        tokens = word_tokenize(list_of_text[i])\n",
    "        lower_tokens = [token.lower() for token in tokens]\n",
    "        only_alpha = [word for word in lower_tokens if word.isalpha()]\n",
    "        no_stops = [word for word in only_alpha if word not in ENGLISH_STOPS]\n",
    "        wordnet_lemmatizer = WordNetLemmatizer()\n",
    "        lemmatized = [wordnet_lemmatizer.lemmatize(word) for word in no_stops]\n",
    "        text.append(lemmatized)\n",
    "    return text"
   ]
  },
  {
   "cell_type": "code",
   "execution_count": 67,
   "metadata": {
    "collapsed": true
   },
   "outputs": [],
   "source": [
    "# list of list of words from each review in train dataset and test dataset\n",
    "# unigram\n",
    "train_tokenized = preprocess_data(train)\n",
    "val_tokenized = preprocess_data(val)\n",
    "test_tokenized = preprocess_data(test)"
   ]
  },
  {
   "cell_type": "code",
   "execution_count": 214,
   "metadata": {},
   "outputs": [
    {
     "name": "stdout",
     "output_type": "stream",
     "text": [
      "['are you', 'you a', 'a pig']\n"
     ]
    }
   ],
   "source": [
    "x = nltk.ngrams([\"are\", \"you\", \"a\", \"pig\"], 2)\n",
    "x = [' '.join(gram) for gram in x]\n",
    "print(x)"
   ]
  },
  {
   "cell_type": "code",
   "execution_count": 216,
   "metadata": {},
   "outputs": [],
   "source": [
    "# bigram\n",
    "train_tokenized_bigram = []\n",
    "for i in range(len(train_tokenized)):\n",
    "    tmp = nltk.ngrams(train_tokenized[i], 2)\n",
    "    tmp = [' '.join(gram) for gram in tmp]\n",
    "    tmp = train_tokenized[i] + tmp\n",
    "    train_tokenized_bigram.append(tmp)\n",
    "\n",
    "val_tokenized_bigram = []\n",
    "for i in range(len(val_tokenized)):\n",
    "    tmp = nltk.ngrams(val_tokenized[i], 2)\n",
    "    tmp = [' '.join(gram) for gram in tmp]\n",
    "    tmp = val_tokenized[i] + tmp\n",
    "    val_tokenized_bigram.append(tmp)\n",
    "\n",
    "test_tokenized_bigram = []\n",
    "for i in range(len(test_tokenized)):\n",
    "    tmp = nltk.ngrams(test_tokenized[i], 2)\n",
    "    tmp = [' '.join(gram) for gram in tmp]\n",
    "    tmp = test_tokenized[i] + tmp\n",
    "    test_tokenized_bigram.append(tmp)"
   ]
  },
  {
   "cell_type": "code",
   "execution_count": 243,
   "metadata": {
    "collapsed": true
   },
   "outputs": [],
   "source": [
    "# trigram\n",
    "train_tokenized_trigram = []\n",
    "for i in range(len(train_tokenized)):\n",
    "    tmp = nltk.ngrams(train_tokenized[i], 3)\n",
    "    tmp = [' '.join(gram) for gram in tmp]\n",
    "    tmp = train_tokenized[i] + train_tokenized_bigram[i] + tmp\n",
    "    train_tokenized_trigram.append(tmp)\n",
    "\n",
    "val_tokenized_trigram = []\n",
    "for i in range(len(val_tokenized)):\n",
    "    tmp = nltk.ngrams(val_tokenized[i], 3)\n",
    "    tmp = [' '.join(gram) for gram in tmp]\n",
    "    tmp = val_tokenized[i] + val_tokenized_bigram[i] + tmp\n",
    "    val_tokenized_trigram.append(tmp)\n",
    "\n",
    "test_tokenized_trigram = []\n",
    "for i in range(len(test_tokenized)):\n",
    "    tmp = nltk.ngrams(test_tokenized[i], 3)\n",
    "    tmp = [' '.join(gram) for gram in tmp]\n",
    "    tmp = test_tokenized[i] + test_tokenized_bigram[i] + tmp\n",
    "    test_tokenized_trigram.append(tmp)"
   ]
  },
  {
   "cell_type": "code",
   "execution_count": 244,
   "metadata": {
    "collapsed": true
   },
   "outputs": [],
   "source": [
    "# 4-gram\n",
    "train_tokenized_4gram = []\n",
    "for i in range(len(train_tokenized)):\n",
    "    tmp = nltk.ngrams(train_tokenized[i], 4)\n",
    "    tmp = [' '.join(gram) for gram in tmp]\n",
    "    tmp = train_tokenized[i] + train_tokenized_bigram[i] + train_tokenized_trigram[i] + tmp\n",
    "    train_tokenized_4gram.append(tmp)\n",
    "\n",
    "val_tokenized_4gram = []\n",
    "for i in range(len(val_tokenized)):\n",
    "    tmp = nltk.ngrams(val_tokenized[i], 4)\n",
    "    tmp = [' '.join(gram) for gram in tmp]\n",
    "    tmp = val_tokenized[i] + val_tokenized_bigram[i] +  val_tokenized_trigram[i] + tmp\n",
    "    val_tokenized_4gram.append(tmp)\n",
    "\n",
    "test_tokenized_4gram = []\n",
    "for i in range(len(test_tokenized)):\n",
    "    tmp = nltk.ngrams(test_tokenized[i], 4)\n",
    "    tmp = [' '.join(gram) for gram in tmp]\n",
    "    tmp = test_tokenized[i] + test_tokenized_bigram[i] + test_tokenized_trigram[i] + tmp\n",
    "    test_tokenized_4gram.append(tmp)"
   ]
  },
  {
   "cell_type": "code",
   "execution_count": 68,
   "metadata": {},
   "outputs": [
    {
     "name": "stdout",
     "output_type": "stream",
     "text": [
      "Total number of tokens in train dataset is 2372538\n"
     ]
    }
   ],
   "source": [
    "# get all tokens from unigram train dataset\n",
    "all_train_tokens = [token for sublist in train_tokenized for token in sublist]\n",
    "print (\"Total number of tokens in train dataset is {}\".format(len(all_train_tokens)))"
   ]
  },
  {
   "cell_type": "code",
   "execution_count": 218,
   "metadata": {},
   "outputs": [
    {
     "name": "stdout",
     "output_type": "stream",
     "text": [
      "Total number of tokens in train dataset is 4725076\n"
     ]
    }
   ],
   "source": [
    "# get all tokens from unigram + bigram train dataset\n",
    "all_train_tokens_bigram = [token for sublist in train_tokenized_bigram for token in sublist]\n",
    "print (\"Total number of tokens in train dataset is {}\".format(len(all_train_tokens_bigram)))"
   ]
  },
  {
   "cell_type": "code",
   "execution_count": 245,
   "metadata": {},
   "outputs": [
    {
     "name": "stdout",
     "output_type": "stream",
     "text": [
      "Total number of tokens in train dataset is 9430152\n"
     ]
    }
   ],
   "source": [
    "# get all tokens from unigram + bigram + trigram train dataset\n",
    "all_train_tokens_trigram = [token for sublist in train_tokenized_trigram for token in sublist]\n",
    "print (\"Total number of tokens in train dataset is {}\".format(len(all_train_tokens_trigram)))"
   ]
  },
  {
   "cell_type": "code",
   "execution_count": 247,
   "metadata": {},
   "outputs": [
    {
     "name": "stdout",
     "output_type": "stream",
     "text": [
      "Total number of tokens in train dataset is 18840304\n"
     ]
    }
   ],
   "source": [
    "# get all tokens from unigram + bigram + trigram + 4-gram train dataset\n",
    "all_train_tokens_4gram = [token for sublist in train_tokenized_4gram for token in sublist]\n",
    "print (\"Total number of tokens in train dataset is {}\".format(len(all_train_tokens_4gram)))"
   ]
  },
  {
   "cell_type": "code",
   "execution_count": 248,
   "metadata": {
    "collapsed": true
   },
   "outputs": [],
   "source": [
    "# create the vocabulary of most common 40,000 tokens in the training set\n",
    "# MAX_VOCAB_SIZE = 5000\n",
    "# MAX_VOCAB_SIZE = 10000\n",
    "# MAX_VOCAB_SIZE = 20000\n",
    "MAX_VOCAB_SIZE = 40000\n",
    "# save index 0 for unk and 1 for pad\n",
    "PAD_IDX = 0\n",
    "UNK_IDX = 1\n",
    "\n",
    "def build_vocab(all_tokens):\n",
    "    # Returns:\n",
    "    # id2token: list of tokens, where id2token[i] returns token that corresponds to token i\n",
    "    # token2id: dictionary where keys represent tokens and corresponding values represent indices\n",
    "    token_counter = Counter(all_tokens)\n",
    "    vocab, count = zip(*token_counter.most_common(MAX_VOCAB_SIZE))\n",
    "    id2token = list(vocab)\n",
    "    token2id = dict(zip(vocab, range(2,2+len(vocab))))\n",
    "    id2token = ['<pad>', '<unk>'] + id2token\n",
    "    token2id['<pad>'] = PAD_IDX\n",
    "    token2id['<unk>'] = UNK_IDX\n",
    "    return token2id, id2token\n",
    "\n",
    "# token2id, id2token = build_vocab(all_train_tokens)\n",
    "# token2id, id2token = build_vocab(all_train_tokens_bigram)\n",
    "token2id, id2token = build_vocab(all_train_tokens_trigram)\n",
    "# token2id, id2token = build_vocab(all_train_tokens_4gram)"
   ]
  },
  {
   "cell_type": "code",
   "execution_count": 249,
   "metadata": {},
   "outputs": [
    {
     "name": "stdout",
     "output_type": "stream",
     "text": [
      "Token id 7364 ; token intensely\n",
      "Token intensely; token id 7364\n"
     ]
    }
   ],
   "source": [
    "# Lets check the dictionary by loading random token from it\n",
    "\n",
    "random_token_id = random.randint(0, len(id2token)-1)\n",
    "random_token = id2token[random_token_id]\n",
    "\n",
    "print (\"Token id {} ; token {}\".format(random_token_id, id2token[random_token_id]))\n",
    "print (\"Token {}; token id {}\".format(random_token, token2id[random_token]))"
   ]
  },
  {
   "cell_type": "code",
   "execution_count": 250,
   "metadata": {},
   "outputs": [
    {
     "name": "stdout",
     "output_type": "stream",
     "text": [
      "Train dataset size is 20000\n",
      "Val dataset size is 5000\n",
      "Test dataset size is 25000\n"
     ]
    }
   ],
   "source": [
    "# convert token to id in the dataset\n",
    "def token2index_dataset(tokens_data):\n",
    "    indices_data = []\n",
    "    for tokens in tokens_data:\n",
    "        index_list = [token2id[token] if token in token2id else UNK_IDX for token in tokens]\n",
    "        indices_data.append(index_list)\n",
    "    return indices_data\n",
    "\n",
    "# train_data_indices = token2index_dataset(train_tokenized)\n",
    "# val_data_indices = token2index_dataset(val_tokenized)\n",
    "# test_data_indices = token2index_dataset(test_tokenized)\n",
    "\n",
    "# train_data_indices = token2index_dataset(train_tokenized_bigram)\n",
    "# val_data_indices = token2index_dataset(val_tokenized_bigram)\n",
    "# test_data_indices = token2index_dataset(test_tokenized_bigram)\n",
    "\n",
    "train_data_indices = token2index_dataset(train_tokenized_trigram)\n",
    "val_data_indices = token2index_dataset(val_tokenized_trigram)\n",
    "test_data_indices = token2index_dataset(test_tokenized_trigram)\n",
    "\n",
    "# train_data_indices = token2index_dataset(train_tokenized_4gram)\n",
    "# val_data_indices = token2index_dataset(val_tokenized_4gram)\n",
    "# test_data_indices = token2index_dataset(test_tokenized_4gram)\n",
    "\n",
    "# double checking\n",
    "print (\"Train dataset size is {}\".format(len(train_data_indices)))\n",
    "print (\"Val dataset size is {}\".format(len(val_data_indices)))\n",
    "print (\"Test dataset size is {}\".format(len(test_data_indices)))"
   ]
  },
  {
   "cell_type": "markdown",
   "metadata": {},
   "source": [
    "### create PyTorch dataloader"
   ]
  },
  {
   "cell_type": "code",
   "execution_count": 251,
   "metadata": {
    "collapsed": true
   },
   "outputs": [],
   "source": [
    "MAX_SENTENCE_LENGTH = 1000\n",
    "\n",
    "class IMDBDataset(Dataset):\n",
    "    \"\"\"\n",
    "    Class that represents a train/validation/test dataset that's readable for PyTorch\n",
    "    Note that this class inherits torch.utils.data.Dataset\n",
    "    \"\"\"\n",
    "    \n",
    "    def __init__(self, data_list, target_list):\n",
    "        \"\"\"\n",
    "        @param data_list: list of imdb tokens \n",
    "        @param target_list: list of imdb targets \n",
    "\n",
    "        \"\"\"\n",
    "        self.data_list = data_list\n",
    "        self.target_list = target_list\n",
    "        assert (len(self.data_list) == len(self.target_list))\n",
    "\n",
    "    def __len__(self):\n",
    "        return len(self.data_list)\n",
    "        \n",
    "    def __getitem__(self, key):\n",
    "        \"\"\"\n",
    "        Triggered when you call dataset[i]\n",
    "        \"\"\"\n",
    "        \n",
    "        token_idx = self.data_list[key][:MAX_SENTENCE_LENGTH]\n",
    "        label = self.target_list[key]\n",
    "        return [token_idx, len(token_idx), label]"
   ]
  },
  {
   "cell_type": "code",
   "execution_count": 252,
   "metadata": {
    "collapsed": true
   },
   "outputs": [],
   "source": [
    "def imdb_collate_func(batch):\n",
    "    \"\"\"\n",
    "    Customized function for DataLoader that dynamically pads the batch so that all \n",
    "    data have the same length\n",
    "    \"\"\"\n",
    "    data_list = []\n",
    "    label_list = []\n",
    "    length_list = []\n",
    "    #print(\"collate batch: \", batch[0][0])\n",
    "    #batch[0][0] = batch[0][0][:MAX_SENTENCE_LENGTH]\n",
    "    for datum in batch:\n",
    "        label_list.append(datum[2])\n",
    "        length_list.append(datum[1])\n",
    "    # padding\n",
    "    for datum in batch:\n",
    "        padded_vec = np.pad(np.array(datum[0]), \n",
    "                                pad_width=((0,MAX_SENTENCE_LENGTH-datum[1])), \n",
    "                                mode=\"constant\", constant_values=0)\n",
    "        data_list.append(padded_vec)\n",
    "    return [torch.from_numpy(np.array(data_list)), torch.LongTensor(length_list), torch.LongTensor(label_list)]"
   ]
  },
  {
   "cell_type": "code",
   "execution_count": 253,
   "metadata": {
    "collapsed": true
   },
   "outputs": [],
   "source": [
    "# create pytorch dataloader\n",
    "train_loader = IMDBDataset(train_data_indices, y_train)\n",
    "val_loader = IMDBDataset(val_data_indices, y_val)\n",
    "test_loader = IMDBDataset(test_data_indices, y_test)"
   ]
  },
  {
   "cell_type": "code",
   "execution_count": 254,
   "metadata": {
    "collapsed": true
   },
   "outputs": [],
   "source": [
    "BATCH_SIZE = 64\n",
    "train_dataset = IMDBDataset(train_data_indices, y_train)\n",
    "train_loader = torch.utils.data.DataLoader(dataset=train_dataset, \n",
    "                                           batch_size=BATCH_SIZE,\n",
    "                                           collate_fn=imdb_collate_func,\n",
    "                                           shuffle=True)\n",
    "\n",
    "val_dataset = IMDBDataset(val_data_indices, y_val)\n",
    "val_loader = torch.utils.data.DataLoader(dataset=val_dataset, \n",
    "                                           batch_size=BATCH_SIZE,\n",
    "                                           collate_fn=imdb_collate_func,\n",
    "                                           shuffle=True)\n",
    "\n",
    "test_dataset = IMDBDataset(test_data_indices, y_test)\n",
    "test_loader = torch.utils.data.DataLoader(dataset=test_dataset, \n",
    "                                           batch_size=BATCH_SIZE,\n",
    "                                           collate_fn=imdb_collate_func,\n",
    "                                           shuffle=False)"
   ]
  },
  {
   "cell_type": "code",
   "execution_count": 255,
   "metadata": {},
   "outputs": [],
   "source": [
    "# for i, (data, lengths, labels) in enumerate(train_loader):\n",
    "#    print(data)\n",
    "#    print(labels)\n",
    "#    break"
   ]
  },
  {
   "cell_type": "code",
   "execution_count": 256,
   "metadata": {
    "collapsed": true
   },
   "outputs": [],
   "source": [
    "# define Bag-of-Words model in PyTorch\n",
    "class BagOfWords(nn.Module):\n",
    "    \"\"\"\n",
    "    BagOfWords classification model\n",
    "    \"\"\"\n",
    "    def __init__(self, vocab_size, emb_dim):\n",
    "        \"\"\"\n",
    "        @param vocab_size: size of the vocabulary. \n",
    "        @param emb_dim: size of the word embedding\n",
    "        \"\"\"\n",
    "        super(BagOfWords, self).__init__()\n",
    "        # pay attention to padding_idx \n",
    "        self.embed = nn.Embedding(vocab_size, emb_dim, padding_idx=0)\n",
    "        self.linear = nn.Linear(emb_dim,20)\n",
    "    \n",
    "    def forward(self, data, length):\n",
    "        \"\"\"\n",
    "        \n",
    "        @param data: matrix of size (batch_size, max_sentence_length). Each row in data represents a \n",
    "            review that is represented using n-gram index. Note that they are padded to have same length.\n",
    "        @param length: an int tensor of size (batch_size), which represents the non-trivial (excludes padding)\n",
    "            length of each sentences in the data.\n",
    "        \"\"\"\n",
    "        out = self.embed(data)\n",
    "        out = torch.sum(out, dim=1)\n",
    "        out /= length.view(length.size()[0],1).expand_as(out).float()\n",
    "     \n",
    "        # return logits\n",
    "        out = self.linear(out.float())\n",
    "        return out\n",
    "# emb_dim = 50\n",
    "emb_dim = 100\n",
    "# emb_dim = 200\n",
    "# emb_dim = 400\n",
    "model = BagOfWords(len(id2token), emb_dim)"
   ]
  },
  {
   "cell_type": "code",
   "execution_count": 257,
   "metadata": {},
   "outputs": [
    {
     "name": "stdout",
     "output_type": "stream",
     "text": [
      "Epoch: [1/10], Step: [101/313], Train Acc: 84.77, Validation Acc: 81.6\n",
      "Epoch: [1/10], Step: [201/313], Train Acc: 91.485, Validation Acc: 87.1\n",
      "Epoch: [1/10], Step: [301/313], Train Acc: 94.275, Validation Acc: 88.36\n",
      "Epoch: [2/10], Step: [101/313], Train Acc: 95.69, Validation Acc: 88.76\n",
      "Epoch: [2/10], Step: [201/313], Train Acc: 96.935, Validation Acc: 89.02\n",
      "Epoch: [2/10], Step: [301/313], Train Acc: 98.36, Validation Acc: 89.46\n",
      "Epoch: [3/10], Step: [101/313], Train Acc: 98.79, Validation Acc: 89.06\n",
      "Epoch: [3/10], Step: [201/313], Train Acc: 99.215, Validation Acc: 89.02\n",
      "Epoch: [3/10], Step: [301/313], Train Acc: 99.535, Validation Acc: 88.54\n",
      "Epoch: [4/10], Step: [101/313], Train Acc: 99.795, Validation Acc: 88.98\n",
      "Epoch: [4/10], Step: [201/313], Train Acc: 99.875, Validation Acc: 88.98\n",
      "Epoch: [4/10], Step: [301/313], Train Acc: 99.97, Validation Acc: 88.76\n",
      "Epoch: [5/10], Step: [101/313], Train Acc: 99.975, Validation Acc: 88.42\n",
      "Epoch: [5/10], Step: [201/313], Train Acc: 99.98, Validation Acc: 88.56\n",
      "Epoch: [5/10], Step: [301/313], Train Acc: 99.995, Validation Acc: 88.56\n",
      "Epoch: [6/10], Step: [101/313], Train Acc: 100.0, Validation Acc: 88.5\n",
      "Epoch: [6/10], Step: [201/313], Train Acc: 100.0, Validation Acc: 88.68\n",
      "Epoch: [6/10], Step: [301/313], Train Acc: 100.0, Validation Acc: 88.6\n",
      "Epoch: [7/10], Step: [101/313], Train Acc: 100.0, Validation Acc: 88.64\n",
      "Epoch: [7/10], Step: [201/313], Train Acc: 100.0, Validation Acc: 88.56\n",
      "Epoch: [7/10], Step: [301/313], Train Acc: 100.0, Validation Acc: 88.72\n",
      "Epoch: [8/10], Step: [101/313], Train Acc: 100.0, Validation Acc: 88.52\n",
      "Epoch: [8/10], Step: [201/313], Train Acc: 100.0, Validation Acc: 88.64\n",
      "Epoch: [8/10], Step: [301/313], Train Acc: 100.0, Validation Acc: 88.56\n",
      "Epoch: [9/10], Step: [101/313], Train Acc: 100.0, Validation Acc: 88.64\n",
      "Epoch: [9/10], Step: [201/313], Train Acc: 100.0, Validation Acc: 88.54\n",
      "Epoch: [9/10], Step: [301/313], Train Acc: 100.0, Validation Acc: 88.6\n",
      "Epoch: [10/10], Step: [101/313], Train Acc: 100.0, Validation Acc: 88.46\n",
      "Epoch: [10/10], Step: [201/313], Train Acc: 100.0, Validation Acc: 88.44\n",
      "Epoch: [10/10], Step: [301/313], Train Acc: 100.0, Validation Acc: 88.48\n"
     ]
    }
   ],
   "source": [
    "learning_rate = 0.01\n",
    "num_epochs = 10 # number epoch to train\n",
    "\n",
    "# Criterion and Optimizer\n",
    "criterion = torch.nn.CrossEntropyLoss()\n",
    "# optimizer = torch.optim.SGD(model.parameters(), lr=learning_rate)\n",
    "optimizer = torch.optim.Adam(model.parameters(), lr=learning_rate)\n",
    "\n",
    "# Function for testing the model\n",
    "def test_model(loader, model):\n",
    "    \"\"\"\n",
    "    Help function that tests the model's performance on a dataset\n",
    "    @param: loader - data loader for the dataset to test against\n",
    "    \"\"\"\n",
    "    correct = 0\n",
    "    total = 0\n",
    "    model.eval()\n",
    "    for data, lengths, labels in loader:\n",
    "        data_batch, length_batch, label_batch = data, lengths, labels\n",
    "        outputs = F.softmax(model(data_batch, length_batch), dim=1)\n",
    "        predicted = outputs.max(1, keepdim=True)[1]\n",
    "        \n",
    "        total += labels.size(0)\n",
    "        correct += predicted.eq(labels.view_as(predicted)).sum().item()\n",
    "    return (100 * correct / total)\n",
    "\n",
    "all_train_acc = []\n",
    "all_val_acc = []\n",
    "for epoch in range(num_epochs):\n",
    "    for i, (data, lengths, labels) in enumerate(train_loader):\n",
    "        model.train()\n",
    "        data_batch, length_batch, label_batch = data, lengths, labels\n",
    "        optimizer.zero_grad()\n",
    "        outputs = model(data_batch, length_batch)\n",
    "        loss = criterion(outputs, label_batch)\n",
    "        loss.backward()\n",
    "        optimizer.step()\n",
    "        # validate every 100 iterations\n",
    "        if i > 0 and i % 100 == 0:\n",
    "            # validate\n",
    "            train_acc = test_model(train_loader, model)\n",
    "            val_acc = test_model(val_loader, model)\n",
    "            all_train_acc.append(train_acc)\n",
    "            all_val_acc.append(val_acc)\n",
    "            print('Epoch: [{}/{}], Step: [{}/{}], Train Acc: {}, Validation Acc: {}'.format( \n",
    "                       epoch+1, num_epochs, i+1, len(train_loader), train_acc, val_acc))"
   ]
  },
  {
   "cell_type": "code",
   "execution_count": 152,
   "metadata": {},
   "outputs": [
    {
     "data": {
      "image/png": "[encoded data removed]",
      "text/plain": [
       "<matplotlib.figure.Figure at 0x111882240>"
      ]
     },
     "metadata": {},
     "output_type": "display_data"
    }
   ],
   "source": [
    "# plot train acc and validation acc\n",
    "# n-gram, vocabulary_size, max_length, batch_size, embedding_dim, learning_rate, num_epochs\n",
    "title = 'unigram_5000_1000_64_100_0.01_10'\n",
    "plt.plot(all_train_acc, label='train acc')\n",
    "plt.plot(all_val_acc, label='val acc')\n",
    "plt.legend(loc='lower right')\n",
    "plt.xlabel(\"Steps\")\n",
    "plt.ylabel(\"Accuracy\")\n",
    "plt.title(title)\n",
    "plt.savefig(title + \".png\")"
   ]
  },
  {
   "cell_type": "code",
   "execution_count": 153,
   "metadata": {},
   "outputs": [
    {
     "name": "stdout",
     "output_type": "stream",
     "text": [
      "After training for 10 epochs\n",
      "Val Acc 85.24\n",
      "Test Acc 82.828\n",
      "Maximum training accuracy and maximum validation accuracy are 96.765 and 87.74.\n"
     ]
    }
   ],
   "source": [
    "print (\"After training for {} epochs\".format(num_epochs))\n",
    "print (\"Val Acc {}\".format(test_model(val_loader, model)))\n",
    "print (\"Test Acc {}\".format(test_model(test_loader, model)))\n",
    "print(\"Maximum training accuracy and maximum validation accuracy are {} and {}.\".format(max(all_train_acc), max(all_val_acc)))"
   ]
  },
  {
   "cell_type": "code",
   "execution_count": 164,
   "metadata": {},
   "outputs": [
    {
     "data": {
      "image/png": "[encoded data removed]",
      "text/plain": [
       "<matplotlib.figure.Figure at 0x11176cef0>"
      ]
     },
     "metadata": {},
     "output_type": "display_data"
    }
   ],
   "source": [
    "# plot train acc and validation acc\n",
    "# n-gram, vocabulary_size, max_length, batch_size, embedding_dim, learning_rate, num_epochs\n",
    "title = 'unigram_10000_1000_64_100_0.01_10'\n",
    "plt.plot(all_train_acc, label='train acc')\n",
    "plt.plot(all_val_acc, label='val acc')\n",
    "plt.legend(loc='lower right')\n",
    "plt.xlabel(\"Steps\")\n",
    "plt.ylabel(\"Accuracy\")\n",
    "plt.title(title)\n",
    "plt.savefig(title + \".png\")"
   ]
  },
  {
   "cell_type": "code",
   "execution_count": 165,
   "metadata": {},
   "outputs": [
    {
     "name": "stdout",
     "output_type": "stream",
     "text": [
      "After training for 10 epochs\n",
      "Val Acc 85.26\n",
      "Test Acc 81.928\n",
      "Maximum training accuracy and maximum validation accuracy are 99.87 and 88.2.\n"
     ]
    }
   ],
   "source": [
    "print (\"After training for {} epochs\".format(num_epochs))\n",
    "print (\"Val Acc {}\".format(test_model(val_loader, model)))\n",
    "print (\"Test Acc {}\".format(test_model(test_loader, model)))\n",
    "print(\"Maximum training accuracy and maximum validation accuracy are {} and {}.\".format(max(all_train_acc), max(all_val_acc)))"
   ]
  },
  {
   "cell_type": "code",
   "execution_count": 141,
   "metadata": {},
   "outputs": [
    {
     "data": {
      "image/png": "[encoded data removed]",
      "text/plain": [
       "<matplotlib.figure.Figure at 0x111b59e10>"
      ]
     },
     "metadata": {},
     "output_type": "display_data"
    }
   ],
   "source": [
    "# plot train acc and validation acc\n",
    "# n-gram, vocabulary_size, max_length, batch_size, embedding_dim, learning_rate, num_epochs\n",
    "title = 'unigram_20000_1000_64_100_0.01_10'\n",
    "plt.plot(all_train_acc, label='train acc')\n",
    "plt.plot(all_val_acc, label='val acc')\n",
    "plt.legend(loc='lower right')\n",
    "plt.xlabel(\"Steps\")\n",
    "plt.ylabel(\"Accuracy\")\n",
    "plt.title(title)\n",
    "plt.savefig(title + \".png\")"
   ]
  },
  {
   "cell_type": "code",
   "execution_count": 139,
   "metadata": {},
   "outputs": [
    {
     "name": "stdout",
     "output_type": "stream",
     "text": [
      "After training for 10 epochs\n",
      "Val Acc 86.86\n",
      "Test Acc 83.508\n",
      "Maximum training accuracy and maximum validation accuracy are 100.0 and 88.8.\n"
     ]
    }
   ],
   "source": [
    "print (\"After training for {} epochs\".format(num_epochs))\n",
    "print (\"Val Acc {}\".format(test_model(val_loader, model)))\n",
    "print (\"Test Acc {}\".format(test_model(test_loader, model)))\n",
    "print(\"Maximum training accuracy and maximum validation accuracy are {} and {}.\".format(max(all_train_acc), max(all_val_acc)))"
   ]
  },
  {
   "cell_type": "code",
   "execution_count": 176,
   "metadata": {},
   "outputs": [
    {
     "data": {
      "image/png": "[encoded data removed]",
      "text/plain": [
       "<matplotlib.figure.Figure at 0x111d95a90>"
      ]
     },
     "metadata": {},
     "output_type": "display_data"
    }
   ],
   "source": [
    "# plot train acc and validation acc\n",
    "# n-gram, vocabulary_size, max_length, batch_size, embedding_dim, learning_rate, num_epochs\n",
    "title = 'unigram_40000_1000_64_100_0.01_10'\n",
    "plt.plot(all_train_acc, label='train acc')\n",
    "plt.plot(all_val_acc, label='val acc')\n",
    "plt.legend(loc='lower right')\n",
    "plt.xlabel(\"Steps\")\n",
    "plt.ylabel(\"Accuracy\")\n",
    "plt.title(title)\n",
    "plt.savefig(title + \".png\")"
   ]
  },
  {
   "cell_type": "code",
   "execution_count": 177,
   "metadata": {},
   "outputs": [
    {
     "name": "stdout",
     "output_type": "stream",
     "text": [
      "After training for 10 epochs\n",
      "Val Acc 87.08\n",
      "Test Acc 83.86\n",
      "Maximum training accuracy and maximum validation accuracy are 100.0 and 88.58.\n"
     ]
    }
   ],
   "source": [
    "print (\"After training for {} epochs\".format(num_epochs))\n",
    "print (\"Val Acc {}\".format(test_model(val_loader, model)))\n",
    "print (\"Test Acc {}\".format(test_model(test_loader, model)))\n",
    "print(\"Maximum training accuracy and maximum validation accuracy are {} and {}.\".format(max(all_train_acc), max(all_val_acc)))"
   ]
  },
  {
   "cell_type": "code",
   "execution_count": 183,
   "metadata": {},
   "outputs": [
    {
     "data": {
      "image/png": "[encoded data removed]",
      "text/plain": [
       "<matplotlib.figure.Figure at 0x1116ae208>"
      ]
     },
     "metadata": {},
     "output_type": "display_data"
    }
   ],
   "source": [
    "# Using sgd\n",
    "# plot train acc and validation acc\n",
    "# n-gram, vocabulary_size, max_length, batch_size, embedding_dim, learning_rate, num_epochs\n",
    "title = 'unigram_40000_1000_64_100_0.01_10_sgd'\n",
    "plt.plot(all_train_acc, label='train acc')\n",
    "plt.plot(all_val_acc, label='val acc')\n",
    "plt.legend(loc='lower right')\n",
    "plt.xlabel(\"Steps\")\n",
    "plt.ylabel(\"Accuracy\")\n",
    "plt.title(title)\n",
    "plt.savefig(title + \".png\")"
   ]
  },
  {
   "cell_type": "code",
   "execution_count": 184,
   "metadata": {},
   "outputs": [
    {
     "name": "stdout",
     "output_type": "stream",
     "text": [
      "After training for 10 epochs\n",
      "Val Acc 63.2\n",
      "Test Acc 64.008\n",
      "Maximum training accuracy and maximum validation accuracy are 65.58 and 63.58.\n"
     ]
    }
   ],
   "source": [
    "print (\"After training for {} epochs\".format(num_epochs))\n",
    "print (\"Val Acc {}\".format(test_model(val_loader, model)))\n",
    "print (\"Test Acc {}\".format(test_model(test_loader, model)))\n",
    "print(\"Maximum training accuracy and maximum validation accuracy are {} and {}.\".format(max(all_train_acc), max(all_val_acc)))"
   ]
  },
  {
   "cell_type": "code",
   "execution_count": 190,
   "metadata": {},
   "outputs": [
    {
     "data": {
      "image/png": "[encoded data removed]",
      "text/plain": [
       "<matplotlib.figure.Figure at 0x110cc3f60>"
      ]
     },
     "metadata": {},
     "output_type": "display_data"
    }
   ],
   "source": [
    "# plot train acc and validation acc\n",
    "# n-gram, vocabulary_size, max_length, batch_size, embedding_dim, learning_rate, num_epochs\n",
    "title = 'unigram_40000_1000_64_50_0.01_10'\n",
    "plt.plot(all_train_acc, label='train acc')\n",
    "plt.plot(all_val_acc, label='val acc')\n",
    "plt.legend(loc='lower right')\n",
    "plt.xlabel(\"Steps\")\n",
    "plt.ylabel(\"Accuracy\")\n",
    "plt.title(title)\n",
    "plt.savefig(title + \".png\")"
   ]
  },
  {
   "cell_type": "code",
   "execution_count": 191,
   "metadata": {},
   "outputs": [
    {
     "name": "stdout",
     "output_type": "stream",
     "text": [
      "After training for 10 epochs\n",
      "Val Acc 87.32\n",
      "Test Acc 83.616\n",
      "Maximum training accuracy and maximum validation accuracy are 100.0 and 88.5.\n"
     ]
    }
   ],
   "source": [
    "print (\"After training for {} epochs\".format(num_epochs))\n",
    "print (\"Val Acc {}\".format(test_model(val_loader, model)))\n",
    "print (\"Test Acc {}\".format(test_model(test_loader, model)))\n",
    "print(\"Maximum training accuracy and maximum validation accuracy are {} and {}.\".format(max(all_train_acc), max(all_val_acc)))"
   ]
  },
  {
   "cell_type": "code",
   "execution_count": 196,
   "metadata": {},
   "outputs": [
    {
     "data": {
      "image/png": "[encoded data removed]",
      "text/plain": [
       "<matplotlib.figure.Figure at 0x111da7080>"
      ]
     },
     "metadata": {},
     "output_type": "display_data"
    }
   ],
   "source": [
    "# plot train acc and validation acc\n",
    "# n-gram, vocabulary_size, max_length, batch_size, embedding_dim, learning_rate, num_epochs\n",
    "title = 'unigram_40000_1000_64_200_0.01_10'\n",
    "plt.plot(all_train_acc, label='train acc')\n",
    "plt.plot(all_val_acc, label='val acc')\n",
    "plt.legend(loc='lower right')\n",
    "plt.xlabel(\"Steps\")\n",
    "plt.ylabel(\"Accuracy\")\n",
    "plt.title(title)\n",
    "plt.savefig(title + \".png\")"
   ]
  },
  {
   "cell_type": "code",
   "execution_count": 197,
   "metadata": {},
   "outputs": [
    {
     "name": "stdout",
     "output_type": "stream",
     "text": [
      "After training for 10 epochs\n",
      "Val Acc 87.18\n",
      "Test Acc 83.132\n",
      "Maximum training accuracy and maximum validation accuracy are 100.0 and 88.66.\n"
     ]
    }
   ],
   "source": [
    "print (\"After training for {} epochs\".format(num_epochs))\n",
    "print (\"Val Acc {}\".format(test_model(val_loader, model)))\n",
    "print (\"Test Acc {}\".format(test_model(test_loader, model)))\n",
    "print(\"Maximum training accuracy and maximum validation accuracy are {} and {}.\".format(max(all_train_acc), max(all_val_acc)))"
   ]
  },
  {
   "cell_type": "code",
   "execution_count": 202,
   "metadata": {},
   "outputs": [
    {
     "data": {
      "image/png": "[encoded data removed]",
      "text/plain": [
       "<matplotlib.figure.Figure at 0x111fe0d68>"
      ]
     },
     "metadata": {},
     "output_type": "display_data"
    }
   ],
   "source": [
    "# plot train acc and validation acc\n",
    "# n-gram, vocabulary_size, max_length, batch_size, embedding_dim, learning_rate, num_epochs\n",
    "title = 'unigram_40000_1000_64_400_0.01_10'\n",
    "plt.plot(all_train_acc, label='train acc')\n",
    "plt.plot(all_val_acc, label='val acc')\n",
    "plt.legend(loc='lower right')\n",
    "plt.xlabel(\"Steps\")\n",
    "plt.ylabel(\"Accuracy\")\n",
    "plt.title(title)\n",
    "plt.savefig(title + \".png\")"
   ]
  },
  {
   "cell_type": "code",
   "execution_count": 203,
   "metadata": {},
   "outputs": [
    {
     "name": "stdout",
     "output_type": "stream",
     "text": [
      "After training for 10 epochs\n",
      "Val Acc 86.86\n",
      "Test Acc 83.204\n",
      "Maximum training accuracy and maximum validation accuracy are 100.0 and 88.06.\n"
     ]
    }
   ],
   "source": [
    "print (\"After training for {} epochs\".format(num_epochs))\n",
    "print (\"Val Acc {}\".format(test_model(val_loader, model)))\n",
    "print (\"Test Acc {}\".format(test_model(test_loader, model)))\n",
    "print(\"Maximum training accuracy and maximum validation accuracy are {} and {}.\".format(max(all_train_acc), max(all_val_acc)))"
   ]
  },
  {
   "cell_type": "code",
   "execution_count": 241,
   "metadata": {},
   "outputs": [
    {
     "data": {
      "image/png": "[encoded data removed]",
      "text/plain": [
       "<matplotlib.figure.Figure at 0x111b59080>"
      ]
     },
     "metadata": {},
     "output_type": "display_data"
    }
   ],
   "source": [
    "# plot train acc and validation acc\n",
    "# n-gram, vocabulary_size, max_length, batch_size, embedding_dim, learning_rate, num_epochs\n",
    "title = 'bigram_40000_1000_64_100_0.01_10'\n",
    "plt.plot(all_train_acc, label='train acc')\n",
    "plt.plot(all_val_acc, label='val acc')\n",
    "plt.legend(loc='lower right')\n",
    "plt.xlabel(\"Steps\")\n",
    "plt.ylabel(\"Accuracy\")\n",
    "plt.title(title)\n",
    "plt.savefig(title + \".png\")"
   ]
  },
  {
   "cell_type": "code",
   "execution_count": 242,
   "metadata": {},
   "outputs": [
    {
     "name": "stdout",
     "output_type": "stream",
     "text": [
      "After training for 10 epochs\n",
      "Val Acc 88.88\n",
      "Test Acc 86.432\n",
      "Maximum training accuracy and maximum validation accuracy are 100.0 and 89.5.\n"
     ]
    }
   ],
   "source": [
    "print (\"After training for {} epochs\".format(num_epochs))\n",
    "print (\"Val Acc {}\".format(test_model(val_loader, model)))\n",
    "print (\"Test Acc {}\".format(test_model(test_loader, model)))\n",
    "print(\"Maximum training accuracy and maximum validation accuracy are {} and {}.\".format(max(all_train_acc), max(all_val_acc)))"
   ]
  },
  {
   "cell_type": "code",
   "execution_count": 258,
   "metadata": {},
   "outputs": [
    {
     "data": {
      "image/png": "[encoded data removed]",
      "text/plain": [
       "<matplotlib.figure.Figure at 0x1123a83c8>"
      ]
     },
     "metadata": {},
     "output_type": "display_data"
    }
   ],
   "source": [
    "# plot train acc and validation acc\n",
    "# n-gram, vocabulary_size, max_length, batch_size, embedding_dim, learning_rate, num_epochs\n",
    "title = 'trigram_40000_1000_64_100_0.01_10'\n",
    "plt.plot(all_train_acc, label='train acc')\n",
    "plt.plot(all_val_acc, label='val acc')\n",
    "plt.legend(loc='lower right')\n",
    "plt.xlabel(\"Steps\")\n",
    "plt.ylabel(\"Accuracy\")\n",
    "plt.title(title)\n",
    "plt.savefig(title + \".png\")"
   ]
  },
  {
   "cell_type": "code",
   "execution_count": 259,
   "metadata": {},
   "outputs": [
    {
     "name": "stdout",
     "output_type": "stream",
     "text": [
      "After training for 10 epochs\n",
      "Val Acc 88.66\n",
      "Test Acc 86.152\n",
      "Maximum training accuracy and maximum validation accuracy are 100.0 and 89.46.\n"
     ]
    }
   ],
   "source": [
    "print (\"After training for {} epochs\".format(num_epochs))\n",
    "print (\"Val Acc {}\".format(test_model(val_loader, model)))\n",
    "print (\"Test Acc {}\".format(test_model(test_loader, model)))\n",
    "print(\"Maximum training accuracy and maximum validation accuracy are {} and {}.\".format(max(all_train_acc), max(all_val_acc)))"
   ]
  },
  {
   "cell_type": "code",
   "execution_count": null,
   "metadata": {
    "collapsed": true
   },
   "outputs": [],
   "source": [
    "# plot train acc and validation acc\n",
    "# n-gram, vocabulary_size, max_length, batch_size, embedding_dim, learning_rate, num_epochs\n",
    "title = '4gram_40000_1000_64_100_0.01_10'\n",
    "plt.plot(all_train_acc, label='train acc')\n",
    "plt.plot(all_val_acc, label='val acc')\n",
    "plt.legend(loc='lower right')\n",
    "plt.xlabel(\"Steps\")\n",
    "plt.ylabel(\"Accuracy\")\n",
    "plt.title(title)\n",
    "plt.savefig(title + \".png\")"
   ]
  },
  {
   "cell_type": "code",
   "execution_count": null,
   "metadata": {
    "collapsed": true
   },
   "outputs": [],
   "source": [
    "print (\"After training for {} epochs\".format(num_epochs))\n",
    "print (\"Val Acc {}\".format(test_model(val_loader, model)))\n",
    "print (\"Test Acc {}\".format(test_model(test_loader, model)))\n",
    "print(\"Maximum training accuracy and maximum validation accuracy are {} and {}.\".format(max(all_train_acc), max(all_val_acc)))"
   ]
  },
  {
   "cell_type": "code",
   "execution_count": null,
   "metadata": {
    "collapsed": true
   },
   "outputs": [],
   "source": []
  },
  {
   "cell_type": "code",
   "execution_count": null,
   "metadata": {
    "collapsed": true
   },
   "outputs": [],
   "source": []
  },
  {
   "cell_type": "code",
   "execution_count": null,
   "metadata": {
    "collapsed": true
   },
   "outputs": [],
   "source": []
  },
  {
   "cell_type": "code",
   "execution_count": null,
   "metadata": {
    "collapsed": true
   },
   "outputs": [],
   "source": []
  },
  {
   "cell_type": "code",
   "execution_count": null,
   "metadata": {
    "collapsed": true
   },
   "outputs": [],
   "source": []
  }
 ],
 "metadata": {
  "kernelspec": {
   "display_name": "Python 3",
   "language": "python",
   "name": "python3"
  },
  "language_info": {
   "codemirror_mode": {
    "name": "ipython",
    "version": 3
   },
   "file_extension": ".py",
   "mimetype": "text/x-python",
   "name": "python",
   "nbconvert_exporter": "python",
   "pygments_lexer": "ipython3",
   "version": "3.6.1"
  }
 },
 "nbformat": 4,
 "nbformat_minor": 2
}

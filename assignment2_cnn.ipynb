{
 "cells": [
  {
   "cell_type": "code",
   "execution_count": 3,
   "metadata": {
    "collapsed": true
   },
   "outputs": [],
   "source": [
    "import os\n",
    "import torch\n",
    "import numpy as np\n",
    "import pandas as pd\n",
    "import nltk\n",
    "import random\n",
    "from collections import Counter\n",
    "from nltk import word_tokenize\n",
    "from nltk.stem import WordNetLemmatizer\n",
    "from nltk.corpus import stopwords\n",
    "from torch.utils.data import Dataset\n",
    "import torch.nn as nn\n",
    "import torch.nn.functional as F\n",
    "import matplotlib.pyplot as plt\n",
    "%matplotlib inline"
   ]
  },
  {
   "cell_type": "markdown",
   "metadata": {},
   "source": [
    "### Load Data and Data Preprocessing"
   ]
  },
  {
   "cell_type": "code",
   "execution_count": 2,
   "metadata": {
    "collapsed": true
   },
   "outputs": [],
   "source": [
    "# specify date type and device type\n",
    "dtype = torch.float\n",
    "device = torch.device(\"cpu\")"
   ]
  },
  {
   "cell_type": "code",
   "execution_count": 6,
   "metadata": {},
   "outputs": [
    {
     "data": {
      "text/html": [
       "<div>\n",
       "<style>\n",
       "    .dataframe thead tr:only-child th {\n",
       "        text-align: right;\n",
       "    }\n",
       "\n",
       "    .dataframe thead th {\n",
       "        text-align: left;\n",
       "    }\n",
       "\n",
       "    .dataframe tbody tr th {\n",
       "        vertical-align: top;\n",
       "    }\n",
       "</style>\n",
       "<table border=\"1\" class=\"dataframe\">\n",
       "  <thead>\n",
       "    <tr style=\"text-align: right;\">\n",
       "      <th></th>\n",
       "      <th>sentence1</th>\n",
       "      <th>sentence2</th>\n",
       "      <th>label</th>\n",
       "    </tr>\n",
       "  </thead>\n",
       "  <tbody>\n",
       "    <tr>\n",
       "      <th>0</th>\n",
       "      <td>A young girl in a pink shirt sitting on a dock...</td>\n",
       "      <td>A young girl watching the sunset over the water .</td>\n",
       "      <td>neutral</td>\n",
       "    </tr>\n",
       "    <tr>\n",
       "      <th>1</th>\n",
       "      <td>A woman is smiling while the man next to her i...</td>\n",
       "      <td>Two people are next to each other .</td>\n",
       "      <td>entailment</td>\n",
       "    </tr>\n",
       "    <tr>\n",
       "      <th>2</th>\n",
       "      <td>Across the river , you can see a large building .</td>\n",
       "      <td>The large building is full of apartments and t...</td>\n",
       "      <td>neutral</td>\n",
       "    </tr>\n",
       "    <tr>\n",
       "      <th>3</th>\n",
       "      <td>a man in white shorts and a black shirt is par...</td>\n",
       "      <td>A man is riding a jetski on the ocean .</td>\n",
       "      <td>contradiction</td>\n",
       "    </tr>\n",
       "    <tr>\n",
       "      <th>4</th>\n",
       "      <td>Four black dogs run together on bright green g...</td>\n",
       "      <td>Four dogs are preparing to be launched into sp...</td>\n",
       "      <td>contradiction</td>\n",
       "    </tr>\n",
       "  </tbody>\n",
       "</table>\n",
       "</div>"
      ],
      "text/plain": [
       "                                           sentence1  \\\n",
       "0  A young girl in a pink shirt sitting on a dock...   \n",
       "1  A woman is smiling while the man next to her i...   \n",
       "2  Across the river , you can see a large building .   \n",
       "3  a man in white shorts and a black shirt is par...   \n",
       "4  Four black dogs run together on bright green g...   \n",
       "\n",
       "                                           sentence2          label  \n",
       "0  A young girl watching the sunset over the water .        neutral  \n",
       "1                Two people are next to each other .     entailment  \n",
       "2  The large building is full of apartments and t...        neutral  \n",
       "3            A man is riding a jetski on the ocean .  contradiction  \n",
       "4  Four dogs are preparing to be launched into sp...  contradiction  "
      ]
     },
     "execution_count": 6,
     "metadata": {},
     "output_type": "execute_result"
    }
   ],
   "source": [
    "# initial peek of the training set\n",
    "data = pd.read_csv(\"./hw2_data/snli_train.tsv\", sep='\\t', header = 0)\n",
    "data.head()"
   ]
  },
  {
   "cell_type": "code",
   "execution_count": 20,
   "metadata": {},
   "outputs": [
    {
     "data": {
      "text/html": [
       "<div>\n",
       "<style>\n",
       "    .dataframe thead tr:only-child th {\n",
       "        text-align: right;\n",
       "    }\n",
       "\n",
       "    .dataframe thead th {\n",
       "        text-align: left;\n",
       "    }\n",
       "\n",
       "    .dataframe tbody tr th {\n",
       "        vertical-align: top;\n",
       "    }\n",
       "</style>\n",
       "<table border=\"1\" class=\"dataframe\">\n",
       "  <thead>\n",
       "    <tr style=\"text-align: right;\">\n",
       "      <th></th>\n",
       "      <th>sentence1</th>\n",
       "      <th>sentence2</th>\n",
       "      <th>label</th>\n",
       "    </tr>\n",
       "  </thead>\n",
       "  <tbody>\n",
       "    <tr>\n",
       "      <th>0</th>\n",
       "      <td>Three women on a stage , one wearing red shoes...</td>\n",
       "      <td>There are two women standing on the stage</td>\n",
       "      <td>contradiction</td>\n",
       "    </tr>\n",
       "    <tr>\n",
       "      <th>1</th>\n",
       "      <td>Four people sit on a subway two read books , o...</td>\n",
       "      <td>Multiple people are on a subway together , wit...</td>\n",
       "      <td>entailment</td>\n",
       "    </tr>\n",
       "    <tr>\n",
       "      <th>2</th>\n",
       "      <td>bicycles stationed while a group of people soc...</td>\n",
       "      <td>People get together near a stand of bicycles .</td>\n",
       "      <td>entailment</td>\n",
       "    </tr>\n",
       "    <tr>\n",
       "      <th>3</th>\n",
       "      <td>Man in overalls with two horses .</td>\n",
       "      <td>a man in overalls with two horses</td>\n",
       "      <td>entailment</td>\n",
       "    </tr>\n",
       "    <tr>\n",
       "      <th>4</th>\n",
       "      <td>Man observes a wavelength given off by an elec...</td>\n",
       "      <td>The man is examining what wavelength is given ...</td>\n",
       "      <td>entailment</td>\n",
       "    </tr>\n",
       "  </tbody>\n",
       "</table>\n",
       "</div>"
      ],
      "text/plain": [
       "                                           sentence1  \\\n",
       "0  Three women on a stage , one wearing red shoes...   \n",
       "1  Four people sit on a subway two read books , o...   \n",
       "2  bicycles stationed while a group of people soc...   \n",
       "3                  Man in overalls with two horses .   \n",
       "4  Man observes a wavelength given off by an elec...   \n",
       "\n",
       "                                           sentence2          label  \n",
       "0          There are two women standing on the stage  contradiction  \n",
       "1  Multiple people are on a subway together , wit...     entailment  \n",
       "2     People get together near a stand of bicycles .     entailment  \n",
       "3                  a man in overalls with two horses     entailment  \n",
       "4  The man is examining what wavelength is given ...     entailment  "
      ]
     },
     "execution_count": 20,
     "metadata": {},
     "output_type": "execute_result"
    }
   ],
   "source": [
    "# initial peek of the validation set\n",
    "vali = pd.read_csv(\"./hw2_data/snli_val.tsv\", sep='\\t', header = 0)\n",
    "vali.head()"
   ]
  },
  {
   "cell_type": "code",
   "execution_count": 26,
   "metadata": {},
   "outputs": [
    {
     "data": {
      "text/plain": [
       "((100000, 3), (1000, 3))"
      ]
     },
     "execution_count": 26,
     "metadata": {},
     "output_type": "execute_result"
    }
   ],
   "source": [
    "# get shape of the data\n",
    "data.shape, vali.shape"
   ]
  },
  {
   "cell_type": "code",
   "execution_count": 8,
   "metadata": {},
   "outputs": [
    {
     "data": {
      "text/plain": [
       "sentence1    0\n",
       "sentence2    0\n",
       "label        0\n",
       "dtype: int64"
      ]
     },
     "execution_count": 8,
     "metadata": {},
     "output_type": "execute_result"
    }
   ],
   "source": [
    "# check for any missing values\n",
    "data.isnull().sum(axis = 0)"
   ]
  },
  {
   "cell_type": "code",
   "execution_count": 22,
   "metadata": {},
   "outputs": [
    {
     "data": {
      "text/plain": [
       "sentence1    0\n",
       "sentence2    0\n",
       "label        0\n",
       "dtype: int64"
      ]
     },
     "execution_count": 22,
     "metadata": {},
     "output_type": "execute_result"
    }
   ],
   "source": [
    "# check for any missing values\n",
    "vali.isnull().sum(axis = 0)"
   ]
  },
  {
   "cell_type": "code",
   "execution_count": 10,
   "metadata": {
    "collapsed": true
   },
   "outputs": [],
   "source": [
    "label_idx = {\"entailment\": 0, \"contradiction\": 1, \"neutral\": 2}"
   ]
  },
  {
   "cell_type": "code",
   "execution_count": 13,
   "metadata": {
    "collapsed": true
   },
   "outputs": [],
   "source": [
    "def load_data(PATH_TO_FILE):\n",
    "    data = pd.read_csv(PATH_TO_FILE, sep='\\t', header=0)\n",
    "    s1_text = []\n",
    "    s2_text = []\n",
    "    label = []\n",
    "    for idx, row in data.iterrows():\n",
    "        s1 = row['sentence1'].lower()\n",
    "        s2 = row['sentence2'].lower()\n",
    "        label.append(label_idx[row['label'].lower()])\n",
    "        s1_text.append(s1.split())\n",
    "        s2_text.append(s2.split())\n",
    "    return s1_text, s2_text, label"
   ]
  },
  {
   "cell_type": "code",
   "execution_count": 14,
   "metadata": {
    "collapsed": true
   },
   "outputs": [],
   "source": [
    "train_s1_text, train_s2_text, train_label = load_data(\"./hw2_data/snli_train.tsv\")"
   ]
  },
  {
   "cell_type": "code",
   "execution_count": 18,
   "metadata": {
    "collapsed": true
   },
   "outputs": [],
   "source": [
    "val_s1_text, val_s2_text, val_label = load_data(\"./hw2_data/snli_val.tsv\")"
   ]
  },
  {
   "cell_type": "code",
   "execution_count": 17,
   "metadata": {},
   "outputs": [
    {
     "name": "stdout",
     "output_type": "stream",
     "text": [
      "100000 100000 100000\n"
     ]
    }
   ],
   "source": [
    "# print size of the training set\n",
    "print(len(train_s1_text), len(train_s2_text), len(train_label))"
   ]
  },
  {
   "cell_type": "code",
   "execution_count": 19,
   "metadata": {},
   "outputs": [
    {
     "name": "stdout",
     "output_type": "stream",
     "text": [
      "1000 1000 1000\n"
     ]
    }
   ],
   "source": [
    "# print size of the validation set\n",
    "print(len(val_s1_text), len(val_s2_text), len(val_label))"
   ]
  },
  {
   "cell_type": "code",
   "execution_count": 25,
   "metadata": {},
   "outputs": [
    {
     "data": {
      "text/plain": [
       "True"
      ]
     },
     "execution_count": 25,
     "metadata": {},
     "output_type": "execute_result"
    }
   ],
   "source": [
    "# check all labels are numerical by now\n",
    "all(type(item)==int for item in train_label)\n",
    "all(type(item)==int for item in val_label)"
   ]
  },
  {
   "cell_type": "code",
   "execution_count": 27,
   "metadata": {
    "collapsed": true
   },
   "outputs": [],
   "source": [
    "PAD_IDX = 0\n",
    "UNK_IDX = 1"
   ]
  },
  {
   "cell_type": "code",
   "execution_count": 38,
   "metadata": {
    "collapsed": true
   },
   "outputs": [],
   "source": [
    "def get_num_unique(d):\n",
    "    unique = set()\n",
    "    for l in d:\n",
    "        for w in l:\n",
    "            unique.add(w)\n",
    "    return len(unique)"
   ]
  },
  {
   "cell_type": "code",
   "execution_count": 85,
   "metadata": {},
   "outputs": [
    {
     "name": "stdout",
     "output_type": "stream",
     "text": [
      "15189 15699 21023\n"
     ]
    }
   ],
   "source": [
    "TRAIN_S1_VOCAB_SIZE = get_num_unique(train_s1_text)\n",
    "TRAIN_S2_VOCAB_SIZE = get_num_unique(train_s2_text)\n",
    "TRAIN_VOCAB_SIZE = get_num_unique(train_s1_text + train_s2_text)\n",
    "print(TRAIN_S1_VOCAB_SIZE, TRAIN_S2_VOCAB_SIZE, TRAIN_VOCAB_SIZE)"
   ]
  },
  {
   "cell_type": "code",
   "execution_count": 54,
   "metadata": {},
   "outputs": [
    {
     "name": "stdout",
     "output_type": "stream",
     "text": [
      "1403863 824202 2228065\n"
     ]
    }
   ],
   "source": [
    "all_train_s1_tokens = [token for sublist in train_s1_text for token in sublist]\n",
    "all_train_s2_tokens = [token for sublist in train_s2_text for token in sublist]\n",
    "all_train_tokens = all_train_s1_tokens + all_train_s2_tokens\n",
    "print(len(all_train_s1_tokens), len(all_train_s2_tokens), len(all_train_tokens))"
   ]
  },
  {
   "cell_type": "code",
   "execution_count": 70,
   "metadata": {
    "collapsed": true
   },
   "outputs": [],
   "source": [
    "def build_vocab(all_tokens, MAX_VOCAB_SIZE):\n",
    "    # Returns:\n",
    "    # id2token: list of tokens, where id2token[i] returns token that corresponds to token i\n",
    "    # token2id: dictionary where keys represent tokens and corresponding values represent indices\n",
    "    token_counter = Counter(all_tokens)\n",
    "    vocab, count = zip(*token_counter.most_common(MAX_VOCAB_SIZE))\n",
    "    id2token = list(vocab)\n",
    "    token2id = dict(zip(vocab, range(2,2+len(vocab))))\n",
    "    id2token = ['PAD', 'UNK'] + id2token\n",
    "    token2id['PAD'] = PAD_IDX\n",
    "    token2id['UNK'] = UNK_IDX\n",
    "    return token2id, id2token"
   ]
  },
  {
   "cell_type": "code",
   "execution_count": 71,
   "metadata": {
    "collapsed": true
   },
   "outputs": [],
   "source": [
    "token2id, id2token = build_vocab(all_train_tokens, TRAIN_VOCAB_SIZE)"
   ]
  },
  {
   "cell_type": "code",
   "execution_count": 87,
   "metadata": {
    "collapsed": true
   },
   "outputs": [],
   "source": [
    "# ADDED 'PAD' and 'UNK' into our vocabulary\n",
    "TRAIN_VOCAB_SIZE += 2"
   ]
  },
  {
   "cell_type": "code",
   "execution_count": 72,
   "metadata": {},
   "outputs": [
    {
     "name": "stdout",
     "output_type": "stream",
     "text": [
      "Token id 7261 ; token reports\n",
      "Token reports; token id 7261\n"
     ]
    }
   ],
   "source": [
    "# Lets check the dictionary by loading random token from it\n",
    "\n",
    "random_token_id = random.randint(0, len(id2token)-1)\n",
    "random_token = id2token[random_token_id]\n",
    "\n",
    "print (\"Token id {} ; token {}\".format(random_token_id, id2token[random_token_id]))\n",
    "print (\"Token {}; token id {}\".format(random_token, token2id[random_token]))"
   ]
  },
  {
   "cell_type": "code",
   "execution_count": 73,
   "metadata": {
    "collapsed": true
   },
   "outputs": [],
   "source": [
    "# convert token to id in the dataset\n",
    "def token2index_dataset(tokens_data):\n",
    "    indices_data = []\n",
    "    for tokens in tokens_data:\n",
    "        index_list = [token2id[token] if token in token2id else UNK_IDX for token in tokens]\n",
    "        indices_data.append(index_list)\n",
    "    return indices_data"
   ]
  },
  {
   "cell_type": "code",
   "execution_count": 74,
   "metadata": {
    "collapsed": true
   },
   "outputs": [],
   "source": [
    "train_s1_indices = token2index_dataset(train_s1_text)\n",
    "train_s2_indices = token2index_dataset(train_s2_text)\n",
    "val_s1_indices = token2index_dataset(val_s1_text)\n",
    "val_s2_indices = token2index_dataset(val_s2_text)"
   ]
  },
  {
   "cell_type": "code",
   "execution_count": 75,
   "metadata": {},
   "outputs": [
    {
     "name": "stdout",
     "output_type": "stream",
     "text": [
      "Sentence 1 train dataset size is 100000\n",
      "Sentence 2 train dataset size is 100000\n",
      "Sentence 1 val dataset size is 1000\n",
      "Sentence 2 val dataset size is 1000\n"
     ]
    }
   ],
   "source": [
    "# double checking\n",
    "print (\"Sentence 1 train dataset size is {}\".format(len(train_s1_indices)))\n",
    "print (\"Sentence 2 train dataset size is {}\".format(len(train_s2_indices)))\n",
    "print (\"Sentence 1 val dataset size is {}\".format(len(val_s1_indices)))\n",
    "print (\"Sentence 2 val dataset size is {}\".format(len(val_s2_indices)))"
   ]
  },
  {
   "cell_type": "code",
   "execution_count": 76,
   "metadata": {},
   "outputs": [
    {
     "name": "stdout",
     "output_type": "stream",
     "text": [
      "82 41 82\n"
     ]
    }
   ],
   "source": [
    "# get maximum sentence length\n",
    "S1_MAX_SENTENCE_LENGTH = max([len(sublist) for sublist in train_s1_text])\n",
    "S2_MAX_SENTENCE_LENGTH = max([len(sublist) for sublist in train_s2_text])\n",
    "MAX_SENTENCE_LENGTH = max(S1_MAX_SENTENCE_LENGTH, S2_MAX_SENTENCE_LENGTH)\n",
    "print(S1_MAX_SENTENCE_LENGTH, S2_MAX_SENTENCE_LENGTH, MAX_SENTENCE_LENGTH)"
   ]
  },
  {
   "cell_type": "code",
   "execution_count": 96,
   "metadata": {},
   "outputs": [
    {
     "data": {
      "text/plain": [
       "True"
      ]
     },
     "execution_count": 96,
     "metadata": {},
     "output_type": "execute_result"
    }
   ],
   "source": [
    "TRAIN_VOCAB_SIZE == len(token2id) == len(id2token)"
   ]
  },
  {
   "cell_type": "markdown",
   "metadata": {},
   "source": [
    "### Get Pretrained Word Vectors"
   ]
  },
  {
   "cell_type": "code",
   "execution_count": 90,
   "metadata": {
    "collapsed": true
   },
   "outputs": [],
   "source": [
    "# load fasttext pretrained word vectors\n",
    "with open('./crawl-300d-2M.vec') as f:\n",
    "    embedding_matrix = np.zeros((TRAIN_VOCAB_SIZE, 300))\n",
    "    for i, line in enumerate(f):\n",
    "        s = line.split()\n",
    "        w = s[0].lower()\n",
    "        v = np.asarray(s[1:])\n",
    "        if w in token2id:\n",
    "            embedding_matrix[token2id[w], :] = v\n",
    "#         loaded_embeddings[i, :] = np.asarray(s[1:])"
   ]
  },
  {
   "cell_type": "code",
   "execution_count": 97,
   "metadata": {
    "collapsed": true
   },
   "outputs": [],
   "source": [
    "# save embedding_matrix for future use\n",
    "np.save('embedding_matrix.npy', embedding_matrix)"
   ]
  },
  {
   "cell_type": "code",
   "execution_count": null,
   "metadata": {
    "collapsed": true
   },
   "outputs": [],
   "source": [
    "# load saved embedding_matrix\n",
    "embedding_matrix = np.load('embedding_matrix.npy')"
   ]
  },
  {
   "cell_type": "code",
   "execution_count": 98,
   "metadata": {},
   "outputs": [
    {
     "data": {
      "text/plain": [
       "(21025, 300)"
      ]
     },
     "execution_count": 98,
     "metadata": {},
     "output_type": "execute_result"
    }
   ],
   "source": [
    "# print shape of the embedding matrix\n",
    "embedding_matrix.shape"
   ]
  },
  {
   "cell_type": "markdown",
   "metadata": {},
   "source": [
    "### Create Data Loader"
   ]
  },
  {
   "cell_type": "code",
   "execution_count": 157,
   "metadata": {
    "collapsed": true
   },
   "outputs": [],
   "source": [
    "class SnilDataset(Dataset):\n",
    "    \"\"\"\n",
    "    Class that represents a train/validation/test dataset that's readable for PyTorch\n",
    "    Note that this class inherits torch.utils.data.Dataset\n",
    "    \"\"\"\n",
    "\n",
    "    def __init__(self, s1_data_list, s2_data_list, target_list, token2id):\n",
    "        \"\"\"\n",
    "        @param data_list: list of tokens\n",
    "        @param target_list: list of targets\n",
    "\n",
    "        \"\"\"\n",
    "        self.s1_data_list, self.s2_data_list, self.target_list = s1_data_list, s2_data_list, target_list\n",
    "        assert(len(self.s1_data_list) == len(self.target_list))\n",
    "        assert(len(self.s2_data_list) == len(self.target_list))\n",
    "        self.token2id = token2id\n",
    "\n",
    "    def __len__(self):\n",
    "        return len(self.s1_data_list)\n",
    "\n",
    "    def __getitem__(self, key):\n",
    "        \"\"\"\n",
    "        Triggered when you call dataset[i]\n",
    "        \"\"\"\n",
    "        s1_token_idx = self.s1_data_list[key][:MAX_SENTENCE_LENGTH]\n",
    "        s2_token_idx = self.s2_data_list[key][:MAX_SENTENCE_LENGTH]\n",
    "        label = self.target_list[key]\n",
    "        return [s1_token_idx, s2_token_idx, len(s1_token_idx), len(s2_token_idx), label]"
   ]
  },
  {
   "cell_type": "code",
   "execution_count": 164,
   "metadata": {
    "collapsed": true
   },
   "outputs": [],
   "source": [
    "def collate_func(batch):\n",
    "    \"\"\"\n",
    "    Customized function for DataLoader that dynamically pads the batch so that all\n",
    "    data have the same length\n",
    "    \"\"\"\n",
    "    s1_data_list = []\n",
    "    s2_data_list = []\n",
    "    label_list = []\n",
    "    s1_length_list = []\n",
    "    s2_length_list = []\n",
    "\n",
    "    for datum in batch:\n",
    "        label_list.append(datum[4])\n",
    "        s1_length_list.append(datum[2])\n",
    "        s2_length_list.append(datum[3])\n",
    "    for datum in batch:\n",
    "        s1_padded_vec = np.pad(np.array(datum[0]),\n",
    "                                pad_width=((0,MAX_SENTENCE_LENGTH-datum[2])),\n",
    "                                mode=\"constant\", constant_values=0)\n",
    "        s1_data_list.append(s1_padded_vec)\n",
    "        s2_padded_vec = np.pad(np.array(datum[1]),\n",
    "                                pad_width=((0,MAX_SENTENCE_LENGTH-datum[3])),\n",
    "                                mode=\"constant\", constant_values=0)\n",
    "        s2_data_list.append(s2_padded_vec)\n",
    "    return [torch.from_numpy(np.array(s1_data_list)), torch.from_numpy(np.array(s2_data_list)), torch.LongTensor(s1_length_list), torch.LongTensor(s2_length_list), torch.LongTensor(label_list)]"
   ]
  },
  {
   "cell_type": "code",
   "execution_count": 165,
   "metadata": {
    "collapsed": true
   },
   "outputs": [],
   "source": [
    "BATCH_SIZE = 128\n",
    "train_dataset = SnilDataset(train_s1_indices, train_s2_indices, train_label, token2id)\n",
    "train_loader = torch.utils.data.DataLoader(dataset=train_dataset, \n",
    "                                           batch_size=BATCH_SIZE,\n",
    "                                           collate_fn=collate_func,\n",
    "                                           shuffle=False)"
   ]
  },
  {
   "cell_type": "code",
   "execution_count": 168,
   "metadata": {
    "collapsed": true
   },
   "outputs": [],
   "source": [
    "val_dataset = SnilDataset(val_s1_indices, val_s2_indices, val_label, token2id)\n",
    "val_loader = torch.utils.data.DataLoader(dataset=train_dataset, \n",
    "                                           batch_size=BATCH_SIZE,\n",
    "                                           collate_fn=collate_func,\n",
    "                                           shuffle=False)"
   ]
  },
  {
   "cell_type": "code",
   "execution_count": 167,
   "metadata": {},
   "outputs": [
    {
     "name": "stdout",
     "output_type": "stream",
     "text": [
      "tensor([[   2,   22,   24,  ...,    0,    0,    0],\n",
      "        [   2,   13,    6,  ...,    0,    0,    0],\n",
      "        [ 229,    4,  305,  ...,    0,    0,    0],\n",
      "        ...,\n",
      "        [ 458,  395,   55,  ...,    0,    0,    0],\n",
      "        [  15,   10,   42,  ...,    0,    0,    0],\n",
      "        [   2,    7, 1917,  ...,    0,    0,    0]])\n",
      "tensor([[  2,  22,  24,  ...,   0,   0,   0],\n",
      "        [ 14,  15,  10,  ...,   0,   0,   0],\n",
      "        [  4,  63,  73,  ...,   0,   0,   0],\n",
      "        ...,\n",
      "        [ 30, 130,  10,  ...,   0,   0,   0],\n",
      "        [ 51,  10,  15,  ...,   0,   0,   0],\n",
      "        [  4,   7,   6,  ...,   0,   0,   0]])\n",
      "128\n",
      "128\n",
      "tensor([2, 0, 2, 1, 1, 0, 1, 2, 0, 0, 2, 1, 1, 0, 0, 2, 2, 2, 1, 0, 1, 2, 2, 2,\n",
      "        2, 0, 2, 0, 0, 2, 2, 1, 0, 1, 0, 1, 2, 1, 2, 1, 0, 2, 2, 1, 0, 1, 2, 1,\n",
      "        0, 0, 2, 0, 0, 1, 0, 2, 1, 0, 0, 0, 0, 2, 0, 0, 0, 0, 2, 0, 0, 0, 1, 2,\n",
      "        2, 2, 2, 2, 0, 1, 0, 1, 2, 1, 2, 1, 1, 2, 0, 1, 0, 1, 2, 2, 1, 1, 2, 1,\n",
      "        1, 1, 1, 0, 2, 1, 1, 1, 0, 0, 0, 0, 1, 1, 1, 2, 2, 0, 2, 0, 0, 1, 2, 0,\n",
      "        1, 2, 1, 0, 1, 1, 0, 1])\n"
     ]
    }
   ],
   "source": [
    "for i, (s1_data, s2_data, s1_lengths, s2_lengths, labels) in enumerate(train_loader):\n",
    "    print(s1_data)\n",
    "    print(s2_data)\n",
    "    print(len(s1_lengths))\n",
    "    print(len(s2_lengths))\n",
    "    print(labels)\n",
    "    break"
   ]
  },
  {
   "cell_type": "code",
   "execution_count": 169,
   "metadata": {},
   "outputs": [
    {
     "name": "stdout",
     "output_type": "stream",
     "text": [
      "tensor([[   2,   22,   24,  ...,    0,    0,    0],\n",
      "        [   2,   13,    6,  ...,    0,    0,    0],\n",
      "        [ 229,    4,  305,  ...,    0,    0,    0],\n",
      "        ...,\n",
      "        [ 458,  395,   55,  ...,    0,    0,    0],\n",
      "        [  15,   10,   42,  ...,    0,    0,    0],\n",
      "        [   2,    7, 1917,  ...,    0,    0,    0]])\n",
      "tensor([[  2,  22,  24,  ...,   0,   0,   0],\n",
      "        [ 14,  15,  10,  ...,   0,   0,   0],\n",
      "        [  4,  63,  73,  ...,   0,   0,   0],\n",
      "        ...,\n",
      "        [ 30, 130,  10,  ...,   0,   0,   0],\n",
      "        [ 51,  10,  15,  ...,   0,   0,   0],\n",
      "        [  4,   7,   6,  ...,   0,   0,   0]])\n",
      "128\n",
      "128\n",
      "tensor([2, 0, 2, 1, 1, 0, 1, 2, 0, 0, 2, 1, 1, 0, 0, 2, 2, 2, 1, 0, 1, 2, 2, 2,\n",
      "        2, 0, 2, 0, 0, 2, 2, 1, 0, 1, 0, 1, 2, 1, 2, 1, 0, 2, 2, 1, 0, 1, 2, 1,\n",
      "        0, 0, 2, 0, 0, 1, 0, 2, 1, 0, 0, 0, 0, 2, 0, 0, 0, 0, 2, 0, 0, 0, 1, 2,\n",
      "        2, 2, 2, 2, 0, 1, 0, 1, 2, 1, 2, 1, 1, 2, 0, 1, 0, 1, 2, 2, 1, 1, 2, 1,\n",
      "        1, 1, 1, 0, 2, 1, 1, 1, 0, 0, 0, 0, 1, 1, 1, 2, 2, 0, 2, 0, 0, 1, 2, 0,\n",
      "        1, 2, 1, 0, 1, 1, 0, 1])\n"
     ]
    }
   ],
   "source": [
    "for i, (s1_data, s2_data, s1_lengths, s2_lengths, labels) in enumerate(val_loader):\n",
    "    print(s1_data)\n",
    "    print(s2_data)\n",
    "    print(len(s1_lengths))\n",
    "    print(len(s2_lengths))\n",
    "    print(labels)\n",
    "    break"
   ]
  },
  {
   "cell_type": "markdown",
   "metadata": {},
   "source": [
    "### CNN"
   ]
  },
  {
   "cell_type": "code",
   "execution_count": 198,
   "metadata": {},
   "outputs": [
    {
     "data": {
      "text/plain": [
       "82"
      ]
     },
     "execution_count": 198,
     "metadata": {},
     "output_type": "execute_result"
    }
   ],
   "source": [
    "MAX_SENTENCE_LENGTH"
   ]
  },
  {
   "cell_type": "code",
   "execution_count": 325,
   "metadata": {
    "collapsed": true
   },
   "outputs": [],
   "source": [
    "class CNN(nn.Module):\n",
    "    def __init__(self, embedding_matrix, num_classes, seq_len):\n",
    "        \n",
    "        super(CNN, self).__init__()\n",
    "\n",
    "        # Build embedding layer\n",
    "        vocab_size = embedding_matrix.shape[0]\n",
    "        embedding_dim = embedding_matrix.shape[1]\n",
    "        self.embed = nn.Embedding(vocab_size, embedding_dim)\n",
    "        self.embed.weight.data.copy_(torch.from_numpy(embedding_matrix))\n",
    "        self.embed.requires_grad = False\n",
    "\n",
    "        # Build CNN\n",
    "        cnn_hidden_size = 128\n",
    "#         cnn_hidden_size = 256\n",
    "#         cnn_hidden_size = 64\n",
    "        cnn_num_layers = 2\n",
    "        self.conv1 = nn.Conv1d(embedding_dim, cnn_hidden_size, kernel_size=3, padding=1)\n",
    "        self.conv2 = nn.Conv1d(cnn_hidden_size, cnn_hidden_size, kernel_size=3, padding=1)\n",
    "        self.maxpool = nn.MaxPool1d(3, stride=1)\n",
    "\n",
    "        # Build classification head\n",
    "        cls_hidden_size = 128\n",
    "#         self.cls_net = nn.Sequential(nn.Linear(252, cls_hidden_size), nn.Linear(cls_hidden_size, num_classes))\n",
    "        self.cls_net = nn.Sequential(nn.Linear(126, cls_hidden_size), nn.Linear(cls_hidden_size, num_classes))\n",
    "\n",
    "    def forward(self, sent1, sent2, sent1_len, sent2_len):\n",
    "        batch_size, seq_len1 = sent1.size()\n",
    "        batch_size, seq_len2 = sent2.size()\n",
    "\n",
    "        e1, e2 = self.embed(sent1), self.embed(sent2)\n",
    "        \n",
    "        batch_size = e1.size()[0]\n",
    "    \n",
    "        hidden1 = self.conv1(e1.transpose(1,2)).transpose(1,2)\n",
    "        hidden1 = F.relu(hidden1.contiguous().view(-1, hidden1.size(-1))).view(batch_size, seq_len1, hidden1.size(-1))\n",
    "\n",
    "        hidden1 = self.conv2(hidden1.transpose(1,2)).transpose(1,2)\n",
    "        hidden1 = F.relu(hidden1.contiguous().view(-1, hidden1.size(-1))).view(batch_size, seq_len1, hidden1.size(-1))\n",
    "        \n",
    "        outs1 = self.maxpool(hidden1)      \n",
    "        \n",
    "        hidden2 = self.conv1(e2.transpose(1,2)).transpose(1,2)\n",
    "        hidden2 = F.relu(hidden2.contiguous().view(-1, hidden2.size(-1))).view(batch_size, seq_len2, hidden2.size(-1))\n",
    "\n",
    "        hidden2 = self.conv2(hidden2.transpose(1,2)).transpose(1,2)\n",
    "        hidden2 = F.relu(hidden2.contiguous().view(-1, hidden2.size(-1))).view(batch_size, seq_len2, hidden2.size(-1))\n",
    "    \n",
    "        outs2 = self.maxpool(hidden2)\n",
    "        \n",
    "        # Get the last output\n",
    "        batch_size = e1.size()[0]\n",
    "        f1 = outs1[torch.arange(batch_size, out=torch.LongTensor()), sent1_len - 1]\n",
    "        f2 = outs2[torch.arange(batch_size, out=torch.LongTensor()), sent1_len - 1]\n",
    "#         print(outs1.size(), outs2.size())\n",
    "#         print(f1.size(), f2.size())\n",
    "\n",
    "#         concat_features = torch.cat([f1, f2], 1)\n",
    "        concat_features = torch.mul(f1, f2)\n",
    "        \n",
    "        logits = self.cls_net(concat_features)\n",
    "        \n",
    "        return logits"
   ]
  },
  {
   "cell_type": "code",
   "execution_count": 326,
   "metadata": {
    "collapsed": true
   },
   "outputs": [],
   "source": [
    "def evaluate(model, loss_func, sent1, sent2, sent1_len, sent2_len, labels):\n",
    "    logits = model(sent1, sent2, sent1_len, sent2_len)\n",
    "    loss = loss_func(logits, labels)\n",
    "    _, pred = torch.max(logits, 1)\n",
    "    acc = (labels == pred).sum()\n",
    "    pred_value = pred.cpu().data\n",
    "    loss_value = loss.cpu().data[0]\n",
    "    acc_value = acc.cpu().data.numpy() / labels.size()[0]\n",
    "    return loss, loss_value, acc_value\n",
    "\n",
    "best_val_acc = 0\n",
    "train_losses, train_accs, val_losses, val_accs = [], [], [], []\n",
    "\n",
    "def train(model, num_epochs, learning_rate, train_loader, val_loader, load_from_path, save_to_path, best_val_acc, train_losses, train_accs, val_losses, val_accs):\n",
    "\n",
    "    # Define loss function\n",
    "    ce_loss = nn.CrossEntropyLoss()\n",
    "    # Define optimizer\n",
    "    optimizer = torch.optim.Adam(model.parameters(), lr=learning_rate)\n",
    "    \n",
    "    # Load model\n",
    "    if load_from_path is not None:\n",
    "        checkpoint = torch.load(load_from_path)\n",
    "        model.load_state_dict(checkpoint['model_state_dict'])\n",
    "        optimizer.load_state_dict(checkpoint['optimizer_state_dict'])\n",
    "        best_val_acc = checkpoint['best_val_acc']\n",
    "        train_losses = checkpoint['train_losses']\n",
    "        train_accs = checkpoint['train_accs']\n",
    "        val_losses = checkpoint['val_losses']\n",
    "        val_accs = checkpoint['val_accs']\n",
    "    \n",
    "#     best_val_acc = 0\n",
    "\n",
    "    for epoch in range(num_epochs):\n",
    "        for i, (sent1, sent2, sent1_len, sent2_len, labels) in enumerate(train_loader):\n",
    "            # Flag training mode for the model\n",
    "            model.train()\n",
    "            \n",
    "            # Clear all accumulated gradients\n",
    "            optimizer.zero_grad()\n",
    "            \n",
    "            loss, train_loss_value, train_acc_value = evaluate(model, ce_loss, sent1, sent2, sent1_len, sent2_len, labels)\n",
    "\n",
    "            # Backprop from loss\n",
    "            loss.backward()\n",
    "            \n",
    "            # Update parameters\n",
    "            optimizer.step()\n",
    "            \n",
    "            # Validation\n",
    "            for val_sent1, val_sent2, val_sent1_len, val_sent2_len, val_labels in val_loader:\n",
    "                model.eval()\n",
    "                _, val_loss_value, val_acc_value = evaluate(model, ce_loss, val_sent1, val_sent2, val_sent1_len, val_sent2_len, val_labels)\n",
    "                break\n",
    "            \n",
    "            train_losses.append(train_loss_value)\n",
    "            train_accs.append(train_acc_value)\n",
    "            val_losses.append(val_loss_value)\n",
    "            val_accs.append(val_acc_value)\n",
    "                \n",
    "            \n",
    "            \n",
    "            if i % 10 == 0:\n",
    "                if val_acc_value > best_val_acc and save_to_path is not None:\n",
    "                    best_val_acc = val_acc_value\n",
    "                    # Save model\n",
    "                    save_dict = {\n",
    "                        'model_state_dict': model.state_dict(),\n",
    "                        'optimizer_state_dict': optimizer.state_dict(),\n",
    "                        'best_val_acc': best_val_acc,\n",
    "                        'train_losses': train_losses,\n",
    "                        'train_accs': train_accs,\n",
    "                        'val_losses': val_losses,\n",
    "                        'val_accs': val_accs\n",
    "                    }\n",
    "                    torch.save(save_dict, save_to_path)\n",
    "                print('Epoch: [{}/{}], Step: [{}/{}], Train Loss: {}, Train Acc: {}, Val Loss: {}, Val Acc: {}'.format(epoch+1, num_epochs, i+1, len(train_loader), train_loss_value, train_acc_value, val_loss_value, val_acc_value))"
   ]
  },
  {
   "cell_type": "code",
   "execution_count": 309,
   "metadata": {},
   "outputs": [
    {
     "name": "stderr",
     "output_type": "stream",
     "text": [
      "/Users/wu/anaconda/lib/python3.6/site-packages/ipykernel_launcher.py:7: UserWarning: invalid index of a 0-dim tensor. This will be an error in PyTorch 0.5. Use tensor.item() to convert a 0-dim tensor to a Python number\n",
      "  import sys\n"
     ]
    },
    {
     "name": "stdout",
     "output_type": "stream",
     "text": [
      "Epoch: [1/1], Step: [1/782], Train Loss: 1.098882794380188, Train Acc: 0.28125, Val Loss: 1.4609254598617554, Val Acc: 0.3515625\n",
      "Epoch: [1/1], Step: [11/782], Train Loss: 1.0959137678146362, Train Acc: 0.3359375, Val Loss: 1.1004830598831177, Val Acc: 0.359375\n",
      "Epoch: [1/1], Step: [21/782], Train Loss: 1.107797622680664, Train Acc: 0.328125, Val Loss: 1.0896462202072144, Val Acc: 0.390625\n",
      "Epoch: [1/1], Step: [31/782], Train Loss: 1.072092056274414, Train Acc: 0.4140625, Val Loss: 1.1089390516281128, Val Acc: 0.3515625\n",
      "Epoch: [1/1], Step: [41/782], Train Loss: 1.0870763063430786, Train Acc: 0.3515625, Val Loss: 1.0898528099060059, Val Acc: 0.40625\n",
      "Epoch: [1/1], Step: [51/782], Train Loss: 1.1000134944915771, Train Acc: 0.3515625, Val Loss: 1.0836704969406128, Val Acc: 0.3984375\n",
      "Epoch: [1/1], Step: [61/782], Train Loss: 1.1031038761138916, Train Acc: 0.328125, Val Loss: 1.0918641090393066, Val Acc: 0.375\n",
      "Epoch: [1/1], Step: [71/782], Train Loss: 1.1118687391281128, Train Acc: 0.328125, Val Loss: 1.083493709564209, Val Acc: 0.3671875\n",
      "Epoch: [1/1], Step: [81/782], Train Loss: 1.0944408178329468, Train Acc: 0.359375, Val Loss: 1.0893774032592773, Val Acc: 0.4140625\n",
      "Epoch: [1/1], Step: [91/782], Train Loss: 1.0827139616012573, Train Acc: 0.390625, Val Loss: 1.0915135145187378, Val Acc: 0.375\n",
      "Epoch: [1/1], Step: [101/782], Train Loss: 1.0955477952957153, Train Acc: 0.3359375, Val Loss: 1.091910719871521, Val Acc: 0.3671875\n",
      "Epoch: [1/1], Step: [111/782], Train Loss: 1.1035903692245483, Train Acc: 0.3671875, Val Loss: 1.1459237337112427, Val Acc: 0.375\n",
      "Epoch: [1/1], Step: [121/782], Train Loss: 1.0822876691818237, Train Acc: 0.3515625, Val Loss: 1.0777963399887085, Val Acc: 0.375\n",
      "Epoch: [1/1], Step: [131/782], Train Loss: 1.089373230934143, Train Acc: 0.3828125, Val Loss: 1.0856508016586304, Val Acc: 0.3671875\n",
      "Epoch: [1/1], Step: [141/782], Train Loss: 1.0917935371398926, Train Acc: 0.328125, Val Loss: 1.0932211875915527, Val Acc: 0.3828125\n",
      "Epoch: [1/1], Step: [151/782], Train Loss: 1.0918571949005127, Train Acc: 0.3359375, Val Loss: 1.0752112865447998, Val Acc: 0.375\n",
      "Epoch: [1/1], Step: [161/782], Train Loss: 1.0912325382232666, Train Acc: 0.390625, Val Loss: 1.0832492113113403, Val Acc: 0.40625\n",
      "Epoch: [1/1], Step: [171/782], Train Loss: 1.1277201175689697, Train Acc: 0.3671875, Val Loss: 1.0942251682281494, Val Acc: 0.328125\n",
      "Epoch: [1/1], Step: [181/782], Train Loss: 1.1060761213302612, Train Acc: 0.4140625, Val Loss: 1.1091256141662598, Val Acc: 0.296875\n",
      "Epoch: [1/1], Step: [191/782], Train Loss: 1.1754423379898071, Train Acc: 0.25, Val Loss: 1.1076973676681519, Val Acc: 0.3203125\n",
      "Epoch: [1/1], Step: [201/782], Train Loss: 1.0962337255477905, Train Acc: 0.3828125, Val Loss: 1.0853465795516968, Val Acc: 0.3828125\n",
      "Epoch: [1/1], Step: [211/782], Train Loss: 1.116512656211853, Train Acc: 0.2109375, Val Loss: 1.1095387935638428, Val Acc: 0.375\n",
      "Epoch: [1/1], Step: [221/782], Train Loss: 1.0910531282424927, Train Acc: 0.328125, Val Loss: 1.1078373193740845, Val Acc: 0.3828125\n",
      "Epoch: [1/1], Step: [231/782], Train Loss: 1.0735310316085815, Train Acc: 0.3984375, Val Loss: 1.096195936203003, Val Acc: 0.3515625\n",
      "Epoch: [1/1], Step: [241/782], Train Loss: 1.0934102535247803, Train Acc: 0.3515625, Val Loss: 1.0864607095718384, Val Acc: 0.3828125\n",
      "Epoch: [1/1], Step: [251/782], Train Loss: 1.1029309034347534, Train Acc: 0.3046875, Val Loss: 1.087751865386963, Val Acc: 0.390625\n",
      "Epoch: [1/1], Step: [261/782], Train Loss: 1.1020724773406982, Train Acc: 0.3828125, Val Loss: 1.0892077684402466, Val Acc: 0.4140625\n",
      "Epoch: [1/1], Step: [271/782], Train Loss: 1.0784180164337158, Train Acc: 0.359375, Val Loss: 1.0871824026107788, Val Acc: 0.359375\n",
      "Epoch: [1/1], Step: [281/782], Train Loss: 1.0760512351989746, Train Acc: 0.3671875, Val Loss: 1.0909708738327026, Val Acc: 0.3984375\n",
      "Epoch: [1/1], Step: [291/782], Train Loss: 1.1053065061569214, Train Acc: 0.3125, Val Loss: 1.0978667736053467, Val Acc: 0.390625\n",
      "Epoch: [1/1], Step: [301/782], Train Loss: 1.135382890701294, Train Acc: 0.3203125, Val Loss: 1.1009548902511597, Val Acc: 0.3828125\n",
      "Epoch: [1/1], Step: [311/782], Train Loss: 1.094037652015686, Train Acc: 0.390625, Val Loss: 1.104061245918274, Val Acc: 0.375\n",
      "Epoch: [1/1], Step: [321/782], Train Loss: 1.077256202697754, Train Acc: 0.34375, Val Loss: 1.1008167266845703, Val Acc: 0.3515625\n",
      "Epoch: [1/1], Step: [331/782], Train Loss: 1.1089469194412231, Train Acc: 0.296875, Val Loss: 1.0978747606277466, Val Acc: 0.375\n",
      "Epoch: [1/1], Step: [341/782], Train Loss: 1.0795528888702393, Train Acc: 0.3203125, Val Loss: 1.095091700553894, Val Acc: 0.3828125\n",
      "Epoch: [1/1], Step: [351/782], Train Loss: 1.0830925703048706, Train Acc: 0.328125, Val Loss: 1.0949876308441162, Val Acc: 0.3125\n",
      "Epoch: [1/1], Step: [361/782], Train Loss: 1.088664174079895, Train Acc: 0.3671875, Val Loss: 1.10693359375, Val Acc: 0.3828125\n",
      "Epoch: [1/1], Step: [371/782], Train Loss: 1.0929608345031738, Train Acc: 0.4140625, Val Loss: 1.1101220846176147, Val Acc: 0.390625\n",
      "Epoch: [1/1], Step: [381/782], Train Loss: 1.0841014385223389, Train Acc: 0.359375, Val Loss: 1.0974035263061523, Val Acc: 0.4140625\n",
      "Epoch: [1/1], Step: [391/782], Train Loss: 1.0753848552703857, Train Acc: 0.40625, Val Loss: 1.0965009927749634, Val Acc: 0.3828125\n",
      "Epoch: [1/1], Step: [401/782], Train Loss: 1.0913608074188232, Train Acc: 0.328125, Val Loss: 1.0951112508773804, Val Acc: 0.3671875\n",
      "Epoch: [1/1], Step: [411/782], Train Loss: 1.0924381017684937, Train Acc: 0.4140625, Val Loss: 1.0885802507400513, Val Acc: 0.375\n",
      "Epoch: [1/1], Step: [421/782], Train Loss: 1.0706467628479004, Train Acc: 0.34375, Val Loss: 1.0957409143447876, Val Acc: 0.3828125\n",
      "Epoch: [1/1], Step: [431/782], Train Loss: 1.1091055870056152, Train Acc: 0.3125, Val Loss: 1.1042232513427734, Val Acc: 0.375\n",
      "Epoch: [1/1], Step: [441/782], Train Loss: 1.0553821325302124, Train Acc: 0.4140625, Val Loss: 1.0936038494110107, Val Acc: 0.359375\n",
      "Epoch: [1/1], Step: [451/782], Train Loss: 1.0723741054534912, Train Acc: 0.3984375, Val Loss: 1.085526704788208, Val Acc: 0.3984375\n",
      "Epoch: [1/1], Step: [461/782], Train Loss: 1.0891698598861694, Train Acc: 0.4140625, Val Loss: 1.0908637046813965, Val Acc: 0.40625\n",
      "Epoch: [1/1], Step: [471/782], Train Loss: 1.1098500490188599, Train Acc: 0.328125, Val Loss: 1.089410662651062, Val Acc: 0.3984375\n",
      "Epoch: [1/1], Step: [481/782], Train Loss: 1.0756773948669434, Train Acc: 0.3515625, Val Loss: 1.0932326316833496, Val Acc: 0.375\n",
      "Epoch: [1/1], Step: [491/782], Train Loss: 1.0469722747802734, Train Acc: 0.4375, Val Loss: 1.090932846069336, Val Acc: 0.375\n",
      "Epoch: [1/1], Step: [501/782], Train Loss: 1.0835238695144653, Train Acc: 0.4140625, Val Loss: 1.104628324508667, Val Acc: 0.3828125\n",
      "Epoch: [1/1], Step: [511/782], Train Loss: 1.1052645444869995, Train Acc: 0.375, Val Loss: 1.094591498374939, Val Acc: 0.40625\n",
      "Epoch: [1/1], Step: [521/782], Train Loss: 1.0632261037826538, Train Acc: 0.34375, Val Loss: 1.0881465673446655, Val Acc: 0.390625\n",
      "Epoch: [1/1], Step: [531/782], Train Loss: 1.1000473499298096, Train Acc: 0.3203125, Val Loss: 1.1287665367126465, Val Acc: 0.3125\n",
      "Epoch: [1/1], Step: [541/782], Train Loss: 1.0745469331741333, Train Acc: 0.3984375, Val Loss: 1.0850197076797485, Val Acc: 0.390625\n",
      "Epoch: [1/1], Step: [551/782], Train Loss: 1.0953023433685303, Train Acc: 0.3671875, Val Loss: 1.080945372581482, Val Acc: 0.40625\n",
      "Epoch: [1/1], Step: [561/782], Train Loss: 1.1043819189071655, Train Acc: 0.34375, Val Loss: 1.0974805355072021, Val Acc: 0.3984375\n",
      "Epoch: [1/1], Step: [571/782], Train Loss: 1.093389868736267, Train Acc: 0.296875, Val Loss: 1.0821515321731567, Val Acc: 0.3984375\n",
      "Epoch: [1/1], Step: [581/782], Train Loss: 1.0666424036026, Train Acc: 0.375, Val Loss: 1.0872992277145386, Val Acc: 0.3828125\n",
      "Epoch: [1/1], Step: [591/782], Train Loss: 1.0946240425109863, Train Acc: 0.3984375, Val Loss: 1.0984138250350952, Val Acc: 0.390625\n",
      "Epoch: [1/1], Step: [601/782], Train Loss: 1.0745009183883667, Train Acc: 0.4296875, Val Loss: 1.0929675102233887, Val Acc: 0.3828125\n",
      "Epoch: [1/1], Step: [611/782], Train Loss: 1.1112627983093262, Train Acc: 0.3203125, Val Loss: 1.0803142786026, Val Acc: 0.3828125\n",
      "Epoch: [1/1], Step: [621/782], Train Loss: 1.1016050577163696, Train Acc: 0.359375, Val Loss: 1.1184896230697632, Val Acc: 0.390625\n"
     ]
    },
    {
     "name": "stdout",
     "output_type": "stream",
     "text": [
      "Epoch: [1/1], Step: [631/782], Train Loss: 1.083474040031433, Train Acc: 0.4140625, Val Loss: 1.0890084505081177, Val Acc: 0.359375\n",
      "Epoch: [1/1], Step: [641/782], Train Loss: 1.3118772506713867, Train Acc: 0.3828125, Val Loss: 1.1230075359344482, Val Acc: 0.3671875\n",
      "Epoch: [1/1], Step: [651/782], Train Loss: 1.1072680950164795, Train Acc: 0.328125, Val Loss: 1.1196495294570923, Val Acc: 0.390625\n",
      "Epoch: [1/1], Step: [661/782], Train Loss: 1.0993947982788086, Train Acc: 0.2734375, Val Loss: 1.099189043045044, Val Acc: 0.328125\n",
      "Epoch: [1/1], Step: [671/782], Train Loss: 1.0992999076843262, Train Acc: 0.3046875, Val Loss: 1.1253976821899414, Val Acc: 0.3125\n",
      "Epoch: [1/1], Step: [681/782], Train Loss: 1.0985360145568848, Train Acc: 0.375, Val Loss: 1.102805495262146, Val Acc: 0.359375\n",
      "Epoch: [1/1], Step: [691/782], Train Loss: 1.1169424057006836, Train Acc: 0.3828125, Val Loss: 1.1044447422027588, Val Acc: 0.3125\n",
      "Epoch: [1/1], Step: [701/782], Train Loss: 1.0895439386367798, Train Acc: 0.421875, Val Loss: 1.0980236530303955, Val Acc: 0.3515625\n",
      "Epoch: [1/1], Step: [711/782], Train Loss: 1.0953673124313354, Train Acc: 0.375, Val Loss: 1.0989656448364258, Val Acc: 0.3515625\n",
      "Epoch: [1/1], Step: [721/782], Train Loss: 1.0984628200531006, Train Acc: 0.3515625, Val Loss: 1.090480923652649, Val Acc: 0.359375\n",
      "Epoch: [1/1], Step: [731/782], Train Loss: 1.1677840948104858, Train Acc: 0.3359375, Val Loss: 1.106731653213501, Val Acc: 0.3203125\n",
      "Epoch: [1/1], Step: [741/782], Train Loss: 1.0949395895004272, Train Acc: 0.375, Val Loss: 1.098994255065918, Val Acc: 0.3515625\n",
      "Epoch: [1/1], Step: [751/782], Train Loss: 1.1047459840774536, Train Acc: 0.2890625, Val Loss: 1.097652792930603, Val Acc: 0.3515625\n",
      "Epoch: [1/1], Step: [761/782], Train Loss: 1.0972516536712646, Train Acc: 0.359375, Val Loss: 1.101922869682312, Val Acc: 0.3359375\n",
      "Epoch: [1/1], Step: [771/782], Train Loss: 1.1005182266235352, Train Acc: 0.28125, Val Loss: 1.0984365940093994, Val Acc: 0.3359375\n",
      "Epoch: [1/1], Step: [781/782], Train Loss: 1.0981289148330688, Train Acc: 0.3046875, Val Loss: 1.1004869937896729, Val Acc: 0.3125\n"
     ]
    }
   ],
   "source": [
    "cnn_model = CNN(embedding_matrix, 3, MAX_SENTENCE_LENGTH)\n",
    "load_from_path = None\n",
    "save_to_path = \"./cnn_concate_128.pkl\"\n",
    "train(cnn_model, 1, 1e-2, train_loader, val_loader, load_from_path, save_to_path, best_val_acc, train_losses, train_accs, val_losses, val_accs)"
   ]
  },
  {
   "cell_type": "code",
   "execution_count": 327,
   "metadata": {},
   "outputs": [
    {
     "name": "stderr",
     "output_type": "stream",
     "text": [
      "/Users/wu/anaconda/lib/python3.6/site-packages/ipykernel_launcher.py:7: UserWarning: invalid index of a 0-dim tensor. This will be an error in PyTorch 0.5. Use tensor.item() to convert a 0-dim tensor to a Python number\n",
      "  import sys\n"
     ]
    },
    {
     "name": "stdout",
     "output_type": "stream",
     "text": [
      "Epoch: [1/1], Step: [1/782], Train Loss: 1.1015565395355225, Train Acc: 0.3359375, Val Loss: 1.0995872020721436, Val Acc: 0.375\n",
      "Epoch: [1/1], Step: [11/782], Train Loss: 1.097758412361145, Train Acc: 0.3359375, Val Loss: 1.097299575805664, Val Acc: 0.3359375\n",
      "Epoch: [1/1], Step: [21/782], Train Loss: 1.1000310182571411, Train Acc: 0.3515625, Val Loss: 1.0973236560821533, Val Acc: 0.3359375\n",
      "Epoch: [1/1], Step: [31/782], Train Loss: 1.0777534246444702, Train Acc: 0.3828125, Val Loss: 1.0981037616729736, Val Acc: 0.3828125\n",
      "Epoch: [1/1], Step: [41/782], Train Loss: 1.0983589887619019, Train Acc: 0.296875, Val Loss: 1.1093013286590576, Val Acc: 0.3515625\n",
      "Epoch: [1/1], Step: [51/782], Train Loss: 1.13291597366333, Train Acc: 0.34375, Val Loss: 1.099210262298584, Val Acc: 0.390625\n",
      "Epoch: [1/1], Step: [61/782], Train Loss: 1.1180775165557861, Train Acc: 0.3046875, Val Loss: 1.087997317314148, Val Acc: 0.359375\n",
      "Epoch: [1/1], Step: [71/782], Train Loss: 1.104538917541504, Train Acc: 0.328125, Val Loss: 1.0883362293243408, Val Acc: 0.3671875\n",
      "Epoch: [1/1], Step: [81/782], Train Loss: 1.0948212146759033, Train Acc: 0.34375, Val Loss: 1.0930967330932617, Val Acc: 0.375\n",
      "Epoch: [1/1], Step: [91/782], Train Loss: 1.092024326324463, Train Acc: 0.40625, Val Loss: 1.1000933647155762, Val Acc: 0.390625\n",
      "Epoch: [1/1], Step: [101/782], Train Loss: 1.1026197671890259, Train Acc: 0.328125, Val Loss: 1.0930402278900146, Val Acc: 0.3671875\n",
      "Epoch: [1/1], Step: [111/782], Train Loss: 1.0873717069625854, Train Acc: 0.328125, Val Loss: 1.1820900440216064, Val Acc: 0.390625\n",
      "Epoch: [1/1], Step: [121/782], Train Loss: 1.0906293392181396, Train Acc: 0.3203125, Val Loss: 1.0855813026428223, Val Acc: 0.3671875\n",
      "Epoch: [1/1], Step: [131/782], Train Loss: 1.100724458694458, Train Acc: 0.3515625, Val Loss: 1.1026111841201782, Val Acc: 0.3359375\n",
      "Epoch: [1/1], Step: [141/782], Train Loss: 1.0985454320907593, Train Acc: 0.328125, Val Loss: 1.0901802778244019, Val Acc: 0.3671875\n",
      "Epoch: [1/1], Step: [151/782], Train Loss: 1.0885932445526123, Train Acc: 0.4296875, Val Loss: 1.0914713144302368, Val Acc: 0.3828125\n",
      "Epoch: [1/1], Step: [161/782], Train Loss: 1.1075434684753418, Train Acc: 0.2734375, Val Loss: 1.0954532623291016, Val Acc: 0.3671875\n",
      "Epoch: [1/1], Step: [171/782], Train Loss: 1.101822853088379, Train Acc: 0.3671875, Val Loss: 1.102081060409546, Val Acc: 0.3046875\n",
      "Epoch: [1/1], Step: [181/782], Train Loss: 1.1392356157302856, Train Acc: 0.3046875, Val Loss: 1.1043318510055542, Val Acc: 0.3359375\n",
      "Epoch: [1/1], Step: [191/782], Train Loss: 1.1003468036651611, Train Acc: 0.375, Val Loss: 1.0979973077774048, Val Acc: 0.3515625\n",
      "Epoch: [1/1], Step: [201/782], Train Loss: 1.085471272468567, Train Acc: 0.390625, Val Loss: 1.1029548645019531, Val Acc: 0.34375\n",
      "Epoch: [1/1], Step: [211/782], Train Loss: 1.1023190021514893, Train Acc: 0.28125, Val Loss: 1.0884451866149902, Val Acc: 0.34375\n",
      "Epoch: [1/1], Step: [221/782], Train Loss: 1.1043264865875244, Train Acc: 0.28125, Val Loss: 1.0805782079696655, Val Acc: 0.359375\n",
      "Epoch: [1/1], Step: [231/782], Train Loss: 1.1115381717681885, Train Acc: 0.3828125, Val Loss: 1.0934234857559204, Val Acc: 0.359375\n",
      "Epoch: [1/1], Step: [241/782], Train Loss: 1.1072890758514404, Train Acc: 0.34375, Val Loss: 1.1018428802490234, Val Acc: 0.34375\n",
      "Epoch: [1/1], Step: [251/782], Train Loss: 1.0790910720825195, Train Acc: 0.390625, Val Loss: 1.1748607158660889, Val Acc: 0.3359375\n",
      "Epoch: [1/1], Step: [261/782], Train Loss: 1.1152522563934326, Train Acc: 0.3125, Val Loss: 1.1528193950653076, Val Acc: 0.3515625\n",
      "Epoch: [1/1], Step: [271/782], Train Loss: 1.1451416015625, Train Acc: 0.3515625, Val Loss: 1.1118416786193848, Val Acc: 0.3125\n",
      "Epoch: [1/1], Step: [281/782], Train Loss: 2.10914945602417, Train Acc: 0.3203125, Val Loss: 1.1434353590011597, Val Acc: 0.3671875\n",
      "Epoch: [1/1], Step: [291/782], Train Loss: 1.1233354806900024, Train Acc: 0.3515625, Val Loss: 1.1159539222717285, Val Acc: 0.3203125\n",
      "Epoch: [1/1], Step: [301/782], Train Loss: 1.1290327310562134, Train Acc: 0.2734375, Val Loss: 1.4521522521972656, Val Acc: 0.296875\n",
      "Epoch: [1/1], Step: [311/782], Train Loss: 1.1080788373947144, Train Acc: 0.3828125, Val Loss: 1.1240689754486084, Val Acc: 0.3515625\n",
      "Epoch: [1/1], Step: [321/782], Train Loss: 1.0904288291931152, Train Acc: 0.34375, Val Loss: 1.11011803150177, Val Acc: 0.3359375\n",
      "Epoch: [1/1], Step: [331/782], Train Loss: 1.1131479740142822, Train Acc: 0.2734375, Val Loss: 1.1069059371948242, Val Acc: 0.3359375\n",
      "Epoch: [1/1], Step: [341/782], Train Loss: 1.1005922555923462, Train Acc: 0.2734375, Val Loss: 1.0999469757080078, Val Acc: 0.3359375\n",
      "Epoch: [1/1], Step: [351/782], Train Loss: 1.0932507514953613, Train Acc: 0.3671875, Val Loss: 1.1042556762695312, Val Acc: 0.3125\n",
      "Epoch: [1/1], Step: [361/782], Train Loss: 1.1024227142333984, Train Acc: 0.2890625, Val Loss: 1.0983511209487915, Val Acc: 0.3515625\n",
      "Epoch: [1/1], Step: [371/782], Train Loss: 1.098842740058899, Train Acc: 0.328125, Val Loss: 1.0997231006622314, Val Acc: 0.3359375\n",
      "Epoch: [1/1], Step: [381/782], Train Loss: 1.1005359888076782, Train Acc: 0.28125, Val Loss: 1.0976070165634155, Val Acc: 0.3515625\n",
      "Epoch: [1/1], Step: [391/782], Train Loss: 1.08942449092865, Train Acc: 0.3828125, Val Loss: 1.0977176427841187, Val Acc: 0.3515625\n",
      "Epoch: [1/1], Step: [401/782], Train Loss: 1.1258612871170044, Train Acc: 0.25, Val Loss: 1.0997886657714844, Val Acc: 0.3515625\n",
      "Epoch: [1/1], Step: [411/782], Train Loss: 1.095913052558899, Train Acc: 0.4140625, Val Loss: 1.1016440391540527, Val Acc: 0.3125\n",
      "Epoch: [1/1], Step: [421/782], Train Loss: 1.1019271612167358, Train Acc: 0.34375, Val Loss: 1.1043967008590698, Val Acc: 0.3125\n",
      "Epoch: [1/1], Step: [431/782], Train Loss: 1.096488118171692, Train Acc: 0.40625, Val Loss: 1.0999950170516968, Val Acc: 0.3125\n",
      "Epoch: [1/1], Step: [441/782], Train Loss: 1.0924865007400513, Train Acc: 0.390625, Val Loss: 1.0982420444488525, Val Acc: 0.3359375\n",
      "Epoch: [1/1], Step: [451/782], Train Loss: 1.106693983078003, Train Acc: 0.3359375, Val Loss: 1.0975987911224365, Val Acc: 0.3515625\n",
      "Epoch: [1/1], Step: [461/782], Train Loss: 1.0949081182479858, Train Acc: 0.328125, Val Loss: 1.104651927947998, Val Acc: 0.3125\n",
      "Epoch: [1/1], Step: [471/782], Train Loss: 1.0957263708114624, Train Acc: 0.375, Val Loss: 1.0992213487625122, Val Acc: 0.3359375\n",
      "Epoch: [1/1], Step: [481/782], Train Loss: 1.1052805185317993, Train Acc: 0.3046875, Val Loss: 1.0981873273849487, Val Acc: 0.3515625\n",
      "Epoch: [1/1], Step: [491/782], Train Loss: 1.095942497253418, Train Acc: 0.390625, Val Loss: 1.0994725227355957, Val Acc: 0.3125\n",
      "Epoch: [1/1], Step: [501/782], Train Loss: 1.1014307737350464, Train Acc: 0.296875, Val Loss: 1.1037383079528809, Val Acc: 0.3125\n",
      "Epoch: [1/1], Step: [511/782], Train Loss: 1.100573182106018, Train Acc: 0.3203125, Val Loss: 1.0965485572814941, Val Acc: 0.3359375\n",
      "Epoch: [1/1], Step: [521/782], Train Loss: 1.1106038093566895, Train Acc: 0.2578125, Val Loss: 1.1015928983688354, Val Acc: 0.3515625\n",
      "Epoch: [1/1], Step: [531/782], Train Loss: 1.1008249521255493, Train Acc: 0.328125, Val Loss: 1.0997130870819092, Val Acc: 0.3359375\n",
      "Epoch: [1/1], Step: [541/782], Train Loss: 1.0983587503433228, Train Acc: 0.34375, Val Loss: 1.0997053384780884, Val Acc: 0.3125\n",
      "Epoch: [1/1], Step: [551/782], Train Loss: 1.0985759496688843, Train Acc: 0.34375, Val Loss: 1.0974609851837158, Val Acc: 0.3515625\n",
      "Epoch: [1/1], Step: [561/782], Train Loss: 1.1104539632797241, Train Acc: 0.265625, Val Loss: 1.0980713367462158, Val Acc: 0.3359375\n",
      "Epoch: [1/1], Step: [571/782], Train Loss: 1.1046141386032104, Train Acc: 0.3046875, Val Loss: 1.0980331897735596, Val Acc: 0.3515625\n",
      "Epoch: [1/1], Step: [581/782], Train Loss: 1.09884774684906, Train Acc: 0.3203125, Val Loss: 1.0983319282531738, Val Acc: 0.3515625\n",
      "Epoch: [1/1], Step: [591/782], Train Loss: 1.099151372909546, Train Acc: 0.3359375, Val Loss: 1.099860429763794, Val Acc: 0.3125\n",
      "Epoch: [1/1], Step: [601/782], Train Loss: 1.0983511209487915, Train Acc: 0.3125, Val Loss: 1.1004942655563354, Val Acc: 0.3125\n",
      "Epoch: [1/1], Step: [611/782], Train Loss: 1.09798264503479, Train Acc: 0.3046875, Val Loss: 1.0977363586425781, Val Acc: 0.3515625\n",
      "Epoch: [1/1], Step: [621/782], Train Loss: 1.0917258262634277, Train Acc: 0.359375, Val Loss: 1.0982743501663208, Val Acc: 0.3359375\n"
     ]
    },
    {
     "name": "stdout",
     "output_type": "stream",
     "text": [
      "Epoch: [1/1], Step: [631/782], Train Loss: 1.1024597883224487, Train Acc: 0.2890625, Val Loss: 1.0984256267547607, Val Acc: 0.3359375\n",
      "Epoch: [1/1], Step: [641/782], Train Loss: 1.0958596467971802, Train Acc: 0.359375, Val Loss: 1.0990417003631592, Val Acc: 0.3515625\n",
      "Epoch: [1/1], Step: [651/782], Train Loss: 1.1024219989776611, Train Acc: 0.296875, Val Loss: 1.0978525876998901, Val Acc: 0.3515625\n",
      "Epoch: [1/1], Step: [661/782], Train Loss: 1.1014822721481323, Train Acc: 0.2734375, Val Loss: 1.099424958229065, Val Acc: 0.3359375\n",
      "Epoch: [1/1], Step: [671/782], Train Loss: 1.098078966140747, Train Acc: 0.3515625, Val Loss: 1.0995055437088013, Val Acc: 0.3125\n",
      "Epoch: [1/1], Step: [681/782], Train Loss: 1.0999114513397217, Train Acc: 0.3125, Val Loss: 1.098724126815796, Val Acc: 0.3359375\n",
      "Epoch: [1/1], Step: [691/782], Train Loss: 1.1044995784759521, Train Acc: 0.296875, Val Loss: 1.0984560251235962, Val Acc: 0.3515625\n",
      "Epoch: [1/1], Step: [701/782], Train Loss: 1.094939947128296, Train Acc: 0.421875, Val Loss: 1.0999653339385986, Val Acc: 0.3515625\n",
      "Epoch: [1/1], Step: [711/782], Train Loss: 1.0964299440383911, Train Acc: 0.3359375, Val Loss: 1.0977801084518433, Val Acc: 0.3515625\n",
      "Epoch: [1/1], Step: [721/782], Train Loss: 1.0989288091659546, Train Acc: 0.3515625, Val Loss: 1.0980874300003052, Val Acc: 0.3515625\n",
      "Epoch: [1/1], Step: [731/782], Train Loss: 1.0982311964035034, Train Acc: 0.34375, Val Loss: 1.1024394035339355, Val Acc: 0.3125\n",
      "Epoch: [1/1], Step: [741/782], Train Loss: 1.0988621711730957, Train Acc: 0.3125, Val Loss: 1.099963903427124, Val Acc: 0.3125\n",
      "Epoch: [1/1], Step: [751/782], Train Loss: 1.098484992980957, Train Acc: 0.34375, Val Loss: 1.0988441705703735, Val Acc: 0.3125\n",
      "Epoch: [1/1], Step: [761/782], Train Loss: 1.097191572189331, Train Acc: 0.359375, Val Loss: 1.0998268127441406, Val Acc: 0.3359375\n",
      "Epoch: [1/1], Step: [771/782], Train Loss: 1.101176142692566, Train Acc: 0.28125, Val Loss: 1.0996956825256348, Val Acc: 0.3125\n",
      "Epoch: [1/1], Step: [781/782], Train Loss: 1.0977424383163452, Train Acc: 0.3046875, Val Loss: 1.0999337434768677, Val Acc: 0.3515625\n"
     ]
    }
   ],
   "source": [
    "cnn_model = CNN(embedding_matrix, 3, MAX_SENTENCE_LENGTH)\n",
    "load_from_path = None\n",
    "save_to_path = \"./cnn_multi_128.pkl\"\n",
    "train(cnn_model, 1, 1e-2, train_loader, val_loader, load_from_path, save_to_path, best_val_acc, train_losses, train_accs, val_losses, val_accs)"
   ]
  },
  {
   "cell_type": "markdown",
   "metadata": {
    "collapsed": true
   },
   "source": [
    "### Get Number of parameters and Plot"
   ]
  },
  {
   "cell_type": "code",
   "execution_count": 310,
   "metadata": {
    "collapsed": true
   },
   "outputs": [],
   "source": [
    "# CNN_CONCATE_128\n",
    "# get number of trainable parameters\n",
    "model_parameters_1 = filter(lambda p: p.requires_grad, model.parameters())\n",
    "params_1 = sum([np.prod(p.size()) for p in model_parameters_1])"
   ]
  },
  {
   "cell_type": "code",
   "execution_count": 311,
   "metadata": {},
   "outputs": [
    {
     "name": "stdout",
     "output_type": "stream",
     "text": [
      "Number of trainable parameters are 180200.\n"
     ]
    }
   ],
   "source": [
    "print(\"Number of trainable parameters are {}.\".format(params_1))"
   ]
  },
  {
   "cell_type": "code",
   "execution_count": 312,
   "metadata": {
    "collapsed": true
   },
   "outputs": [],
   "source": [
    "train_losses_1, train_accs_1, val_losses_1, val_accs_1 = train_losses, train_accs, val_losses, val_accs"
   ]
  },
  {
   "cell_type": "code",
   "execution_count": 313,
   "metadata": {},
   "outputs": [
    {
     "data": {
      "image/png": "[encoded data removed]",
      "text/plain": [
       "<matplotlib.figure.Figure at 0x123b19400>"
      ]
     },
     "metadata": {},
     "output_type": "display_data"
    }
   ],
   "source": [
    "# CNN_CONCATE_128\n",
    "# plot for losses\n",
    "title = 'cnn_loss_concate_128'\n",
    "plt.plot(train_losses_1, label='train losses')\n",
    "plt.plot(val_losses_1, label='val losses')\n",
    "plt.legend(loc='lower right')\n",
    "plt.xlabel(\"Step\")\n",
    "plt.ylabel(\"Loss\")\n",
    "plt.title(title)\n",
    "plt.savefig(title + \".png\")"
   ]
  },
  {
   "cell_type": "code",
   "execution_count": 314,
   "metadata": {},
   "outputs": [
    {
     "data": {
      "image/png": "[encoded data removed]",
      "text/plain": [
       "<matplotlib.figure.Figure at 0x129b1a4e0>"
      ]
     },
     "metadata": {},
     "output_type": "display_data"
    }
   ],
   "source": [
    "# CNN_CONCATE_128\n",
    "# plot for accs\n",
    "title = 'cnn_acc_concate_128'\n",
    "plt.plot(train_accs_1, label='train accs')\n",
    "plt.plot(val_accs_1, label='val accs')\n",
    "plt.legend(loc='lower right')\n",
    "plt.xlabel(\"Step\")\n",
    "plt.ylabel(\"Accuracy\")\n",
    "plt.title(title)\n",
    "plt.savefig(title + \".png\")"
   ]
  },
  {
   "cell_type": "code",
   "execution_count": 315,
   "metadata": {},
   "outputs": [
    {
     "name": "stdout",
     "output_type": "stream",
     "text": [
      "0.546875 0.4375\n"
     ]
    }
   ],
   "source": [
    "print(max(train_accs_1), max(val_accs_1))"
   ]
  },
  {
   "cell_type": "code",
   "execution_count": null,
   "metadata": {
    "collapsed": true
   },
   "outputs": [],
   "source": []
  },
  {
   "cell_type": "code",
   "execution_count": null,
   "metadata": {
    "collapsed": true
   },
   "outputs": [],
   "source": [
    "# CNN_CONCATE_256\n",
    "# get number of trainable parameters\n",
    "model_parameters_2 = filter(lambda p: p.requires_grad, model.parameters())\n",
    "params_2 = sum([np.prod(p.size()) for p in model_parameters_2])"
   ]
  },
  {
   "cell_type": "code",
   "execution_count": null,
   "metadata": {
    "collapsed": true
   },
   "outputs": [],
   "source": [
    "print(\"Number of trainable parameters are {}.\".format(params_2))"
   ]
  },
  {
   "cell_type": "code",
   "execution_count": null,
   "metadata": {
    "collapsed": true
   },
   "outputs": [],
   "source": [
    "train_losses_2, train_accs_2, val_losses_2, val_accs_2 = train_losses, train_accs, val_losses, val_accs"
   ]
  },
  {
   "cell_type": "code",
   "execution_count": null,
   "metadata": {
    "collapsed": true
   },
   "outputs": [],
   "source": [
    "# CNN_CONCATE_256\n",
    "# plot for losses\n",
    "title = 'cnn_loss_concate_256'\n",
    "plt.plot(train_losses_2, label='train losses')\n",
    "plt.plot(val_losses_2, label='val losses')\n",
    "plt.legend(loc='lower right')\n",
    "plt.xlabel(\"Step\")\n",
    "plt.ylabel(\"Loss\")\n",
    "plt.title(title)\n",
    "plt.savefig(title + \".png\")"
   ]
  },
  {
   "cell_type": "code",
   "execution_count": null,
   "metadata": {
    "collapsed": true
   },
   "outputs": [],
   "source": [
    "# CNN_CONCATE_256\n",
    "# plot for accs\n",
    "title = 'cnn_acc_concate_256'\n",
    "plt.plot(train_accs_2, label='train accs')\n",
    "plt.plot(val_accs_2, label='val accs')\n",
    "plt.legend(loc='lower right')\n",
    "plt.xlabel(\"Step\")\n",
    "plt.ylabel(\"Accuracy\")\n",
    "plt.title(title)\n",
    "plt.savefig(title + \".png\")"
   ]
  },
  {
   "cell_type": "code",
   "execution_count": null,
   "metadata": {
    "collapsed": true
   },
   "outputs": [],
   "source": [
    "print(max(train_accs_2), max(val_accs_2))"
   ]
  },
  {
   "cell_type": "code",
   "execution_count": null,
   "metadata": {
    "collapsed": true
   },
   "outputs": [],
   "source": []
  },
  {
   "cell_type": "code",
   "execution_count": null,
   "metadata": {
    "collapsed": true
   },
   "outputs": [],
   "source": [
    "# CNN_CONCATE_64\n",
    "# get number of trainable parameters\n",
    "model_parameters_3 = filter(lambda p: p.requires_grad, model.parameters())\n",
    "params_3 = sum([np.prod(p.size()) for p in model_parameters_3])"
   ]
  },
  {
   "cell_type": "code",
   "execution_count": null,
   "metadata": {
    "collapsed": true
   },
   "outputs": [],
   "source": [
    "print(\"Number of trainable parameters are {}.\".format(params_3))"
   ]
  },
  {
   "cell_type": "code",
   "execution_count": null,
   "metadata": {
    "collapsed": true
   },
   "outputs": [],
   "source": [
    "train_losses_3, train_accs_3, val_losses_3, val_accs_3 = train_losses, train_accs, val_losses, val_accs"
   ]
  },
  {
   "cell_type": "code",
   "execution_count": null,
   "metadata": {
    "collapsed": true
   },
   "outputs": [],
   "source": [
    "# CNN_CONCATE_64\n",
    "# plot for losses\n",
    "title = 'cnn_loss_concate_64'\n",
    "plt.plot(train_losses_3, label='train losses')\n",
    "plt.plot(val_losses_3, label='val losses')\n",
    "plt.legend(loc='lower right')\n",
    "plt.xlabel(\"Step\")\n",
    "plt.ylabel(\"Loss\")\n",
    "plt.title(title)\n",
    "plt.savefig(title + \".png\")"
   ]
  },
  {
   "cell_type": "code",
   "execution_count": null,
   "metadata": {
    "collapsed": true
   },
   "outputs": [],
   "source": [
    "# CNN_CONCATE_64\n",
    "# plot for accs\n",
    "title = 'cnn_acc_concate_64'\n",
    "plt.plot(train_accs_3, label='train accs')\n",
    "plt.plot(val_accs_3, label='val accs')\n",
    "plt.legend(loc='lower right')\n",
    "plt.xlabel(\"Step\")\n",
    "plt.ylabel(\"Accuracy\")\n",
    "plt.title(title)\n",
    "plt.savefig(title + \".png\")"
   ]
  },
  {
   "cell_type": "code",
   "execution_count": null,
   "metadata": {
    "collapsed": true
   },
   "outputs": [],
   "source": [
    "print(max(train_accs_3), max(val_accs_3))"
   ]
  },
  {
   "cell_type": "code",
   "execution_count": null,
   "metadata": {
    "collapsed": true
   },
   "outputs": [],
   "source": []
  },
  {
   "cell_type": "code",
   "execution_count": 328,
   "metadata": {
    "collapsed": true
   },
   "outputs": [],
   "source": [
    "# CNN_MULTI_128\n",
    "# get number of trainable parameters\n",
    "model_parameters_4 = filter(lambda p: p.requires_grad, model.parameters())\n",
    "params_4 = sum([np.prod(p.size()) for p in model_parameters_4])"
   ]
  },
  {
   "cell_type": "code",
   "execution_count": 329,
   "metadata": {},
   "outputs": [
    {
     "name": "stdout",
     "output_type": "stream",
     "text": [
      "Number of trainable parameters are 180200.\n"
     ]
    }
   ],
   "source": [
    "print(\"Number of trainable parameters are {}.\".format(params_4))"
   ]
  },
  {
   "cell_type": "code",
   "execution_count": 330,
   "metadata": {
    "collapsed": true
   },
   "outputs": [],
   "source": [
    "train_losses_4, train_accs_4, val_losses_4, val_accs_4 = train_losses, train_accs, val_losses, val_accs"
   ]
  },
  {
   "cell_type": "code",
   "execution_count": 331,
   "metadata": {},
   "outputs": [
    {
     "data": {
      "image/png": "[encoded data removed]",
      "text/plain": [
       "<matplotlib.figure.Figure at 0x130fc4b70>"
      ]
     },
     "metadata": {},
     "output_type": "display_data"
    }
   ],
   "source": [
    "# CNN_MULTI_128\n",
    "# plot for losses\n",
    "title = 'cnn_loss_multi_128'\n",
    "plt.plot(train_losses_4, label='train losses')\n",
    "plt.plot(val_losses_4, label='val losses')\n",
    "plt.legend(loc='lower right')\n",
    "plt.xlabel(\"Step\")\n",
    "plt.ylabel(\"Loss\")\n",
    "plt.title(title)\n",
    "plt.savefig(title + \".png\")"
   ]
  },
  {
   "cell_type": "code",
   "execution_count": 332,
   "metadata": {},
   "outputs": [
    {
     "data": {
      "image/png": "[encoded data removed]",
      "text/plain": [
       "<matplotlib.figure.Figure at 0x116376a20>"
      ]
     },
     "metadata": {},
     "output_type": "display_data"
    }
   ],
   "source": [
    "# CNN_MULTI_128\n",
    "# plot for accs\n",
    "title = 'cnn_acc_multi_128'\n",
    "plt.plot(train_accs_4, label='train accs')\n",
    "plt.plot(val_accs_4, label='val accs')\n",
    "plt.legend(loc='lower right')\n",
    "plt.xlabel(\"Step\")\n",
    "plt.ylabel(\"Accuracy\")\n",
    "plt.title(title)\n",
    "plt.savefig(title + \".png\")"
   ]
  },
  {
   "cell_type": "code",
   "execution_count": 333,
   "metadata": {},
   "outputs": [
    {
     "name": "stdout",
     "output_type": "stream",
     "text": [
      "0.5390625 0.421875\n"
     ]
    }
   ],
   "source": [
    "print(max(train_accs_4), max(val_accs_4))"
   ]
  },
  {
   "cell_type": "code",
   "execution_count": null,
   "metadata": {
    "collapsed": true
   },
   "outputs": [],
   "source": []
  },
  {
   "cell_type": "code",
   "execution_count": null,
   "metadata": {
    "collapsed": true
   },
   "outputs": [],
   "source": []
  },
  {
   "cell_type": "code",
   "execution_count": null,
   "metadata": {
    "collapsed": true
   },
   "outputs": [],
   "source": []
  },
  {
   "cell_type": "code",
   "execution_count": null,
   "metadata": {
    "collapsed": true
   },
   "outputs": [],
   "source": []
  },
  {
   "cell_type": "code",
   "execution_count": null,
   "metadata": {
    "collapsed": true
   },
   "outputs": [],
   "source": []
  },
  {
   "cell_type": "code",
   "execution_count": null,
   "metadata": {
    "collapsed": true
   },
   "outputs": [],
   "source": []
  },
  {
   "cell_type": "code",
   "execution_count": null,
   "metadata": {
    "collapsed": true
   },
   "outputs": [],
   "source": []
  },
  {
   "cell_type": "code",
   "execution_count": null,
   "metadata": {
    "collapsed": true
   },
   "outputs": [],
   "source": []
  }
 ],
 "metadata": {
  "kernelspec": {
   "display_name": "Python 3",
   "language": "python",
   "name": "python3"
  },
  "language_info": {
   "codemirror_mode": {
    "name": "ipython",
    "version": 3
   },
   "file_extension": ".py",
   "mimetype": "text/x-python",
   "name": "python",
   "nbconvert_exporter": "python",
   "pygments_lexer": "ipython3",
   "version": "3.6.1"
  }
 },
 "nbformat": 4,
 "nbformat_minor": 2
}

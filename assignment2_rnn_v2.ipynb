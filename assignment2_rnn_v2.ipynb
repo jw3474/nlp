{
 "cells": [
  {
   "cell_type": "code",
   "execution_count": 1,
   "metadata": {
    "collapsed": true
   },
   "outputs": [],
   "source": [
    "import os\n",
    "import torch\n",
    "import numpy as np\n",
    "import pandas as pd\n",
    "import nltk\n",
    "import random\n",
    "from collections import Counter\n",
    "from nltk import word_tokenize\n",
    "from nltk.stem import WordNetLemmatizer\n",
    "from nltk.corpus import stopwords\n",
    "from torch.utils.data import Dataset\n",
    "import torch.nn as nn\n",
    "import torch.nn.functional as F\n",
    "import matplotlib.pyplot as plt\n",
    "%matplotlib inline"
   ]
  },
  {
   "cell_type": "markdown",
   "metadata": {},
   "source": [
    "### Load Data and Data Preprocessing"
   ]
  },
  {
   "cell_type": "code",
   "execution_count": 2,
   "metadata": {
    "collapsed": true
   },
   "outputs": [],
   "source": [
    "# specify date type and device type\n",
    "dtype = torch.float\n",
    "device = torch.device(\"cpu\")"
   ]
  },
  {
   "cell_type": "code",
   "execution_count": 4,
   "metadata": {},
   "outputs": [
    {
     "data": {
      "text/html": [
       "<div>\n",
       "<style>\n",
       "    .dataframe thead tr:only-child th {\n",
       "        text-align: right;\n",
       "    }\n",
       "\n",
       "    .dataframe thead th {\n",
       "        text-align: left;\n",
       "    }\n",
       "\n",
       "    .dataframe tbody tr th {\n",
       "        vertical-align: top;\n",
       "    }\n",
       "</style>\n",
       "<table border=\"1\" class=\"dataframe\">\n",
       "  <thead>\n",
       "    <tr style=\"text-align: right;\">\n",
       "      <th></th>\n",
       "      <th>sentence1</th>\n",
       "      <th>sentence2</th>\n",
       "      <th>label</th>\n",
       "    </tr>\n",
       "  </thead>\n",
       "  <tbody>\n",
       "    <tr>\n",
       "      <th>0</th>\n",
       "      <td>A young girl in a pink shirt sitting on a dock...</td>\n",
       "      <td>A young girl watching the sunset over the water .</td>\n",
       "      <td>neutral</td>\n",
       "    </tr>\n",
       "    <tr>\n",
       "      <th>1</th>\n",
       "      <td>A woman is smiling while the man next to her i...</td>\n",
       "      <td>Two people are next to each other .</td>\n",
       "      <td>entailment</td>\n",
       "    </tr>\n",
       "    <tr>\n",
       "      <th>2</th>\n",
       "      <td>Across the river , you can see a large building .</td>\n",
       "      <td>The large building is full of apartments and t...</td>\n",
       "      <td>neutral</td>\n",
       "    </tr>\n",
       "    <tr>\n",
       "      <th>3</th>\n",
       "      <td>a man in white shorts and a black shirt is par...</td>\n",
       "      <td>A man is riding a jetski on the ocean .</td>\n",
       "      <td>contradiction</td>\n",
       "    </tr>\n",
       "    <tr>\n",
       "      <th>4</th>\n",
       "      <td>Four black dogs run together on bright green g...</td>\n",
       "      <td>Four dogs are preparing to be launched into sp...</td>\n",
       "      <td>contradiction</td>\n",
       "    </tr>\n",
       "  </tbody>\n",
       "</table>\n",
       "</div>"
      ],
      "text/plain": [
       "                                           sentence1  \\\n",
       "0  A young girl in a pink shirt sitting on a dock...   \n",
       "1  A woman is smiling while the man next to her i...   \n",
       "2  Across the river , you can see a large building .   \n",
       "3  a man in white shorts and a black shirt is par...   \n",
       "4  Four black dogs run together on bright green g...   \n",
       "\n",
       "                                           sentence2          label  \n",
       "0  A young girl watching the sunset over the water .        neutral  \n",
       "1                Two people are next to each other .     entailment  \n",
       "2  The large building is full of apartments and t...        neutral  \n",
       "3            A man is riding a jetski on the ocean .  contradiction  \n",
       "4  Four dogs are preparing to be launched into sp...  contradiction  "
      ]
     },
     "execution_count": 4,
     "metadata": {},
     "output_type": "execute_result"
    }
   ],
   "source": [
    "# initial peek of the training set\n",
    "data = pd.read_csv(\"./hw2_data/snli_train.tsv\", sep='\\t', header = 0)\n",
    "data.head()"
   ]
  },
  {
   "cell_type": "code",
   "execution_count": 5,
   "metadata": {},
   "outputs": [
    {
     "data": {
      "text/html": [
       "<div>\n",
       "<style>\n",
       "    .dataframe thead tr:only-child th {\n",
       "        text-align: right;\n",
       "    }\n",
       "\n",
       "    .dataframe thead th {\n",
       "        text-align: left;\n",
       "    }\n",
       "\n",
       "    .dataframe tbody tr th {\n",
       "        vertical-align: top;\n",
       "    }\n",
       "</style>\n",
       "<table border=\"1\" class=\"dataframe\">\n",
       "  <thead>\n",
       "    <tr style=\"text-align: right;\">\n",
       "      <th></th>\n",
       "      <th>sentence1</th>\n",
       "      <th>sentence2</th>\n",
       "      <th>label</th>\n",
       "    </tr>\n",
       "  </thead>\n",
       "  <tbody>\n",
       "    <tr>\n",
       "      <th>0</th>\n",
       "      <td>Three women on a stage , one wearing red shoes...</td>\n",
       "      <td>There are two women standing on the stage</td>\n",
       "      <td>contradiction</td>\n",
       "    </tr>\n",
       "    <tr>\n",
       "      <th>1</th>\n",
       "      <td>Four people sit on a subway two read books , o...</td>\n",
       "      <td>Multiple people are on a subway together , wit...</td>\n",
       "      <td>entailment</td>\n",
       "    </tr>\n",
       "    <tr>\n",
       "      <th>2</th>\n",
       "      <td>bicycles stationed while a group of people soc...</td>\n",
       "      <td>People get together near a stand of bicycles .</td>\n",
       "      <td>entailment</td>\n",
       "    </tr>\n",
       "    <tr>\n",
       "      <th>3</th>\n",
       "      <td>Man in overalls with two horses .</td>\n",
       "      <td>a man in overalls with two horses</td>\n",
       "      <td>entailment</td>\n",
       "    </tr>\n",
       "    <tr>\n",
       "      <th>4</th>\n",
       "      <td>Man observes a wavelength given off by an elec...</td>\n",
       "      <td>The man is examining what wavelength is given ...</td>\n",
       "      <td>entailment</td>\n",
       "    </tr>\n",
       "  </tbody>\n",
       "</table>\n",
       "</div>"
      ],
      "text/plain": [
       "                                           sentence1  \\\n",
       "0  Three women on a stage , one wearing red shoes...   \n",
       "1  Four people sit on a subway two read books , o...   \n",
       "2  bicycles stationed while a group of people soc...   \n",
       "3                  Man in overalls with two horses .   \n",
       "4  Man observes a wavelength given off by an elec...   \n",
       "\n",
       "                                           sentence2          label  \n",
       "0          There are two women standing on the stage  contradiction  \n",
       "1  Multiple people are on a subway together , wit...     entailment  \n",
       "2     People get together near a stand of bicycles .     entailment  \n",
       "3                  a man in overalls with two horses     entailment  \n",
       "4  The man is examining what wavelength is given ...     entailment  "
      ]
     },
     "execution_count": 5,
     "metadata": {},
     "output_type": "execute_result"
    }
   ],
   "source": [
    "# initial peek of the validation set\n",
    "vali = pd.read_csv(\"./hw2_data/snli_val.tsv\", sep='\\t', header = 0)\n",
    "vali.head()"
   ]
  },
  {
   "cell_type": "code",
   "execution_count": 6,
   "metadata": {},
   "outputs": [
    {
     "data": {
      "text/plain": [
       "((100000, 3), (1000, 3))"
      ]
     },
     "execution_count": 6,
     "metadata": {},
     "output_type": "execute_result"
    }
   ],
   "source": [
    "# get shape of the data\n",
    "data.shape, vali.shape"
   ]
  },
  {
   "cell_type": "code",
   "execution_count": 7,
   "metadata": {},
   "outputs": [
    {
     "data": {
      "text/plain": [
       "sentence1    0\n",
       "sentence2    0\n",
       "label        0\n",
       "dtype: int64"
      ]
     },
     "execution_count": 7,
     "metadata": {},
     "output_type": "execute_result"
    }
   ],
   "source": [
    "# check for any missing values\n",
    "data.isnull().sum(axis = 0)"
   ]
  },
  {
   "cell_type": "code",
   "execution_count": 8,
   "metadata": {},
   "outputs": [
    {
     "data": {
      "text/plain": [
       "sentence1    0\n",
       "sentence2    0\n",
       "label        0\n",
       "dtype: int64"
      ]
     },
     "execution_count": 8,
     "metadata": {},
     "output_type": "execute_result"
    }
   ],
   "source": [
    "# check for any missing values\n",
    "vali.isnull().sum(axis = 0)"
   ]
  },
  {
   "cell_type": "code",
   "execution_count": 9,
   "metadata": {
    "collapsed": true
   },
   "outputs": [],
   "source": [
    "label_idx = {\"entailment\": 0, \"contradiction\": 1, \"neutral\": 2}"
   ]
  },
  {
   "cell_type": "code",
   "execution_count": 10,
   "metadata": {
    "collapsed": true
   },
   "outputs": [],
   "source": [
    "def load_data(PATH_TO_FILE):\n",
    "    data = pd.read_csv(PATH_TO_FILE, sep='\\t', header=0)\n",
    "    s1_text = []\n",
    "    s2_text = []\n",
    "    label = []\n",
    "    for idx, row in data.iterrows():\n",
    "        s1 = row['sentence1'].lower()\n",
    "        s2 = row['sentence2'].lower()\n",
    "        label.append(label_idx[row['label'].lower()])\n",
    "        s1_text.append(s1.split())\n",
    "        s2_text.append(s2.split())\n",
    "    return s1_text, s2_text, label"
   ]
  },
  {
   "cell_type": "code",
   "execution_count": 12,
   "metadata": {
    "collapsed": true
   },
   "outputs": [],
   "source": [
    "train_s1_text, train_s2_text, train_label = load_data(\"./hw2_data/snli_train.tsv\")"
   ]
  },
  {
   "cell_type": "code",
   "execution_count": null,
   "metadata": {
    "collapsed": true
   },
   "outputs": [],
   "source": [
    "val_s1_text, val_s2_text, val_label = load_data(\"./hw2_data/snli_val.tsv\")"
   ]
  },
  {
   "cell_type": "code",
   "execution_count": 13,
   "metadata": {
    "collapsed": true
   },
   "outputs": [],
   "source": [
    "def load_data(PATH_TO_FILE):\n",
    "    data = pd.read_csv(PATH_TO_FILE, sep='\\t', header=0)\n",
    "    s1_text = []\n",
    "    s2_text = []\n",
    "    label = []\n",
    "    for idx, row in data.iterrows():\n",
    "        s1 = row['sentence1'].lower()\n",
    "        s2 = row['sentence2'].lower()\n",
    "        label.append(label_idx[row['label'].lower()])\n",
    "        s1_text.append(s1.split())\n",
    "        s2_text.append(s2.split())\n",
    "    return s1_text, s2_text, label"
   ]
  },
  {
   "cell_type": "code",
   "execution_count": 14,
   "metadata": {},
   "outputs": [
    {
     "name": "stdout",
     "output_type": "stream",
     "text": [
      "100000 100000 100000\n"
     ]
    }
   ],
   "source": [
    "# print size of the training set\n",
    "print(len(train_s1_text), len(train_s2_text), len(train_label))"
   ]
  },
  {
   "cell_type": "code",
   "execution_count": 15,
   "metadata": {},
   "outputs": [
    {
     "name": "stdout",
     "output_type": "stream",
     "text": [
      "1000 1000 1000\n"
     ]
    }
   ],
   "source": [
    "# print size of the validation set\n",
    "print(len(val_s1_text), len(val_s2_text), len(val_label))"
   ]
  },
  {
   "cell_type": "code",
   "execution_count": 16,
   "metadata": {},
   "outputs": [
    {
     "data": {
      "text/plain": [
       "True"
      ]
     },
     "execution_count": 16,
     "metadata": {},
     "output_type": "execute_result"
    }
   ],
   "source": [
    "# check all labels are numerical by now\n",
    "all(type(item)==int for item in train_label)\n",
    "all(type(item)==int for item in val_label)"
   ]
  },
  {
   "cell_type": "code",
   "execution_count": 17,
   "metadata": {
    "collapsed": true
   },
   "outputs": [],
   "source": [
    "PAD_IDX = 0\n",
    "UNK_IDX = 1"
   ]
  },
  {
   "cell_type": "code",
   "execution_count": 18,
   "metadata": {
    "collapsed": true
   },
   "outputs": [],
   "source": [
    "def get_num_unique(d):\n",
    "    unique = set()\n",
    "    for l in d:\n",
    "        for w in l:\n",
    "            unique.add(w)\n",
    "    return len(unique)"
   ]
  },
  {
   "cell_type": "code",
   "execution_count": 19,
   "metadata": {},
   "outputs": [
    {
     "name": "stdout",
     "output_type": "stream",
     "text": [
      "15189 15699 21023\n"
     ]
    }
   ],
   "source": [
    "TRAIN_S1_VOCAB_SIZE = get_num_unique(train_s1_text)\n",
    "TRAIN_S2_VOCAB_SIZE = get_num_unique(train_s2_text)\n",
    "TRAIN_VOCAB_SIZE = get_num_unique(train_s1_text + train_s2_text)\n",
    "print(TRAIN_S1_VOCAB_SIZE, TRAIN_S2_VOCAB_SIZE, TRAIN_VOCAB_SIZE)"
   ]
  },
  {
   "cell_type": "code",
   "execution_count": 20,
   "metadata": {},
   "outputs": [
    {
     "name": "stdout",
     "output_type": "stream",
     "text": [
      "1403863 824202 2228065\n"
     ]
    }
   ],
   "source": [
    "all_train_s1_tokens = [token for sublist in train_s1_text for token in sublist]\n",
    "all_train_s2_tokens = [token for sublist in train_s2_text for token in sublist]\n",
    "all_train_tokens = all_train_s1_tokens + all_train_s2_tokens\n",
    "print(len(all_train_s1_tokens), len(all_train_s2_tokens), len(all_train_tokens))"
   ]
  },
  {
   "cell_type": "code",
   "execution_count": 21,
   "metadata": {
    "collapsed": true
   },
   "outputs": [],
   "source": [
    "def build_vocab(all_tokens, MAX_VOCAB_SIZE):\n",
    "    # Returns:\n",
    "    # id2token: list of tokens, where id2token[i] returns token that corresponds to token i\n",
    "    # token2id: dictionary where keys represent tokens and corresponding values represent indices\n",
    "    token_counter = Counter(all_tokens)\n",
    "    vocab, count = zip(*token_counter.most_common(MAX_VOCAB_SIZE))\n",
    "    id2token = list(vocab)\n",
    "    token2id = dict(zip(vocab, range(2,2+len(vocab))))\n",
    "    id2token = ['PAD', 'UNK'] + id2token\n",
    "    token2id['PAD'] = PAD_IDX\n",
    "    token2id['UNK'] = UNK_IDX\n",
    "    return token2id, id2token"
   ]
  },
  {
   "cell_type": "code",
   "execution_count": 22,
   "metadata": {
    "collapsed": true
   },
   "outputs": [],
   "source": [
    "token2id, id2token = build_vocab(all_train_tokens, TRAIN_VOCAB_SIZE)"
   ]
  },
  {
   "cell_type": "code",
   "execution_count": 23,
   "metadata": {
    "collapsed": true
   },
   "outputs": [],
   "source": [
    "# ADDED 'PAD' and 'UNK' into our vocabulary\n",
    "TRAIN_VOCAB_SIZE += 2"
   ]
  },
  {
   "cell_type": "code",
   "execution_count": 24,
   "metadata": {},
   "outputs": [
    {
     "name": "stdout",
     "output_type": "stream",
     "text": [
      "Token id 2891 ; token classic\n",
      "Token classic; token id 2891\n"
     ]
    }
   ],
   "source": [
    "# Lets check the dictionary by loading random token from it\n",
    "\n",
    "random_token_id = random.randint(0, len(id2token)-1)\n",
    "random_token = id2token[random_token_id]\n",
    "\n",
    "print (\"Token id {} ; token {}\".format(random_token_id, id2token[random_token_id]))\n",
    "print (\"Token {}; token id {}\".format(random_token, token2id[random_token]))"
   ]
  },
  {
   "cell_type": "code",
   "execution_count": 25,
   "metadata": {
    "collapsed": true
   },
   "outputs": [],
   "source": [
    "# convert token to id in the dataset\n",
    "def token2index_dataset(tokens_data):\n",
    "    indices_data = []\n",
    "    for tokens in tokens_data:\n",
    "        index_list = [token2id[token] if token in token2id else UNK_IDX for token in tokens]\n",
    "        indices_data.append(index_list)\n",
    "    return indices_data"
   ]
  },
  {
   "cell_type": "code",
   "execution_count": 26,
   "metadata": {
    "collapsed": true
   },
   "outputs": [],
   "source": [
    "train_s1_indices = token2index_dataset(train_s1_text)\n",
    "train_s2_indices = token2index_dataset(train_s2_text)\n",
    "val_s1_indices = token2index_dataset(val_s1_text)\n",
    "val_s2_indices = token2index_dataset(val_s2_text)"
   ]
  },
  {
   "cell_type": "code",
   "execution_count": 27,
   "metadata": {},
   "outputs": [
    {
     "name": "stdout",
     "output_type": "stream",
     "text": [
      "Sentence 1 train dataset size is 100000\n",
      "Sentence 2 train dataset size is 100000\n",
      "Sentence 1 val dataset size is 1000\n",
      "Sentence 2 val dataset size is 1000\n"
     ]
    }
   ],
   "source": [
    "# double checking\n",
    "print (\"Sentence 1 train dataset size is {}\".format(len(train_s1_indices)))\n",
    "print (\"Sentence 2 train dataset size is {}\".format(len(train_s2_indices)))\n",
    "print (\"Sentence 1 val dataset size is {}\".format(len(val_s1_indices)))\n",
    "print (\"Sentence 2 val dataset size is {}\".format(len(val_s2_indices)))"
   ]
  },
  {
   "cell_type": "code",
   "execution_count": 28,
   "metadata": {},
   "outputs": [
    {
     "name": "stdout",
     "output_type": "stream",
     "text": [
      "82 41 82\n"
     ]
    }
   ],
   "source": [
    "# get maximum sentence length\n",
    "S1_MAX_SENTENCE_LENGTH = max([len(sublist) for sublist in train_s1_text])\n",
    "S2_MAX_SENTENCE_LENGTH = max([len(sublist) for sublist in train_s2_text])\n",
    "MAX_SENTENCE_LENGTH = max(S1_MAX_SENTENCE_LENGTH, S2_MAX_SENTENCE_LENGTH)\n",
    "print(S1_MAX_SENTENCE_LENGTH, S2_MAX_SENTENCE_LENGTH, MAX_SENTENCE_LENGTH)"
   ]
  },
  {
   "cell_type": "code",
   "execution_count": 29,
   "metadata": {},
   "outputs": [
    {
     "data": {
      "text/plain": [
       "True"
      ]
     },
     "execution_count": 29,
     "metadata": {},
     "output_type": "execute_result"
    }
   ],
   "source": [
    "TRAIN_VOCAB_SIZE == len(token2id) == len(id2token)"
   ]
  },
  {
   "cell_type": "markdown",
   "metadata": {},
   "source": [
    "### Get Pretrained Word Vectors"
   ]
  },
  {
   "cell_type": "code",
   "execution_count": 38,
   "metadata": {
    "collapsed": true
   },
   "outputs": [],
   "source": [
    "# # load fasttext pretrained word vectors\n",
    "# with open('./crawl-300d-2M.vec') as f:\n",
    "#     embedding_matrix = np.zeros((TRAIN_VOCAB_SIZE, 300))\n",
    "#     for i, line in enumerate(f):\n",
    "#         s = line.split()\n",
    "#         w = s[0].lower()\n",
    "#         v = np.asarray(s[1:])\n",
    "#         if w in token2id:\n",
    "#             embedding_matrix[token2id[w], :] = v\n",
    "# #         loaded_embeddings[i, :] = np.asarray(s[1:])"
   ]
  },
  {
   "cell_type": "code",
   "execution_count": 39,
   "metadata": {
    "collapsed": true
   },
   "outputs": [],
   "source": [
    "# save embedding_matrix for future use\n",
    "#np.save('embedding_matrix.npy', embedding_matrix)"
   ]
  },
  {
   "cell_type": "code",
   "execution_count": 30,
   "metadata": {
    "collapsed": true
   },
   "outputs": [],
   "source": [
    "# load saved embedding_matrix\n",
    "embedding_matrix = np.load('embedding_matrix.npy')"
   ]
  },
  {
   "cell_type": "code",
   "execution_count": 31,
   "metadata": {},
   "outputs": [
    {
     "data": {
      "text/plain": [
       "(21025, 300)"
      ]
     },
     "execution_count": 31,
     "metadata": {},
     "output_type": "execute_result"
    }
   ],
   "source": [
    "# print shape of the embedding matrix\n",
    "embedding_matrix.shape"
   ]
  },
  {
   "cell_type": "markdown",
   "metadata": {},
   "source": [
    "### Data Generator"
   ]
  },
  {
   "cell_type": "code",
   "execution_count": 32,
   "metadata": {
    "collapsed": true
   },
   "outputs": [],
   "source": [
    "class SnilDataset(Dataset):\n",
    "    \"\"\"\n",
    "    Class that represents a train/validation/test dataset that's readable for PyTorch\n",
    "    Note that this class inherits torch.utils.data.Dataset\n",
    "    \"\"\"\n",
    "\n",
    "    def __init__(self, s1_data_list, s2_data_list, target_list, token2id):\n",
    "        \"\"\"\n",
    "        @param data_list: list of tokens\n",
    "        @param target_list: list of targets\n",
    "\n",
    "        \"\"\"\n",
    "        self.s1_data_list, self.s2_data_list, self.target_list = s1_data_list, s2_data_list, target_list\n",
    "        assert(len(self.s1_data_list) == len(self.target_list))\n",
    "        assert(len(self.s2_data_list) == len(self.target_list))\n",
    "        self.token2id = token2id\n",
    "\n",
    "    def __len__(self):\n",
    "        return len(self.s1_data_list)\n",
    "\n",
    "    def __getitem__(self, key):\n",
    "        \"\"\"\n",
    "        Triggered when you call dataset[i]\n",
    "        \"\"\"\n",
    "        s1_token_idx = self.s1_data_list[key][:MAX_SENTENCE_LENGTH]\n",
    "        s2_token_idx = self.s2_data_list[key][:MAX_SENTENCE_LENGTH]\n",
    "        label = self.target_list[key]\n",
    "        return [s1_token_idx, s2_token_idx, len(s1_token_idx), len(s2_token_idx), label]"
   ]
  },
  {
   "cell_type": "code",
   "execution_count": 33,
   "metadata": {
    "collapsed": true
   },
   "outputs": [],
   "source": [
    "def collate_func(batch):\n",
    "    \"\"\"\n",
    "    Customized function for DataLoader that dynamically pads the batch so that all\n",
    "    data have the same length\n",
    "    \"\"\"\n",
    "    s1_data_list = []\n",
    "    s2_data_list = []\n",
    "    label_list = []\n",
    "    s1_length_list = []\n",
    "    s2_length_list = []\n",
    "\n",
    "    for datum in batch:\n",
    "        label_list.append(datum[4])\n",
    "        s1_length_list.append(datum[2])\n",
    "        s2_length_list.append(datum[3])\n",
    "    for datum in batch:\n",
    "        s1_padded_vec = np.pad(np.array(datum[0]),\n",
    "                                pad_width=((0,MAX_SENTENCE_LENGTH-datum[2])),\n",
    "                                mode=\"constant\", constant_values=0)\n",
    "        s1_data_list.append(s1_padded_vec)\n",
    "        s2_padded_vec = np.pad(np.array(datum[1]),\n",
    "                                pad_width=((0,MAX_SENTENCE_LENGTH-datum[3])),\n",
    "                                mode=\"constant\", constant_values=0)\n",
    "        s2_data_list.append(s2_padded_vec)\n",
    "    return [torch.from_numpy(np.array(s1_data_list)), torch.from_numpy(np.array(s2_data_list)), torch.LongTensor(s1_length_list), torch.LongTensor(s2_length_list), torch.LongTensor(label_list)]"
   ]
  },
  {
   "cell_type": "code",
   "execution_count": 34,
   "metadata": {
    "collapsed": true
   },
   "outputs": [],
   "source": [
    "BATCH_SIZE = 128\n",
    "train_dataset = SnilDataset(train_s1_indices, train_s2_indices, train_label, token2id)\n",
    "train_loader = torch.utils.data.DataLoader(dataset=train_dataset, \n",
    "                                           batch_size=BATCH_SIZE,\n",
    "                                           collate_fn=collate_func,\n",
    "                                           shuffle=False)"
   ]
  },
  {
   "cell_type": "code",
   "execution_count": 35,
   "metadata": {
    "collapsed": true
   },
   "outputs": [],
   "source": [
    "val_dataset = SnilDataset(train_s1_indices, train_s2_indices, train_label, token2id)\n",
    "val_loader = torch.utils.data.DataLoader(dataset=train_dataset, \n",
    "                                           batch_size=BATCH_SIZE,\n",
    "                                           collate_fn=collate_func,\n",
    "                                           shuffle=False)"
   ]
  },
  {
   "cell_type": "markdown",
   "metadata": {},
   "source": [
    "### RNN"
   ]
  },
  {
   "cell_type": "code",
   "execution_count": 188,
   "metadata": {
    "collapsed": true
   },
   "outputs": [],
   "source": [
    "class TwoSentencesRNN(nn.Module):\n",
    "    \"\"\"Encapsulates the implementation of RNN-based two sentence relation prediction model\"\"\"\n",
    "\n",
    "    def __init__(self, embedding_matrix, num_classes, seq_len):\n",
    "        \n",
    "        super(TwoSentencesRNN, self).__init__()\n",
    "\n",
    "        # Build embedding layer\n",
    "        vocab_size = embedding_matrix.shape[0]\n",
    "        embedding_dim = embedding_matrix.shape[1]\n",
    "        self.embed = nn.Embedding(vocab_size, embedding_dim)\n",
    "        self.embed.weight.data.copy_(torch.from_numpy(embedding_matrix))\n",
    "        self.embed.requires_grad = False\n",
    "        \n",
    "        # Build RNN\n",
    "        rnn_hidden_size = 128\n",
    "#         rnn_hidden_size = 256\n",
    "#         rnn_hidden_size = 64\n",
    "        \n",
    "        rnn_num_layers = 1\n",
    "        self.gru = nn.GRU(embedding_dim, rnn_hidden_size, rnn_num_layers, batch_first=True)\n",
    "        self.h0 = torch.autograd.Variable(torch.randn(rnn_num_layers, rnn_hidden_size, rnn_hidden_size))\n",
    "#         self.h0 = torch.autograd.Variable(torch.randn(rnn_num_layers, rnn_hidden_size//2, rnn_hidden_size))\n",
    "#         self.h0 = torch.autograd.Variable(torch.randn(rnn_num_layers, rnn_hidden_size * 2, rnn_hidden_size))\n",
    "\n",
    "        # Build classification head\n",
    "        cls_hidden_size = 128\n",
    "#         for concate\n",
    "#         self.cls_net = nn.Sequential(nn.Linear(rnn_hidden_size * 2, cls_hidden_size), nn.Linear(cls_hidden_size, num_classes))\n",
    "#         for multi\n",
    "        self.cls_net = nn.Sequential(nn.Linear(rnn_hidden_size, cls_hidden_size), nn.Linear(cls_hidden_size, num_classes))\n",
    "\n",
    "\n",
    "    def forward(self, sent1, sent2, sent1_len, sent2_len):\n",
    "        e1, e2 = self.embed(sent1), self.embed(sent2)\n",
    "\n",
    "        outs1, _ = self.gru(e1, self.h0)\n",
    "        outs2, _ = self.gru(e2, self.h0)\n",
    "\n",
    "        # Get the last output\n",
    "        batch_size = e1.size()[0]\n",
    "        f1 = outs1[torch.arange(batch_size, out=torch.LongTensor()), sent1_len - 1]\n",
    "        f2 = outs2[torch.arange(batch_size, out=torch.LongTensor()), sent2_len - 1]\n",
    "        print(outs1.size(), outs2.size())\n",
    "        print(f1.size(), f2.size())\n",
    "        \n",
    "        # concatenation\n",
    "#         concat_features = torch.cat([f1, f2], 1)\n",
    "        \n",
    "        # element-wise multiplication\n",
    "        concat_features = torch.mul(f1, f2)\n",
    "\n",
    "        logits = self.cls_net(concat_features)\n",
    "\n",
    "        return logits"
   ]
  },
  {
   "cell_type": "code",
   "execution_count": 189,
   "metadata": {
    "collapsed": true
   },
   "outputs": [],
   "source": [
    "def evaluate(model, loss_func, sent1, sent2, sent1_len, sent2_len, labels):\n",
    "    logits = model(sent1, sent2, sent1_len, sent2_len)\n",
    "    loss = loss_func(logits, labels)\n",
    "    _, pred = torch.max(logits, 1)\n",
    "    acc = (labels == pred).sum()\n",
    "    pred_value = pred.cpu().data\n",
    "    loss_value = loss.cpu().data[0]\n",
    "    acc_value = acc.cpu().data.numpy() / labels.size()[0]\n",
    "    return loss, float(loss_value), float(acc_value)\n",
    "\n",
    "best_val_acc = 0\n",
    "train_losses, train_accs, val_losses, val_accs = [], [], [], []\n",
    "\n",
    "def train(model, num_epochs, learning_rate, train_loader, val_loader, load_from_path, save_to_path, best_val_acc, train_losses, train_accs, val_losses, val_accs):\n",
    "\n",
    "    # Define loss function\n",
    "    ce_loss = nn.CrossEntropyLoss()\n",
    "    # Define optimizer\n",
    "    optimizer = torch.optim.Adam(model.parameters(), lr=learning_rate)\n",
    "    \n",
    "#     best_val_acc = 0\n",
    "#     train_losses, train_accs, val_losses, val_accs = [], [], [], []\n",
    "\n",
    "    # Load model\n",
    "    if load_from_path is not None:\n",
    "        checkpoint = torch.load(load_from_path)\n",
    "        model.load_state_dict(checkpoint['model_state_dict'])\n",
    "        optimizer.load_state_dict(checkpoint['optimizer_state_dict'])\n",
    "        best_val_acc = checkpoint['best_val_acc']\n",
    "        train_losses = checkpoint['train_losses']\n",
    "        train_accs = checkpoint['train_accs']\n",
    "        val_losses = checkpoint['val_losses']\n",
    "        val_accs = checkpoint['val_accs']\n",
    "\n",
    "    for epoch in range(num_epochs):\n",
    "        for i, (sent1, sent2, sent1_len, sent2_len, labels) in enumerate(train_loader):\n",
    "            # Flag training mode for the model\n",
    "            model.train()\n",
    "            \n",
    "            # Clear all accumulated gradients\n",
    "            optimizer.zero_grad()\n",
    "            \n",
    "            loss, train_loss_value, train_acc_value = evaluate(model, ce_loss, sent1, sent2, sent1_len, sent2_len, labels)\n",
    "\n",
    "            # Backprop from loss\n",
    "            loss.backward()\n",
    "            \n",
    "            # Update parameters\n",
    "            optimizer.step()\n",
    "            \n",
    "            # Validation\n",
    "            for val_sent1, val_sent2, val_sent1_len, val_sent2_len, val_labels in val_loader:\n",
    "                model.eval()\n",
    "                _, val_loss_value, val_acc_value = evaluate(model, ce_loss, val_sent1, val_sent2, val_sent1_len, val_sent2_len, val_labels)\n",
    "                break\n",
    "\n",
    "            train_losses.append(train_loss_value)\n",
    "            train_accs.append(train_acc_value)\n",
    "            val_losses.append(val_loss_value)\n",
    "            val_accs.append(val_acc_value)\n",
    "\n",
    "            if i % 10 == 0:\n",
    "                if val_acc_value > best_val_acc and save_to_path is not None:\n",
    "                    best_val_acc = val_acc_value\n",
    "                    # Save model\n",
    "                    save_dict = {\n",
    "                        'model_state_dict': model.state_dict(),\n",
    "                        'optimizer_state_dict': optimizer.state_dict(),\n",
    "                        'best_val_acc': best_val_acc,\n",
    "                        'train_losses': train_losses,\n",
    "                        'train_accs': train_accs,\n",
    "                        'val_losses': val_losses,\n",
    "                        'val_accs': val_accs\n",
    "                    }\n",
    "                    torch.save(save_dict, save_to_path)\n",
    "                print('Epoch: [{}/{}], Step: [{}/{}], Train Loss: {}, Train Acc: {}, Val Loss: {}, Val Acc: {}'.format(epoch+1, num_epochs, i+1, len(train_loader), train_loss_value, train_acc_value, val_loss_value, val_acc_value))\n"
   ]
  },
  {
   "cell_type": "code",
   "execution_count": 75,
   "metadata": {},
   "outputs": [
    {
     "name": "stderr",
     "output_type": "stream",
     "text": [
      "/Users/wu/anaconda/lib/python3.6/site-packages/ipykernel_launcher.py:7: UserWarning: invalid index of a 0-dim tensor. This will be an error in PyTorch 0.5. Use tensor.item() to convert a 0-dim tensor to a Python number\n",
      "  import sys\n"
     ]
    },
    {
     "name": "stdout",
     "output_type": "stream",
     "text": [
      "Epoch: [0/1], Step: 0, Train Loss: 1.1025400161743164, Train Acc: 0.328125, Val Loss: 1.250766396522522, Val Acc: 0.3515625\n",
      "Epoch: [0/1], Step: 10, Train Loss: 1.0999537706375122, Train Acc: 0.421875, Val Loss: 1.0636831521987915, Val Acc: 0.421875\n",
      "Epoch: [0/1], Step: 20, Train Loss: 1.0238621234893799, Train Acc: 0.484375, Val Loss: 0.8500363230705261, Val Acc: 0.6484375\n",
      "Epoch: [0/1], Step: 30, Train Loss: 0.9575279951095581, Train Acc: 0.4921875, Val Loss: 0.8430554866790771, Val Acc: 0.6484375\n",
      "Epoch: [0/1], Step: 40, Train Loss: 1.021957516670227, Train Acc: 0.5, Val Loss: 0.8264278173446655, Val Acc: 0.625\n",
      "Epoch: [0/1], Step: 50, Train Loss: 0.9211183190345764, Train Acc: 0.578125, Val Loss: 0.8354662656784058, Val Acc: 0.703125\n",
      "Epoch: [0/1], Step: 60, Train Loss: 1.0133389234542847, Train Acc: 0.5390625, Val Loss: 0.8332809805870056, Val Acc: 0.703125\n",
      "Epoch: [0/1], Step: 70, Train Loss: 0.9402948617935181, Train Acc: 0.515625, Val Loss: 0.8327350616455078, Val Acc: 0.6953125\n",
      "Epoch: [0/1], Step: 80, Train Loss: 1.0041061639785767, Train Acc: 0.5, Val Loss: 0.7938511371612549, Val Acc: 0.6484375\n",
      "Epoch: [0/1], Step: 90, Train Loss: 0.9781395196914673, Train Acc: 0.515625, Val Loss: 0.7748326063156128, Val Acc: 0.6796875\n",
      "Epoch: [0/1], Step: 100, Train Loss: 1.0340380668640137, Train Acc: 0.5390625, Val Loss: 0.7297967672348022, Val Acc: 0.7421875\n",
      "Epoch: [0/1], Step: 110, Train Loss: 0.967256486415863, Train Acc: 0.5625, Val Loss: 0.8227694630622864, Val Acc: 0.65625\n",
      "Epoch: [0/1], Step: 120, Train Loss: 0.8905776739120483, Train Acc: 0.59375, Val Loss: 0.8000546097755432, Val Acc: 0.6484375\n",
      "Epoch: [0/1], Step: 130, Train Loss: 0.8433071970939636, Train Acc: 0.640625, Val Loss: 0.7229733467102051, Val Acc: 0.703125\n",
      "Epoch: [0/1], Step: 140, Train Loss: 0.8587976694107056, Train Acc: 0.6171875, Val Loss: 0.7653999924659729, Val Acc: 0.703125\n",
      "Epoch: [0/1], Step: 150, Train Loss: 0.9564477205276489, Train Acc: 0.5625, Val Loss: 0.797052264213562, Val Acc: 0.6953125\n",
      "Epoch: [0/1], Step: 160, Train Loss: 0.9549205899238586, Train Acc: 0.5859375, Val Loss: 0.7530434727668762, Val Acc: 0.703125\n",
      "Epoch: [0/1], Step: 170, Train Loss: 0.8722056150436401, Train Acc: 0.59375, Val Loss: 0.7400416731834412, Val Acc: 0.6640625\n",
      "Epoch: [0/1], Step: 180, Train Loss: 0.9972936511039734, Train Acc: 0.5234375, Val Loss: 0.8003084063529968, Val Acc: 0.6484375\n",
      "Epoch: [0/1], Step: 190, Train Loss: 1.013268232345581, Train Acc: 0.484375, Val Loss: 0.778179407119751, Val Acc: 0.6875\n",
      "Epoch: [0/1], Step: 200, Train Loss: 0.8716694116592407, Train Acc: 0.6328125, Val Loss: 0.7456337809562683, Val Acc: 0.6640625\n",
      "Epoch: [0/1], Step: 210, Train Loss: 0.9774798154830933, Train Acc: 0.53125, Val Loss: 0.7699391841888428, Val Acc: 0.6953125\n",
      "Epoch: [0/1], Step: 220, Train Loss: 0.7982964515686035, Train Acc: 0.6171875, Val Loss: 0.7921808362007141, Val Acc: 0.640625\n",
      "Epoch: [0/1], Step: 230, Train Loss: 0.7623569965362549, Train Acc: 0.6953125, Val Loss: 0.7596367597579956, Val Acc: 0.6875\n",
      "Epoch: [0/1], Step: 240, Train Loss: 0.8471816182136536, Train Acc: 0.6640625, Val Loss: 0.8057630062103271, Val Acc: 0.6640625\n",
      "Epoch: [0/1], Step: 250, Train Loss: 0.9718040227890015, Train Acc: 0.5859375, Val Loss: 0.7216922044754028, Val Acc: 0.6875\n",
      "Epoch: [0/1], Step: 260, Train Loss: 0.964680552482605, Train Acc: 0.6015625, Val Loss: 0.8390265703201294, Val Acc: 0.6640625\n",
      "Epoch: [0/1], Step: 270, Train Loss: 0.8993813991546631, Train Acc: 0.59375, Val Loss: 0.8007892966270447, Val Acc: 0.640625\n",
      "Epoch: [0/1], Step: 280, Train Loss: 0.8788095712661743, Train Acc: 0.625, Val Loss: 0.8132103085517883, Val Acc: 0.5859375\n",
      "Epoch: [0/1], Step: 290, Train Loss: 0.9789432287216187, Train Acc: 0.578125, Val Loss: 0.8597080707550049, Val Acc: 0.640625\n",
      "Epoch: [0/1], Step: 300, Train Loss: 0.9571021199226379, Train Acc: 0.5546875, Val Loss: 0.742513120174408, Val Acc: 0.703125\n",
      "Epoch: [0/1], Step: 310, Train Loss: 0.8438778519630432, Train Acc: 0.6015625, Val Loss: 0.8542543649673462, Val Acc: 0.6015625\n",
      "Epoch: [0/1], Step: 320, Train Loss: 0.974449634552002, Train Acc: 0.5, Val Loss: 0.8194131255149841, Val Acc: 0.6640625\n",
      "Epoch: [0/1], Step: 330, Train Loss: 0.8498787879943848, Train Acc: 0.578125, Val Loss: 0.7834166288375854, Val Acc: 0.6953125\n",
      "Epoch: [0/1], Step: 340, Train Loss: 0.8978689312934875, Train Acc: 0.5859375, Val Loss: 0.802420437335968, Val Acc: 0.6484375\n",
      "Epoch: [0/1], Step: 350, Train Loss: 0.7868544459342957, Train Acc: 0.671875, Val Loss: 0.8263877034187317, Val Acc: 0.6484375\n",
      "Epoch: [0/1], Step: 360, Train Loss: 0.9606171250343323, Train Acc: 0.5546875, Val Loss: 0.8285129070281982, Val Acc: 0.625\n",
      "Epoch: [0/1], Step: 370, Train Loss: 0.871185302734375, Train Acc: 0.6171875, Val Loss: 0.8282617330551147, Val Acc: 0.625\n",
      "Epoch: [0/1], Step: 380, Train Loss: 0.9272558689117432, Train Acc: 0.59375, Val Loss: 0.8601862192153931, Val Acc: 0.6328125\n",
      "Epoch: [0/1], Step: 390, Train Loss: 0.9230517148971558, Train Acc: 0.5390625, Val Loss: 0.851531982421875, Val Acc: 0.640625\n",
      "Epoch: [0/1], Step: 400, Train Loss: 0.8181986808776855, Train Acc: 0.609375, Val Loss: 0.8306179046630859, Val Acc: 0.6171875\n",
      "Epoch: [0/1], Step: 410, Train Loss: 0.9828710556030273, Train Acc: 0.53125, Val Loss: 0.8434355854988098, Val Acc: 0.65625\n",
      "Epoch: [0/1], Step: 420, Train Loss: 0.8475857377052307, Train Acc: 0.6015625, Val Loss: 0.8102313280105591, Val Acc: 0.6796875\n",
      "Epoch: [0/1], Step: 430, Train Loss: 0.9672876000404358, Train Acc: 0.5546875, Val Loss: 0.8952300548553467, Val Acc: 0.5703125\n",
      "Epoch: [0/1], Step: 440, Train Loss: 0.8598777055740356, Train Acc: 0.6640625, Val Loss: 0.8273610472679138, Val Acc: 0.6328125\n",
      "Epoch: [0/1], Step: 450, Train Loss: 0.8169031739234924, Train Acc: 0.640625, Val Loss: 0.7867672443389893, Val Acc: 0.6484375\n",
      "Epoch: [0/1], Step: 460, Train Loss: 0.9422096610069275, Train Acc: 0.5703125, Val Loss: 0.7968596816062927, Val Acc: 0.671875\n",
      "Epoch: [0/1], Step: 470, Train Loss: 0.9404778480529785, Train Acc: 0.59375, Val Loss: 0.8283321857452393, Val Acc: 0.65625\n",
      "Epoch: [0/1], Step: 480, Train Loss: 0.8511954545974731, Train Acc: 0.59375, Val Loss: 0.8702893257141113, Val Acc: 0.625\n",
      "Epoch: [0/1], Step: 490, Train Loss: 0.8551995158195496, Train Acc: 0.578125, Val Loss: 0.8116588592529297, Val Acc: 0.6328125\n",
      "Epoch: [0/1], Step: 500, Train Loss: 0.9303799271583557, Train Acc: 0.5234375, Val Loss: 0.826339602470398, Val Acc: 0.671875\n",
      "Epoch: [0/1], Step: 510, Train Loss: 0.9190334677696228, Train Acc: 0.546875, Val Loss: 0.7957737445831299, Val Acc: 0.6640625\n",
      "Epoch: [0/1], Step: 520, Train Loss: 0.978309154510498, Train Acc: 0.59375, Val Loss: 0.8378240466117859, Val Acc: 0.6328125\n",
      "Epoch: [0/1], Step: 530, Train Loss: 0.8677334785461426, Train Acc: 0.609375, Val Loss: 0.7916731238365173, Val Acc: 0.6640625\n",
      "Epoch: [0/1], Step: 540, Train Loss: 0.8665640354156494, Train Acc: 0.59375, Val Loss: 0.8264049887657166, Val Acc: 0.6640625\n",
      "Epoch: [0/1], Step: 550, Train Loss: 0.8472577333450317, Train Acc: 0.609375, Val Loss: 0.7934305667877197, Val Acc: 0.6953125\n",
      "Epoch: [0/1], Step: 560, Train Loss: 0.8894684314727783, Train Acc: 0.5546875, Val Loss: 0.7748469710350037, Val Acc: 0.6484375\n",
      "Epoch: [0/1], Step: 570, Train Loss: 0.9964613914489746, Train Acc: 0.5234375, Val Loss: 0.7822946906089783, Val Acc: 0.6171875\n",
      "Epoch: [0/1], Step: 580, Train Loss: 0.9418688416481018, Train Acc: 0.5546875, Val Loss: 0.797294557094574, Val Acc: 0.6640625\n",
      "Epoch: [0/1], Step: 590, Train Loss: 0.9567919969558716, Train Acc: 0.5, Val Loss: 0.7935144305229187, Val Acc: 0.6484375\n",
      "Epoch: [0/1], Step: 600, Train Loss: 1.0494440793991089, Train Acc: 0.546875, Val Loss: 0.7751421332359314, Val Acc: 0.6640625\n",
      "Epoch: [0/1], Step: 610, Train Loss: 0.9398908019065857, Train Acc: 0.609375, Val Loss: 0.7573970556259155, Val Acc: 0.6953125\n",
      "Epoch: [0/1], Step: 620, Train Loss: 0.7844541072845459, Train Acc: 0.6875, Val Loss: 0.7695616483688354, Val Acc: 0.6953125\n",
      "Epoch: [0/1], Step: 630, Train Loss: 0.9994412660598755, Train Acc: 0.5859375, Val Loss: 0.8279268145561218, Val Acc: 0.6328125\n",
      "Epoch: [0/1], Step: 640, Train Loss: 0.7565368413925171, Train Acc: 0.6640625, Val Loss: 0.7947746515274048, Val Acc: 0.6953125\n",
      "Epoch: [0/1], Step: 650, Train Loss: 0.9297139048576355, Train Acc: 0.546875, Val Loss: 0.7350693941116333, Val Acc: 0.7109375\n"
     ]
    },
    {
     "name": "stdout",
     "output_type": "stream",
     "text": [
      "Epoch: [0/1], Step: 660, Train Loss: 0.8704209327697754, Train Acc: 0.625, Val Loss: 0.7882748246192932, Val Acc: 0.65625\n",
      "Epoch: [0/1], Step: 670, Train Loss: 0.9968437552452087, Train Acc: 0.5078125, Val Loss: 0.7544188499450684, Val Acc: 0.734375\n",
      "Epoch: [0/1], Step: 680, Train Loss: 0.9228274822235107, Train Acc: 0.546875, Val Loss: 0.7206899523735046, Val Acc: 0.7265625\n",
      "Epoch: [0/1], Step: 690, Train Loss: 0.9461703300476074, Train Acc: 0.5390625, Val Loss: 0.7985314726829529, Val Acc: 0.65625\n",
      "Epoch: [0/1], Step: 700, Train Loss: 0.9770779013633728, Train Acc: 0.5703125, Val Loss: 0.7643206715583801, Val Acc: 0.7265625\n",
      "Epoch: [0/1], Step: 710, Train Loss: 0.969016969203949, Train Acc: 0.53125, Val Loss: 0.7294343113899231, Val Acc: 0.7109375\n",
      "Epoch: [0/1], Step: 720, Train Loss: 0.875776469707489, Train Acc: 0.6015625, Val Loss: 0.7201740145683289, Val Acc: 0.703125\n",
      "Epoch: [0/1], Step: 730, Train Loss: 0.8886897563934326, Train Acc: 0.59375, Val Loss: 0.7437008023262024, Val Acc: 0.7265625\n",
      "Epoch: [0/1], Step: 740, Train Loss: 0.9696226119995117, Train Acc: 0.5703125, Val Loss: 0.7646327018737793, Val Acc: 0.65625\n",
      "Epoch: [0/1], Step: 750, Train Loss: 0.8691269159317017, Train Acc: 0.6171875, Val Loss: 0.7662389278411865, Val Acc: 0.703125\n",
      "Epoch: [0/1], Step: 760, Train Loss: 0.87862628698349, Train Acc: 0.6015625, Val Loss: 0.827214241027832, Val Acc: 0.671875\n",
      "Epoch: [0/1], Step: 770, Train Loss: 0.9051143527030945, Train Acc: 0.6015625, Val Loss: 0.8374255895614624, Val Acc: 0.6328125\n",
      "Epoch: [0/1], Step: 780, Train Loss: 0.9080831408500671, Train Acc: 0.6171875, Val Loss: 0.7863580584526062, Val Acc: 0.625\n"
     ]
    },
    {
     "ename": "RuntimeError",
     "evalue": "Expected hidden size (1, 32, 128), got (1, 128, 128)",
     "output_type": "error",
     "traceback": [
      "\u001b[0;31m---------------------------------------------------------------------------\u001b[0m",
      "\u001b[0;31mRuntimeError\u001b[0m                              Traceback (most recent call last)",
      "\u001b[0;32m<ipython-input-75-ddd619a9a4c9>\u001b[0m in \u001b[0;36m<module>\u001b[0;34m()\u001b[0m\n\u001b[1;32m      2\u001b[0m \u001b[0mload_from_path\u001b[0m \u001b[0;34m=\u001b[0m \u001b[0;32mNone\u001b[0m\u001b[0;34m\u001b[0m\u001b[0m\n\u001b[1;32m      3\u001b[0m \u001b[0msave_to_path\u001b[0m \u001b[0;34m=\u001b[0m \u001b[0;34m\"./rnn_concate_128.pkl\"\u001b[0m\u001b[0;34m\u001b[0m\u001b[0m\n\u001b[0;32m----> 4\u001b[0;31m \u001b[0mtrain\u001b[0m\u001b[0;34m(\u001b[0m\u001b[0mmodel\u001b[0m\u001b[0;34m,\u001b[0m \u001b[0;36m1\u001b[0m\u001b[0;34m,\u001b[0m \u001b[0;36m1e-2\u001b[0m\u001b[0;34m,\u001b[0m \u001b[0mtrain_loader\u001b[0m\u001b[0;34m,\u001b[0m \u001b[0mval_loader\u001b[0m\u001b[0;34m,\u001b[0m \u001b[0mload_from_path\u001b[0m\u001b[0;34m,\u001b[0m \u001b[0msave_to_path\u001b[0m\u001b[0;34m,\u001b[0m \u001b[0mbest_val_acc\u001b[0m\u001b[0;34m,\u001b[0m \u001b[0mtrain_losses\u001b[0m\u001b[0;34m,\u001b[0m \u001b[0mtrain_accs\u001b[0m\u001b[0;34m,\u001b[0m \u001b[0mval_losses\u001b[0m\u001b[0;34m,\u001b[0m \u001b[0mval_accs\u001b[0m\u001b[0;34m)\u001b[0m\u001b[0;34m\u001b[0m\u001b[0m\n\u001b[0m",
      "\u001b[0;32m<ipython-input-74-1373914dedd2>\u001b[0m in \u001b[0;36mtrain\u001b[0;34m(model, num_epochs, learning_rate, train_loader, val_loader, load_from_path, save_to_path, best_val_acc, train_losses, train_accs, val_losses, val_accs)\u001b[0m\n\u001b[1;32m     41\u001b[0m             \u001b[0moptimizer\u001b[0m\u001b[0;34m.\u001b[0m\u001b[0mzero_grad\u001b[0m\u001b[0;34m(\u001b[0m\u001b[0;34m)\u001b[0m\u001b[0;34m\u001b[0m\u001b[0m\n\u001b[1;32m     42\u001b[0m \u001b[0;34m\u001b[0m\u001b[0m\n\u001b[0;32m---> 43\u001b[0;31m             \u001b[0mloss\u001b[0m\u001b[0;34m,\u001b[0m \u001b[0mtrain_loss_value\u001b[0m\u001b[0;34m,\u001b[0m \u001b[0mtrain_acc_value\u001b[0m \u001b[0;34m=\u001b[0m \u001b[0mevaluate\u001b[0m\u001b[0;34m(\u001b[0m\u001b[0mmodel\u001b[0m\u001b[0;34m,\u001b[0m \u001b[0mce_loss\u001b[0m\u001b[0;34m,\u001b[0m \u001b[0msent1\u001b[0m\u001b[0;34m,\u001b[0m \u001b[0msent2\u001b[0m\u001b[0;34m,\u001b[0m \u001b[0msent1_len\u001b[0m\u001b[0;34m,\u001b[0m \u001b[0msent2_len\u001b[0m\u001b[0;34m,\u001b[0m \u001b[0mlabels\u001b[0m\u001b[0;34m)\u001b[0m\u001b[0;34m\u001b[0m\u001b[0m\n\u001b[0m\u001b[1;32m     44\u001b[0m \u001b[0;34m\u001b[0m\u001b[0m\n\u001b[1;32m     45\u001b[0m             \u001b[0;31m# Backprop from loss\u001b[0m\u001b[0;34m\u001b[0m\u001b[0;34m\u001b[0m\u001b[0m\n",
      "\u001b[0;32m<ipython-input-74-1373914dedd2>\u001b[0m in \u001b[0;36mevaluate\u001b[0;34m(model, loss_func, sent1, sent2, sent1_len, sent2_len, labels)\u001b[0m\n\u001b[1;32m      1\u001b[0m \u001b[0;32mdef\u001b[0m \u001b[0mevaluate\u001b[0m\u001b[0;34m(\u001b[0m\u001b[0mmodel\u001b[0m\u001b[0;34m,\u001b[0m \u001b[0mloss_func\u001b[0m\u001b[0;34m,\u001b[0m \u001b[0msent1\u001b[0m\u001b[0;34m,\u001b[0m \u001b[0msent2\u001b[0m\u001b[0;34m,\u001b[0m \u001b[0msent1_len\u001b[0m\u001b[0;34m,\u001b[0m \u001b[0msent2_len\u001b[0m\u001b[0;34m,\u001b[0m \u001b[0mlabels\u001b[0m\u001b[0;34m)\u001b[0m\u001b[0;34m:\u001b[0m\u001b[0;34m\u001b[0m\u001b[0m\n\u001b[0;32m----> 2\u001b[0;31m     \u001b[0mlogits\u001b[0m \u001b[0;34m=\u001b[0m \u001b[0mmodel\u001b[0m\u001b[0;34m(\u001b[0m\u001b[0msent1\u001b[0m\u001b[0;34m,\u001b[0m \u001b[0msent2\u001b[0m\u001b[0;34m,\u001b[0m \u001b[0msent1_len\u001b[0m\u001b[0;34m,\u001b[0m \u001b[0msent2_len\u001b[0m\u001b[0;34m)\u001b[0m\u001b[0;34m\u001b[0m\u001b[0m\n\u001b[0m\u001b[1;32m      3\u001b[0m     \u001b[0mloss\u001b[0m \u001b[0;34m=\u001b[0m \u001b[0mloss_func\u001b[0m\u001b[0;34m(\u001b[0m\u001b[0mlogits\u001b[0m\u001b[0;34m,\u001b[0m \u001b[0mlabels\u001b[0m\u001b[0;34m)\u001b[0m\u001b[0;34m\u001b[0m\u001b[0m\n\u001b[1;32m      4\u001b[0m     \u001b[0m_\u001b[0m\u001b[0;34m,\u001b[0m \u001b[0mpred\u001b[0m \u001b[0;34m=\u001b[0m \u001b[0mtorch\u001b[0m\u001b[0;34m.\u001b[0m\u001b[0mmax\u001b[0m\u001b[0;34m(\u001b[0m\u001b[0mlogits\u001b[0m\u001b[0;34m,\u001b[0m \u001b[0;36m1\u001b[0m\u001b[0;34m)\u001b[0m\u001b[0;34m\u001b[0m\u001b[0m\n\u001b[1;32m      5\u001b[0m     \u001b[0macc\u001b[0m \u001b[0;34m=\u001b[0m \u001b[0;34m(\u001b[0m\u001b[0mlabels\u001b[0m \u001b[0;34m==\u001b[0m \u001b[0mpred\u001b[0m\u001b[0;34m)\u001b[0m\u001b[0;34m.\u001b[0m\u001b[0msum\u001b[0m\u001b[0;34m(\u001b[0m\u001b[0;34m)\u001b[0m\u001b[0;34m\u001b[0m\u001b[0m\n",
      "\u001b[0;32m/Users/wu/anaconda/lib/python3.6/site-packages/torch/nn/modules/module.py\u001b[0m in \u001b[0;36m__call__\u001b[0;34m(self, *input, **kwargs)\u001b[0m\n\u001b[1;32m    475\u001b[0m             \u001b[0mresult\u001b[0m \u001b[0;34m=\u001b[0m \u001b[0mself\u001b[0m\u001b[0;34m.\u001b[0m\u001b[0m_slow_forward\u001b[0m\u001b[0;34m(\u001b[0m\u001b[0;34m*\u001b[0m\u001b[0minput\u001b[0m\u001b[0;34m,\u001b[0m \u001b[0;34m**\u001b[0m\u001b[0mkwargs\u001b[0m\u001b[0;34m)\u001b[0m\u001b[0;34m\u001b[0m\u001b[0m\n\u001b[1;32m    476\u001b[0m         \u001b[0;32melse\u001b[0m\u001b[0;34m:\u001b[0m\u001b[0;34m\u001b[0m\u001b[0m\n\u001b[0;32m--> 477\u001b[0;31m             \u001b[0mresult\u001b[0m \u001b[0;34m=\u001b[0m \u001b[0mself\u001b[0m\u001b[0;34m.\u001b[0m\u001b[0mforward\u001b[0m\u001b[0;34m(\u001b[0m\u001b[0;34m*\u001b[0m\u001b[0minput\u001b[0m\u001b[0;34m,\u001b[0m \u001b[0;34m**\u001b[0m\u001b[0mkwargs\u001b[0m\u001b[0;34m)\u001b[0m\u001b[0;34m\u001b[0m\u001b[0m\n\u001b[0m\u001b[1;32m    478\u001b[0m         \u001b[0;32mfor\u001b[0m \u001b[0mhook\u001b[0m \u001b[0;32min\u001b[0m \u001b[0mself\u001b[0m\u001b[0;34m.\u001b[0m\u001b[0m_forward_hooks\u001b[0m\u001b[0;34m.\u001b[0m\u001b[0mvalues\u001b[0m\u001b[0;34m(\u001b[0m\u001b[0;34m)\u001b[0m\u001b[0;34m:\u001b[0m\u001b[0;34m\u001b[0m\u001b[0m\n\u001b[1;32m    479\u001b[0m             \u001b[0mhook_result\u001b[0m \u001b[0;34m=\u001b[0m \u001b[0mhook\u001b[0m\u001b[0;34m(\u001b[0m\u001b[0mself\u001b[0m\u001b[0;34m,\u001b[0m \u001b[0minput\u001b[0m\u001b[0;34m,\u001b[0m \u001b[0mresult\u001b[0m\u001b[0;34m)\u001b[0m\u001b[0;34m\u001b[0m\u001b[0m\n",
      "\u001b[0;32m<ipython-input-73-faec05d4b7d9>\u001b[0m in \u001b[0;36mforward\u001b[0;34m(self, sent1, sent2, sent1_len, sent2_len)\u001b[0m\n\u001b[1;32m     29\u001b[0m         \u001b[0me1\u001b[0m\u001b[0;34m,\u001b[0m \u001b[0me2\u001b[0m \u001b[0;34m=\u001b[0m \u001b[0mself\u001b[0m\u001b[0;34m.\u001b[0m\u001b[0membed\u001b[0m\u001b[0;34m(\u001b[0m\u001b[0msent1\u001b[0m\u001b[0;34m)\u001b[0m\u001b[0;34m,\u001b[0m \u001b[0mself\u001b[0m\u001b[0;34m.\u001b[0m\u001b[0membed\u001b[0m\u001b[0;34m(\u001b[0m\u001b[0msent2\u001b[0m\u001b[0;34m)\u001b[0m\u001b[0;34m\u001b[0m\u001b[0m\n\u001b[1;32m     30\u001b[0m \u001b[0;34m\u001b[0m\u001b[0m\n\u001b[0;32m---> 31\u001b[0;31m         \u001b[0mouts1\u001b[0m\u001b[0;34m,\u001b[0m \u001b[0m_\u001b[0m \u001b[0;34m=\u001b[0m \u001b[0mself\u001b[0m\u001b[0;34m.\u001b[0m\u001b[0mgru\u001b[0m\u001b[0;34m(\u001b[0m\u001b[0me1\u001b[0m\u001b[0;34m,\u001b[0m \u001b[0mself\u001b[0m\u001b[0;34m.\u001b[0m\u001b[0mh0\u001b[0m\u001b[0;34m)\u001b[0m\u001b[0;34m\u001b[0m\u001b[0m\n\u001b[0m\u001b[1;32m     32\u001b[0m         \u001b[0mouts2\u001b[0m\u001b[0;34m,\u001b[0m \u001b[0m_\u001b[0m \u001b[0;34m=\u001b[0m \u001b[0mself\u001b[0m\u001b[0;34m.\u001b[0m\u001b[0mgru\u001b[0m\u001b[0;34m(\u001b[0m\u001b[0me2\u001b[0m\u001b[0;34m,\u001b[0m \u001b[0mself\u001b[0m\u001b[0;34m.\u001b[0m\u001b[0mh0\u001b[0m\u001b[0;34m)\u001b[0m\u001b[0;34m\u001b[0m\u001b[0m\n\u001b[1;32m     33\u001b[0m \u001b[0;34m\u001b[0m\u001b[0m\n",
      "\u001b[0;32m/Users/wu/anaconda/lib/python3.6/site-packages/torch/nn/modules/module.py\u001b[0m in \u001b[0;36m__call__\u001b[0;34m(self, *input, **kwargs)\u001b[0m\n\u001b[1;32m    475\u001b[0m             \u001b[0mresult\u001b[0m \u001b[0;34m=\u001b[0m \u001b[0mself\u001b[0m\u001b[0;34m.\u001b[0m\u001b[0m_slow_forward\u001b[0m\u001b[0;34m(\u001b[0m\u001b[0;34m*\u001b[0m\u001b[0minput\u001b[0m\u001b[0;34m,\u001b[0m \u001b[0;34m**\u001b[0m\u001b[0mkwargs\u001b[0m\u001b[0;34m)\u001b[0m\u001b[0;34m\u001b[0m\u001b[0m\n\u001b[1;32m    476\u001b[0m         \u001b[0;32melse\u001b[0m\u001b[0;34m:\u001b[0m\u001b[0;34m\u001b[0m\u001b[0m\n\u001b[0;32m--> 477\u001b[0;31m             \u001b[0mresult\u001b[0m \u001b[0;34m=\u001b[0m \u001b[0mself\u001b[0m\u001b[0;34m.\u001b[0m\u001b[0mforward\u001b[0m\u001b[0;34m(\u001b[0m\u001b[0;34m*\u001b[0m\u001b[0minput\u001b[0m\u001b[0;34m,\u001b[0m \u001b[0;34m**\u001b[0m\u001b[0mkwargs\u001b[0m\u001b[0;34m)\u001b[0m\u001b[0;34m\u001b[0m\u001b[0m\n\u001b[0m\u001b[1;32m    478\u001b[0m         \u001b[0;32mfor\u001b[0m \u001b[0mhook\u001b[0m \u001b[0;32min\u001b[0m \u001b[0mself\u001b[0m\u001b[0;34m.\u001b[0m\u001b[0m_forward_hooks\u001b[0m\u001b[0;34m.\u001b[0m\u001b[0mvalues\u001b[0m\u001b[0;34m(\u001b[0m\u001b[0;34m)\u001b[0m\u001b[0;34m:\u001b[0m\u001b[0;34m\u001b[0m\u001b[0m\n\u001b[1;32m    479\u001b[0m             \u001b[0mhook_result\u001b[0m \u001b[0;34m=\u001b[0m \u001b[0mhook\u001b[0m\u001b[0;34m(\u001b[0m\u001b[0mself\u001b[0m\u001b[0;34m,\u001b[0m \u001b[0minput\u001b[0m\u001b[0;34m,\u001b[0m \u001b[0mresult\u001b[0m\u001b[0;34m)\u001b[0m\u001b[0;34m\u001b[0m\u001b[0m\n",
      "\u001b[0;32m/Users/wu/anaconda/lib/python3.6/site-packages/torch/nn/modules/rnn.py\u001b[0m in \u001b[0;36mforward\u001b[0;34m(self, input, hx)\u001b[0m\n\u001b[1;32m    176\u001b[0m             \u001b[0mflat_weight\u001b[0m \u001b[0;34m=\u001b[0m \u001b[0;32mNone\u001b[0m\u001b[0;34m\u001b[0m\u001b[0m\n\u001b[1;32m    177\u001b[0m \u001b[0;34m\u001b[0m\u001b[0m\n\u001b[0;32m--> 178\u001b[0;31m         \u001b[0mself\u001b[0m\u001b[0;34m.\u001b[0m\u001b[0mcheck_forward_args\u001b[0m\u001b[0;34m(\u001b[0m\u001b[0minput\u001b[0m\u001b[0;34m,\u001b[0m \u001b[0mhx\u001b[0m\u001b[0;34m,\u001b[0m \u001b[0mbatch_sizes\u001b[0m\u001b[0;34m)\u001b[0m\u001b[0;34m\u001b[0m\u001b[0m\n\u001b[0m\u001b[1;32m    179\u001b[0m         func = self._backend.RNN(\n\u001b[1;32m    180\u001b[0m             \u001b[0mself\u001b[0m\u001b[0;34m.\u001b[0m\u001b[0mmode\u001b[0m\u001b[0;34m,\u001b[0m\u001b[0;34m\u001b[0m\u001b[0m\n",
      "\u001b[0;32m/Users/wu/anaconda/lib/python3.6/site-packages/torch/nn/modules/rnn.py\u001b[0m in \u001b[0;36mcheck_forward_args\u001b[0;34m(self, input, hidden, batch_sizes)\u001b[0m\n\u001b[1;32m    149\u001b[0m                               'Expected hidden[1] size {}, got {}')\n\u001b[1;32m    150\u001b[0m         \u001b[0;32melse\u001b[0m\u001b[0;34m:\u001b[0m\u001b[0;34m\u001b[0m\u001b[0m\n\u001b[0;32m--> 151\u001b[0;31m             \u001b[0mcheck_hidden_size\u001b[0m\u001b[0;34m(\u001b[0m\u001b[0mhidden\u001b[0m\u001b[0;34m,\u001b[0m \u001b[0mexpected_hidden_size\u001b[0m\u001b[0;34m)\u001b[0m\u001b[0;34m\u001b[0m\u001b[0m\n\u001b[0m\u001b[1;32m    152\u001b[0m \u001b[0;34m\u001b[0m\u001b[0m\n\u001b[1;32m    153\u001b[0m     \u001b[0;32mdef\u001b[0m \u001b[0mforward\u001b[0m\u001b[0;34m(\u001b[0m\u001b[0mself\u001b[0m\u001b[0;34m,\u001b[0m \u001b[0minput\u001b[0m\u001b[0;34m,\u001b[0m \u001b[0mhx\u001b[0m\u001b[0;34m=\u001b[0m\u001b[0;32mNone\u001b[0m\u001b[0;34m)\u001b[0m\u001b[0;34m:\u001b[0m\u001b[0;34m\u001b[0m\u001b[0m\n",
      "\u001b[0;32m/Users/wu/anaconda/lib/python3.6/site-packages/torch/nn/modules/rnn.py\u001b[0m in \u001b[0;36mcheck_hidden_size\u001b[0;34m(hx, expected_hidden_size, msg)\u001b[0m\n\u001b[1;32m    141\u001b[0m         \u001b[0;32mdef\u001b[0m \u001b[0mcheck_hidden_size\u001b[0m\u001b[0;34m(\u001b[0m\u001b[0mhx\u001b[0m\u001b[0;34m,\u001b[0m \u001b[0mexpected_hidden_size\u001b[0m\u001b[0;34m,\u001b[0m \u001b[0mmsg\u001b[0m\u001b[0;34m=\u001b[0m\u001b[0;34m'Expected hidden size {}, got {}'\u001b[0m\u001b[0;34m)\u001b[0m\u001b[0;34m:\u001b[0m\u001b[0;34m\u001b[0m\u001b[0m\n\u001b[1;32m    142\u001b[0m             \u001b[0;32mif\u001b[0m \u001b[0mtuple\u001b[0m\u001b[0;34m(\u001b[0m\u001b[0mhx\u001b[0m\u001b[0;34m.\u001b[0m\u001b[0msize\u001b[0m\u001b[0;34m(\u001b[0m\u001b[0;34m)\u001b[0m\u001b[0;34m)\u001b[0m \u001b[0;34m!=\u001b[0m \u001b[0mexpected_hidden_size\u001b[0m\u001b[0;34m:\u001b[0m\u001b[0;34m\u001b[0m\u001b[0m\n\u001b[0;32m--> 143\u001b[0;31m                 \u001b[0;32mraise\u001b[0m \u001b[0mRuntimeError\u001b[0m\u001b[0;34m(\u001b[0m\u001b[0mmsg\u001b[0m\u001b[0;34m.\u001b[0m\u001b[0mformat\u001b[0m\u001b[0;34m(\u001b[0m\u001b[0mexpected_hidden_size\u001b[0m\u001b[0;34m,\u001b[0m \u001b[0mtuple\u001b[0m\u001b[0;34m(\u001b[0m\u001b[0mhx\u001b[0m\u001b[0;34m.\u001b[0m\u001b[0msize\u001b[0m\u001b[0;34m(\u001b[0m\u001b[0;34m)\u001b[0m\u001b[0;34m)\u001b[0m\u001b[0;34m)\u001b[0m\u001b[0;34m)\u001b[0m\u001b[0;34m\u001b[0m\u001b[0m\n\u001b[0m\u001b[1;32m    144\u001b[0m \u001b[0;34m\u001b[0m\u001b[0m\n\u001b[1;32m    145\u001b[0m         \u001b[0;32mif\u001b[0m \u001b[0mself\u001b[0m\u001b[0;34m.\u001b[0m\u001b[0mmode\u001b[0m \u001b[0;34m==\u001b[0m \u001b[0;34m'LSTM'\u001b[0m\u001b[0;34m:\u001b[0m\u001b[0;34m\u001b[0m\u001b[0m\n",
      "\u001b[0;31mRuntimeError\u001b[0m: Expected hidden size (1, 32, 128), got (1, 128, 128)"
     ]
    }
   ],
   "source": [
    "model = TwoSentencesRNN(embedding_matrix, 3, MAX_SENTENCE_LENGTH)\n",
    "load_from_path = None \n",
    "save_to_path = \"./rnn_concate_128.pkl\"\n",
    "train(model, 1, 1e-2, train_loader, val_loader, load_from_path, save_to_path, best_val_acc, train_losses, train_accs, val_losses, val_accs)"
   ]
  },
  {
   "cell_type": "code",
   "execution_count": 127,
   "metadata": {},
   "outputs": [
    {
     "name": "stderr",
     "output_type": "stream",
     "text": [
      "/Users/wu/anaconda/lib/python3.6/site-packages/ipykernel_launcher.py:7: UserWarning: invalid index of a 0-dim tensor. This will be an error in PyTorch 0.5. Use tensor.item() to convert a 0-dim tensor to a Python number\n",
      "  import sys\n"
     ]
    },
    {
     "name": "stdout",
     "output_type": "stream",
     "text": [
      "Epoch: [1/1], Step: [1/782], Train Loss: 1.0977369546890259, Train Acc: 0.3515625, Val Loss: 1.4859557151794434, Val Acc: 0.3359375\n",
      "Epoch: [1/1], Step: [11/782], Train Loss: 1.3033210039138794, Train Acc: 0.3203125, Val Loss: 1.1599773168563843, Val Acc: 0.3203125\n",
      "Epoch: [1/1], Step: [21/782], Train Loss: 1.1508828401565552, Train Acc: 0.296875, Val Loss: 1.0431727170944214, Val Acc: 0.3671875\n",
      "Epoch: [1/1], Step: [31/782], Train Loss: 1.012952208518982, Train Acc: 0.4140625, Val Loss: 0.9414364695549011, Val Acc: 0.515625\n",
      "Epoch: [1/1], Step: [41/782], Train Loss: 1.0330867767333984, Train Acc: 0.5, Val Loss: 0.9771208763122559, Val Acc: 0.5078125\n",
      "Epoch: [1/1], Step: [51/782], Train Loss: 1.0127274990081787, Train Acc: 0.4375, Val Loss: 0.8768258094787598, Val Acc: 0.703125\n",
      "Epoch: [1/1], Step: [61/782], Train Loss: 1.053018569946289, Train Acc: 0.5078125, Val Loss: 0.8316638469696045, Val Acc: 0.7265625\n",
      "Epoch: [1/1], Step: [71/782], Train Loss: 0.9535844326019287, Train Acc: 0.5, Val Loss: 0.8146018981933594, Val Acc: 0.6640625\n",
      "Epoch: [1/1], Step: [81/782], Train Loss: 1.0006593465805054, Train Acc: 0.5, Val Loss: 0.8856471180915833, Val Acc: 0.609375\n",
      "Epoch: [1/1], Step: [91/782], Train Loss: 0.9521564841270447, Train Acc: 0.5234375, Val Loss: 0.8449050188064575, Val Acc: 0.6015625\n",
      "Epoch: [1/1], Step: [101/782], Train Loss: 1.012977957725525, Train Acc: 0.5234375, Val Loss: 0.8081661462783813, Val Acc: 0.65625\n",
      "Epoch: [1/1], Step: [111/782], Train Loss: 0.9724808931350708, Train Acc: 0.5859375, Val Loss: 0.8736768960952759, Val Acc: 0.5859375\n",
      "Epoch: [1/1], Step: [121/782], Train Loss: 0.8615860939025879, Train Acc: 0.5859375, Val Loss: 0.8631495237350464, Val Acc: 0.6328125\n",
      "Epoch: [1/1], Step: [131/782], Train Loss: 0.9436522126197815, Train Acc: 0.578125, Val Loss: 0.7698081731796265, Val Acc: 0.6796875\n",
      "Epoch: [1/1], Step: [141/782], Train Loss: 0.8145139217376709, Train Acc: 0.6015625, Val Loss: 0.786844789981842, Val Acc: 0.65625\n",
      "Epoch: [1/1], Step: [151/782], Train Loss: 1.0315438508987427, Train Acc: 0.5, Val Loss: 0.8849103450775146, Val Acc: 0.578125\n",
      "Epoch: [1/1], Step: [161/782], Train Loss: 0.9049745202064514, Train Acc: 0.65625, Val Loss: 0.8767720460891724, Val Acc: 0.609375\n",
      "Epoch: [1/1], Step: [171/782], Train Loss: 0.9649306535720825, Train Acc: 0.5546875, Val Loss: 0.8323981165885925, Val Acc: 0.6328125\n",
      "Epoch: [1/1], Step: [181/782], Train Loss: 1.0080775022506714, Train Acc: 0.5390625, Val Loss: 0.8180432319641113, Val Acc: 0.640625\n",
      "Epoch: [1/1], Step: [191/782], Train Loss: 1.011055827140808, Train Acc: 0.5234375, Val Loss: 0.8123244047164917, Val Acc: 0.6875\n",
      "Epoch: [1/1], Step: [201/782], Train Loss: 0.8492209315299988, Train Acc: 0.625, Val Loss: 0.7934675812721252, Val Acc: 0.65625\n",
      "Epoch: [1/1], Step: [211/782], Train Loss: 1.0330681800842285, Train Acc: 0.453125, Val Loss: 0.7858615517616272, Val Acc: 0.6328125\n",
      "Epoch: [1/1], Step: [221/782], Train Loss: 0.8079266548156738, Train Acc: 0.6328125, Val Loss: 0.8152350783348083, Val Acc: 0.6796875\n",
      "Epoch: [1/1], Step: [231/782], Train Loss: 0.7751408219337463, Train Acc: 0.6484375, Val Loss: 0.7860767245292664, Val Acc: 0.6953125\n",
      "Epoch: [1/1], Step: [241/782], Train Loss: 0.8484500050544739, Train Acc: 0.6328125, Val Loss: 0.8124288320541382, Val Acc: 0.6640625\n",
      "Epoch: [1/1], Step: [251/782], Train Loss: 0.9720813632011414, Train Acc: 0.5625, Val Loss: 0.7900827527046204, Val Acc: 0.671875\n",
      "Epoch: [1/1], Step: [261/782], Train Loss: 0.9501261115074158, Train Acc: 0.6015625, Val Loss: 0.7979898452758789, Val Acc: 0.6796875\n",
      "Epoch: [1/1], Step: [271/782], Train Loss: 0.9309507012367249, Train Acc: 0.546875, Val Loss: 0.7908874154090881, Val Acc: 0.65625\n",
      "Epoch: [1/1], Step: [281/782], Train Loss: 0.8582552671432495, Train Acc: 0.6484375, Val Loss: 0.8928537368774414, Val Acc: 0.578125\n",
      "Epoch: [1/1], Step: [291/782], Train Loss: 0.957641065120697, Train Acc: 0.5625, Val Loss: 0.858447253704071, Val Acc: 0.6484375\n",
      "Epoch: [1/1], Step: [301/782], Train Loss: 0.9057583212852478, Train Acc: 0.59375, Val Loss: 0.8153011798858643, Val Acc: 0.6171875\n",
      "Epoch: [1/1], Step: [311/782], Train Loss: 0.8433288335800171, Train Acc: 0.6015625, Val Loss: 0.8456045389175415, Val Acc: 0.6640625\n",
      "Epoch: [1/1], Step: [321/782], Train Loss: 0.9929819107055664, Train Acc: 0.5234375, Val Loss: 0.8975823521614075, Val Acc: 0.578125\n",
      "Epoch: [1/1], Step: [331/782], Train Loss: 0.9995360374450684, Train Acc: 0.5546875, Val Loss: 0.8535358905792236, Val Acc: 0.6171875\n",
      "Epoch: [1/1], Step: [341/782], Train Loss: 0.9228237271308899, Train Acc: 0.5546875, Val Loss: 0.8642578721046448, Val Acc: 0.59375\n",
      "Epoch: [1/1], Step: [351/782], Train Loss: 0.7940079569816589, Train Acc: 0.65625, Val Loss: 0.7841734886169434, Val Acc: 0.65625\n",
      "Epoch: [1/1], Step: [361/782], Train Loss: 0.8994100093841553, Train Acc: 0.609375, Val Loss: 0.7399746179580688, Val Acc: 0.671875\n",
      "Epoch: [1/1], Step: [371/782], Train Loss: 0.9102439284324646, Train Acc: 0.6015625, Val Loss: 0.8234367966651917, Val Acc: 0.6015625\n",
      "Epoch: [1/1], Step: [381/782], Train Loss: 0.8492227792739868, Train Acc: 0.640625, Val Loss: 0.8745622038841248, Val Acc: 0.625\n",
      "Epoch: [1/1], Step: [391/782], Train Loss: 0.958538830280304, Train Acc: 0.5703125, Val Loss: 0.7854482531547546, Val Acc: 0.625\n",
      "Epoch: [1/1], Step: [401/782], Train Loss: 0.8775145411491394, Train Acc: 0.6171875, Val Loss: 0.7985121011734009, Val Acc: 0.671875\n",
      "Epoch: [1/1], Step: [411/782], Train Loss: 1.025049090385437, Train Acc: 0.5390625, Val Loss: 0.9000000357627869, Val Acc: 0.6015625\n",
      "Epoch: [1/1], Step: [421/782], Train Loss: 0.931918740272522, Train Acc: 0.546875, Val Loss: 0.8020491600036621, Val Acc: 0.6484375\n",
      "Epoch: [1/1], Step: [431/782], Train Loss: 0.9312458038330078, Train Acc: 0.5625, Val Loss: 0.8360274434089661, Val Acc: 0.625\n",
      "Epoch: [1/1], Step: [441/782], Train Loss: 0.9014303684234619, Train Acc: 0.6171875, Val Loss: 0.8585710525512695, Val Acc: 0.640625\n",
      "Epoch: [1/1], Step: [451/782], Train Loss: 0.7622502446174622, Train Acc: 0.71875, Val Loss: 0.7651426196098328, Val Acc: 0.6328125\n",
      "Epoch: [1/1], Step: [461/782], Train Loss: 0.9709373116493225, Train Acc: 0.5234375, Val Loss: 0.8307365775108337, Val Acc: 0.640625\n",
      "Epoch: [1/1], Step: [471/782], Train Loss: 1.0807069540023804, Train Acc: 0.4765625, Val Loss: 0.8918936848640442, Val Acc: 0.578125\n",
      "Epoch: [1/1], Step: [481/782], Train Loss: 0.9019143581390381, Train Acc: 0.625, Val Loss: 0.8818502426147461, Val Acc: 0.625\n",
      "Epoch: [1/1], Step: [491/782], Train Loss: 0.8373716473579407, Train Acc: 0.609375, Val Loss: 0.8332453370094299, Val Acc: 0.65625\n",
      "Epoch: [1/1], Step: [501/782], Train Loss: 0.9909248352050781, Train Acc: 0.4921875, Val Loss: 0.9211129546165466, Val Acc: 0.546875\n",
      "Epoch: [1/1], Step: [511/782], Train Loss: 0.9264131188392639, Train Acc: 0.578125, Val Loss: 0.8770865797996521, Val Acc: 0.59375\n",
      "Epoch: [1/1], Step: [521/782], Train Loss: 1.05166494846344, Train Acc: 0.5703125, Val Loss: 0.8841222524642944, Val Acc: 0.609375\n",
      "Epoch: [1/1], Step: [531/782], Train Loss: 1.0303388833999634, Train Acc: 0.5078125, Val Loss: 0.8767615556716919, Val Acc: 0.578125\n",
      "Epoch: [1/1], Step: [541/782], Train Loss: 0.8590207099914551, Train Acc: 0.6484375, Val Loss: 0.8587939143180847, Val Acc: 0.6171875\n",
      "Epoch: [1/1], Step: [551/782], Train Loss: 0.9163388013839722, Train Acc: 0.6015625, Val Loss: 0.9024206399917603, Val Acc: 0.6171875\n",
      "Epoch: [1/1], Step: [561/782], Train Loss: 0.968327522277832, Train Acc: 0.5625, Val Loss: 0.8604570627212524, Val Acc: 0.5859375\n",
      "Epoch: [1/1], Step: [571/782], Train Loss: 1.0572043657302856, Train Acc: 0.4609375, Val Loss: 0.8336805105209351, Val Acc: 0.609375\n",
      "Epoch: [1/1], Step: [581/782], Train Loss: 0.980050802230835, Train Acc: 0.5078125, Val Loss: 0.9116460680961609, Val Acc: 0.578125\n",
      "Epoch: [1/1], Step: [591/782], Train Loss: 1.1139520406723022, Train Acc: 0.5390625, Val Loss: 0.8972654938697815, Val Acc: 0.578125\n",
      "Epoch: [1/1], Step: [601/782], Train Loss: 0.9902443289756775, Train Acc: 0.5703125, Val Loss: 0.9121690392494202, Val Acc: 0.6171875\n",
      "Epoch: [1/1], Step: [611/782], Train Loss: 0.9250036478042603, Train Acc: 0.609375, Val Loss: 0.9171661138534546, Val Acc: 0.5703125\n",
      "Epoch: [1/1], Step: [621/782], Train Loss: 0.983208179473877, Train Acc: 0.6015625, Val Loss: 0.940229594707489, Val Acc: 0.53125\n"
     ]
    },
    {
     "name": "stdout",
     "output_type": "stream",
     "text": [
      "Epoch: [1/1], Step: [631/782], Train Loss: 1.104061245918274, Train Acc: 0.515625, Val Loss: 0.898739218711853, Val Acc: 0.6015625\n",
      "Epoch: [1/1], Step: [641/782], Train Loss: 0.8942179679870605, Train Acc: 0.578125, Val Loss: 0.825308084487915, Val Acc: 0.625\n",
      "Epoch: [1/1], Step: [651/782], Train Loss: 1.0482287406921387, Train Acc: 0.5625, Val Loss: 1.0081586837768555, Val Acc: 0.4921875\n",
      "Epoch: [1/1], Step: [661/782], Train Loss: 0.9536917209625244, Train Acc: 0.5859375, Val Loss: 0.9284330606460571, Val Acc: 0.609375\n",
      "Epoch: [1/1], Step: [671/782], Train Loss: 1.0861860513687134, Train Acc: 0.5, Val Loss: 0.8655147552490234, Val Acc: 0.5546875\n",
      "Epoch: [1/1], Step: [681/782], Train Loss: 1.0199133157730103, Train Acc: 0.53125, Val Loss: 0.8355879187583923, Val Acc: 0.609375\n",
      "Epoch: [1/1], Step: [691/782], Train Loss: 0.9224233031272888, Train Acc: 0.5234375, Val Loss: 0.8235981464385986, Val Acc: 0.609375\n",
      "Epoch: [1/1], Step: [701/782], Train Loss: 1.034873127937317, Train Acc: 0.5, Val Loss: 0.9411508440971375, Val Acc: 0.5\n",
      "Epoch: [1/1], Step: [711/782], Train Loss: 0.9379196166992188, Train Acc: 0.546875, Val Loss: 0.9240406155586243, Val Acc: 0.5546875\n",
      "Epoch: [1/1], Step: [721/782], Train Loss: 0.9813140034675598, Train Acc: 0.5625, Val Loss: 0.876420259475708, Val Acc: 0.53125\n",
      "Epoch: [1/1], Step: [731/782], Train Loss: 1.012951374053955, Train Acc: 0.5546875, Val Loss: 0.8770992755889893, Val Acc: 0.6328125\n",
      "Epoch: [1/1], Step: [741/782], Train Loss: 0.9907656311988831, Train Acc: 0.546875, Val Loss: 0.9221705198287964, Val Acc: 0.609375\n",
      "Epoch: [1/1], Step: [751/782], Train Loss: 1.0340698957443237, Train Acc: 0.4921875, Val Loss: 0.8677734732627869, Val Acc: 0.625\n",
      "Epoch: [1/1], Step: [761/782], Train Loss: 0.9564489722251892, Train Acc: 0.5625, Val Loss: 0.9293472766876221, Val Acc: 0.578125\n",
      "Epoch: [1/1], Step: [771/782], Train Loss: 1.0484648942947388, Train Acc: 0.5078125, Val Loss: 0.7971907258033752, Val Acc: 0.625\n",
      "Epoch: [1/1], Step: [781/782], Train Loss: 1.0055714845657349, Train Acc: 0.5390625, Val Loss: 0.983452320098877, Val Acc: 0.5390625\n"
     ]
    },
    {
     "ename": "RuntimeError",
     "evalue": "Expected hidden size (1, 32, 256), got (1, 128, 256)",
     "output_type": "error",
     "traceback": [
      "\u001b[0;31m---------------------------------------------------------------------------\u001b[0m",
      "\u001b[0;31mRuntimeError\u001b[0m                              Traceback (most recent call last)",
      "\u001b[0;32m<ipython-input-127-ab0f747d84e5>\u001b[0m in \u001b[0;36m<module>\u001b[0;34m()\u001b[0m\n\u001b[1;32m      2\u001b[0m \u001b[0mload_from_path\u001b[0m \u001b[0;34m=\u001b[0m \u001b[0;32mNone\u001b[0m\u001b[0;34m\u001b[0m\u001b[0m\n\u001b[1;32m      3\u001b[0m \u001b[0msave_to_path\u001b[0m \u001b[0;34m=\u001b[0m \u001b[0;34m\"./rnn_concate_256.pkl\"\u001b[0m\u001b[0;34m\u001b[0m\u001b[0m\n\u001b[0;32m----> 4\u001b[0;31m \u001b[0mtrain\u001b[0m\u001b[0;34m(\u001b[0m\u001b[0mmodel\u001b[0m\u001b[0;34m,\u001b[0m \u001b[0;36m1\u001b[0m\u001b[0;34m,\u001b[0m \u001b[0;36m1e-2\u001b[0m\u001b[0;34m,\u001b[0m \u001b[0mtrain_loader\u001b[0m\u001b[0;34m,\u001b[0m \u001b[0mval_loader\u001b[0m\u001b[0;34m,\u001b[0m \u001b[0mload_from_path\u001b[0m\u001b[0;34m,\u001b[0m \u001b[0msave_to_path\u001b[0m\u001b[0;34m,\u001b[0m \u001b[0mbest_val_acc\u001b[0m\u001b[0;34m,\u001b[0m \u001b[0mtrain_losses\u001b[0m\u001b[0;34m,\u001b[0m \u001b[0mtrain_accs\u001b[0m\u001b[0;34m,\u001b[0m \u001b[0mval_losses\u001b[0m\u001b[0;34m,\u001b[0m \u001b[0mval_accs\u001b[0m\u001b[0;34m)\u001b[0m\u001b[0;34m\u001b[0m\u001b[0m\n\u001b[0m",
      "\u001b[0;32m<ipython-input-126-e07d41e7c2ef>\u001b[0m in \u001b[0;36mtrain\u001b[0;34m(model, num_epochs, learning_rate, train_loader, val_loader, load_from_path, save_to_path, best_val_acc, train_losses, train_accs, val_losses, val_accs)\u001b[0m\n\u001b[1;32m     41\u001b[0m             \u001b[0moptimizer\u001b[0m\u001b[0;34m.\u001b[0m\u001b[0mzero_grad\u001b[0m\u001b[0;34m(\u001b[0m\u001b[0;34m)\u001b[0m\u001b[0;34m\u001b[0m\u001b[0m\n\u001b[1;32m     42\u001b[0m \u001b[0;34m\u001b[0m\u001b[0m\n\u001b[0;32m---> 43\u001b[0;31m             \u001b[0mloss\u001b[0m\u001b[0;34m,\u001b[0m \u001b[0mtrain_loss_value\u001b[0m\u001b[0;34m,\u001b[0m \u001b[0mtrain_acc_value\u001b[0m \u001b[0;34m=\u001b[0m \u001b[0mevaluate\u001b[0m\u001b[0;34m(\u001b[0m\u001b[0mmodel\u001b[0m\u001b[0;34m,\u001b[0m \u001b[0mce_loss\u001b[0m\u001b[0;34m,\u001b[0m \u001b[0msent1\u001b[0m\u001b[0;34m,\u001b[0m \u001b[0msent2\u001b[0m\u001b[0;34m,\u001b[0m \u001b[0msent1_len\u001b[0m\u001b[0;34m,\u001b[0m \u001b[0msent2_len\u001b[0m\u001b[0;34m,\u001b[0m \u001b[0mlabels\u001b[0m\u001b[0;34m)\u001b[0m\u001b[0;34m\u001b[0m\u001b[0m\n\u001b[0m\u001b[1;32m     44\u001b[0m \u001b[0;34m\u001b[0m\u001b[0m\n\u001b[1;32m     45\u001b[0m             \u001b[0;31m# Backprop from loss\u001b[0m\u001b[0;34m\u001b[0m\u001b[0;34m\u001b[0m\u001b[0m\n",
      "\u001b[0;32m<ipython-input-126-e07d41e7c2ef>\u001b[0m in \u001b[0;36mevaluate\u001b[0;34m(model, loss_func, sent1, sent2, sent1_len, sent2_len, labels)\u001b[0m\n\u001b[1;32m      1\u001b[0m \u001b[0;32mdef\u001b[0m \u001b[0mevaluate\u001b[0m\u001b[0;34m(\u001b[0m\u001b[0mmodel\u001b[0m\u001b[0;34m,\u001b[0m \u001b[0mloss_func\u001b[0m\u001b[0;34m,\u001b[0m \u001b[0msent1\u001b[0m\u001b[0;34m,\u001b[0m \u001b[0msent2\u001b[0m\u001b[0;34m,\u001b[0m \u001b[0msent1_len\u001b[0m\u001b[0;34m,\u001b[0m \u001b[0msent2_len\u001b[0m\u001b[0;34m,\u001b[0m \u001b[0mlabels\u001b[0m\u001b[0;34m)\u001b[0m\u001b[0;34m:\u001b[0m\u001b[0;34m\u001b[0m\u001b[0m\n\u001b[0;32m----> 2\u001b[0;31m     \u001b[0mlogits\u001b[0m \u001b[0;34m=\u001b[0m \u001b[0mmodel\u001b[0m\u001b[0;34m(\u001b[0m\u001b[0msent1\u001b[0m\u001b[0;34m,\u001b[0m \u001b[0msent2\u001b[0m\u001b[0;34m,\u001b[0m \u001b[0msent1_len\u001b[0m\u001b[0;34m,\u001b[0m \u001b[0msent2_len\u001b[0m\u001b[0;34m)\u001b[0m\u001b[0;34m\u001b[0m\u001b[0m\n\u001b[0m\u001b[1;32m      3\u001b[0m     \u001b[0mloss\u001b[0m \u001b[0;34m=\u001b[0m \u001b[0mloss_func\u001b[0m\u001b[0;34m(\u001b[0m\u001b[0mlogits\u001b[0m\u001b[0;34m,\u001b[0m \u001b[0mlabels\u001b[0m\u001b[0;34m)\u001b[0m\u001b[0;34m\u001b[0m\u001b[0m\n\u001b[1;32m      4\u001b[0m     \u001b[0m_\u001b[0m\u001b[0;34m,\u001b[0m \u001b[0mpred\u001b[0m \u001b[0;34m=\u001b[0m \u001b[0mtorch\u001b[0m\u001b[0;34m.\u001b[0m\u001b[0mmax\u001b[0m\u001b[0;34m(\u001b[0m\u001b[0mlogits\u001b[0m\u001b[0;34m,\u001b[0m \u001b[0;36m1\u001b[0m\u001b[0;34m)\u001b[0m\u001b[0;34m\u001b[0m\u001b[0m\n\u001b[1;32m      5\u001b[0m     \u001b[0macc\u001b[0m \u001b[0;34m=\u001b[0m \u001b[0;34m(\u001b[0m\u001b[0mlabels\u001b[0m \u001b[0;34m==\u001b[0m \u001b[0mpred\u001b[0m\u001b[0;34m)\u001b[0m\u001b[0;34m.\u001b[0m\u001b[0msum\u001b[0m\u001b[0;34m(\u001b[0m\u001b[0;34m)\u001b[0m\u001b[0;34m\u001b[0m\u001b[0m\n",
      "\u001b[0;32m/Users/wu/anaconda/lib/python3.6/site-packages/torch/nn/modules/module.py\u001b[0m in \u001b[0;36m__call__\u001b[0;34m(self, *input, **kwargs)\u001b[0m\n\u001b[1;32m    475\u001b[0m             \u001b[0mresult\u001b[0m \u001b[0;34m=\u001b[0m \u001b[0mself\u001b[0m\u001b[0;34m.\u001b[0m\u001b[0m_slow_forward\u001b[0m\u001b[0;34m(\u001b[0m\u001b[0;34m*\u001b[0m\u001b[0minput\u001b[0m\u001b[0;34m,\u001b[0m \u001b[0;34m**\u001b[0m\u001b[0mkwargs\u001b[0m\u001b[0;34m)\u001b[0m\u001b[0;34m\u001b[0m\u001b[0m\n\u001b[1;32m    476\u001b[0m         \u001b[0;32melse\u001b[0m\u001b[0;34m:\u001b[0m\u001b[0;34m\u001b[0m\u001b[0m\n\u001b[0;32m--> 477\u001b[0;31m             \u001b[0mresult\u001b[0m \u001b[0;34m=\u001b[0m \u001b[0mself\u001b[0m\u001b[0;34m.\u001b[0m\u001b[0mforward\u001b[0m\u001b[0;34m(\u001b[0m\u001b[0;34m*\u001b[0m\u001b[0minput\u001b[0m\u001b[0;34m,\u001b[0m \u001b[0;34m**\u001b[0m\u001b[0mkwargs\u001b[0m\u001b[0;34m)\u001b[0m\u001b[0;34m\u001b[0m\u001b[0m\n\u001b[0m\u001b[1;32m    478\u001b[0m         \u001b[0;32mfor\u001b[0m \u001b[0mhook\u001b[0m \u001b[0;32min\u001b[0m \u001b[0mself\u001b[0m\u001b[0;34m.\u001b[0m\u001b[0m_forward_hooks\u001b[0m\u001b[0;34m.\u001b[0m\u001b[0mvalues\u001b[0m\u001b[0;34m(\u001b[0m\u001b[0;34m)\u001b[0m\u001b[0;34m:\u001b[0m\u001b[0;34m\u001b[0m\u001b[0m\n\u001b[1;32m    479\u001b[0m             \u001b[0mhook_result\u001b[0m \u001b[0;34m=\u001b[0m \u001b[0mhook\u001b[0m\u001b[0;34m(\u001b[0m\u001b[0mself\u001b[0m\u001b[0;34m,\u001b[0m \u001b[0minput\u001b[0m\u001b[0;34m,\u001b[0m \u001b[0mresult\u001b[0m\u001b[0;34m)\u001b[0m\u001b[0;34m\u001b[0m\u001b[0m\n",
      "\u001b[0;32m<ipython-input-125-8e13b5f0abc5>\u001b[0m in \u001b[0;36mforward\u001b[0;34m(self, sent1, sent2, sent1_len, sent2_len)\u001b[0m\n\u001b[1;32m     32\u001b[0m         \u001b[0me1\u001b[0m\u001b[0;34m,\u001b[0m \u001b[0me2\u001b[0m \u001b[0;34m=\u001b[0m \u001b[0mself\u001b[0m\u001b[0;34m.\u001b[0m\u001b[0membed\u001b[0m\u001b[0;34m(\u001b[0m\u001b[0msent1\u001b[0m\u001b[0;34m)\u001b[0m\u001b[0;34m,\u001b[0m \u001b[0mself\u001b[0m\u001b[0;34m.\u001b[0m\u001b[0membed\u001b[0m\u001b[0;34m(\u001b[0m\u001b[0msent2\u001b[0m\u001b[0;34m)\u001b[0m\u001b[0;34m\u001b[0m\u001b[0m\n\u001b[1;32m     33\u001b[0m \u001b[0;34m\u001b[0m\u001b[0m\n\u001b[0;32m---> 34\u001b[0;31m         \u001b[0mouts1\u001b[0m\u001b[0;34m,\u001b[0m \u001b[0m_\u001b[0m \u001b[0;34m=\u001b[0m \u001b[0mself\u001b[0m\u001b[0;34m.\u001b[0m\u001b[0mgru\u001b[0m\u001b[0;34m(\u001b[0m\u001b[0me1\u001b[0m\u001b[0;34m,\u001b[0m \u001b[0mself\u001b[0m\u001b[0;34m.\u001b[0m\u001b[0mh0\u001b[0m\u001b[0;34m)\u001b[0m\u001b[0;34m\u001b[0m\u001b[0m\n\u001b[0m\u001b[1;32m     35\u001b[0m         \u001b[0mouts2\u001b[0m\u001b[0;34m,\u001b[0m \u001b[0m_\u001b[0m \u001b[0;34m=\u001b[0m \u001b[0mself\u001b[0m\u001b[0;34m.\u001b[0m\u001b[0mgru\u001b[0m\u001b[0;34m(\u001b[0m\u001b[0me2\u001b[0m\u001b[0;34m,\u001b[0m \u001b[0mself\u001b[0m\u001b[0;34m.\u001b[0m\u001b[0mh0\u001b[0m\u001b[0;34m)\u001b[0m\u001b[0;34m\u001b[0m\u001b[0m\n\u001b[1;32m     36\u001b[0m \u001b[0;34m\u001b[0m\u001b[0m\n",
      "\u001b[0;32m/Users/wu/anaconda/lib/python3.6/site-packages/torch/nn/modules/module.py\u001b[0m in \u001b[0;36m__call__\u001b[0;34m(self, *input, **kwargs)\u001b[0m\n\u001b[1;32m    475\u001b[0m             \u001b[0mresult\u001b[0m \u001b[0;34m=\u001b[0m \u001b[0mself\u001b[0m\u001b[0;34m.\u001b[0m\u001b[0m_slow_forward\u001b[0m\u001b[0;34m(\u001b[0m\u001b[0;34m*\u001b[0m\u001b[0minput\u001b[0m\u001b[0;34m,\u001b[0m \u001b[0;34m**\u001b[0m\u001b[0mkwargs\u001b[0m\u001b[0;34m)\u001b[0m\u001b[0;34m\u001b[0m\u001b[0m\n\u001b[1;32m    476\u001b[0m         \u001b[0;32melse\u001b[0m\u001b[0;34m:\u001b[0m\u001b[0;34m\u001b[0m\u001b[0m\n\u001b[0;32m--> 477\u001b[0;31m             \u001b[0mresult\u001b[0m \u001b[0;34m=\u001b[0m \u001b[0mself\u001b[0m\u001b[0;34m.\u001b[0m\u001b[0mforward\u001b[0m\u001b[0;34m(\u001b[0m\u001b[0;34m*\u001b[0m\u001b[0minput\u001b[0m\u001b[0;34m,\u001b[0m \u001b[0;34m**\u001b[0m\u001b[0mkwargs\u001b[0m\u001b[0;34m)\u001b[0m\u001b[0;34m\u001b[0m\u001b[0m\n\u001b[0m\u001b[1;32m    478\u001b[0m         \u001b[0;32mfor\u001b[0m \u001b[0mhook\u001b[0m \u001b[0;32min\u001b[0m \u001b[0mself\u001b[0m\u001b[0;34m.\u001b[0m\u001b[0m_forward_hooks\u001b[0m\u001b[0;34m.\u001b[0m\u001b[0mvalues\u001b[0m\u001b[0;34m(\u001b[0m\u001b[0;34m)\u001b[0m\u001b[0;34m:\u001b[0m\u001b[0;34m\u001b[0m\u001b[0m\n\u001b[1;32m    479\u001b[0m             \u001b[0mhook_result\u001b[0m \u001b[0;34m=\u001b[0m \u001b[0mhook\u001b[0m\u001b[0;34m(\u001b[0m\u001b[0mself\u001b[0m\u001b[0;34m,\u001b[0m \u001b[0minput\u001b[0m\u001b[0;34m,\u001b[0m \u001b[0mresult\u001b[0m\u001b[0;34m)\u001b[0m\u001b[0;34m\u001b[0m\u001b[0m\n",
      "\u001b[0;32m/Users/wu/anaconda/lib/python3.6/site-packages/torch/nn/modules/rnn.py\u001b[0m in \u001b[0;36mforward\u001b[0;34m(self, input, hx)\u001b[0m\n\u001b[1;32m    176\u001b[0m             \u001b[0mflat_weight\u001b[0m \u001b[0;34m=\u001b[0m \u001b[0;32mNone\u001b[0m\u001b[0;34m\u001b[0m\u001b[0m\n\u001b[1;32m    177\u001b[0m \u001b[0;34m\u001b[0m\u001b[0m\n\u001b[0;32m--> 178\u001b[0;31m         \u001b[0mself\u001b[0m\u001b[0;34m.\u001b[0m\u001b[0mcheck_forward_args\u001b[0m\u001b[0;34m(\u001b[0m\u001b[0minput\u001b[0m\u001b[0;34m,\u001b[0m \u001b[0mhx\u001b[0m\u001b[0;34m,\u001b[0m \u001b[0mbatch_sizes\u001b[0m\u001b[0;34m)\u001b[0m\u001b[0;34m\u001b[0m\u001b[0m\n\u001b[0m\u001b[1;32m    179\u001b[0m         func = self._backend.RNN(\n\u001b[1;32m    180\u001b[0m             \u001b[0mself\u001b[0m\u001b[0;34m.\u001b[0m\u001b[0mmode\u001b[0m\u001b[0;34m,\u001b[0m\u001b[0;34m\u001b[0m\u001b[0m\n",
      "\u001b[0;32m/Users/wu/anaconda/lib/python3.6/site-packages/torch/nn/modules/rnn.py\u001b[0m in \u001b[0;36mcheck_forward_args\u001b[0;34m(self, input, hidden, batch_sizes)\u001b[0m\n\u001b[1;32m    149\u001b[0m                               'Expected hidden[1] size {}, got {}')\n\u001b[1;32m    150\u001b[0m         \u001b[0;32melse\u001b[0m\u001b[0;34m:\u001b[0m\u001b[0;34m\u001b[0m\u001b[0m\n\u001b[0;32m--> 151\u001b[0;31m             \u001b[0mcheck_hidden_size\u001b[0m\u001b[0;34m(\u001b[0m\u001b[0mhidden\u001b[0m\u001b[0;34m,\u001b[0m \u001b[0mexpected_hidden_size\u001b[0m\u001b[0;34m)\u001b[0m\u001b[0;34m\u001b[0m\u001b[0m\n\u001b[0m\u001b[1;32m    152\u001b[0m \u001b[0;34m\u001b[0m\u001b[0m\n\u001b[1;32m    153\u001b[0m     \u001b[0;32mdef\u001b[0m \u001b[0mforward\u001b[0m\u001b[0;34m(\u001b[0m\u001b[0mself\u001b[0m\u001b[0;34m,\u001b[0m \u001b[0minput\u001b[0m\u001b[0;34m,\u001b[0m \u001b[0mhx\u001b[0m\u001b[0;34m=\u001b[0m\u001b[0;32mNone\u001b[0m\u001b[0;34m)\u001b[0m\u001b[0;34m:\u001b[0m\u001b[0;34m\u001b[0m\u001b[0m\n",
      "\u001b[0;32m/Users/wu/anaconda/lib/python3.6/site-packages/torch/nn/modules/rnn.py\u001b[0m in \u001b[0;36mcheck_hidden_size\u001b[0;34m(hx, expected_hidden_size, msg)\u001b[0m\n\u001b[1;32m    141\u001b[0m         \u001b[0;32mdef\u001b[0m \u001b[0mcheck_hidden_size\u001b[0m\u001b[0;34m(\u001b[0m\u001b[0mhx\u001b[0m\u001b[0;34m,\u001b[0m \u001b[0mexpected_hidden_size\u001b[0m\u001b[0;34m,\u001b[0m \u001b[0mmsg\u001b[0m\u001b[0;34m=\u001b[0m\u001b[0;34m'Expected hidden size {}, got {}'\u001b[0m\u001b[0;34m)\u001b[0m\u001b[0;34m:\u001b[0m\u001b[0;34m\u001b[0m\u001b[0m\n\u001b[1;32m    142\u001b[0m             \u001b[0;32mif\u001b[0m \u001b[0mtuple\u001b[0m\u001b[0;34m(\u001b[0m\u001b[0mhx\u001b[0m\u001b[0;34m.\u001b[0m\u001b[0msize\u001b[0m\u001b[0;34m(\u001b[0m\u001b[0;34m)\u001b[0m\u001b[0;34m)\u001b[0m \u001b[0;34m!=\u001b[0m \u001b[0mexpected_hidden_size\u001b[0m\u001b[0;34m:\u001b[0m\u001b[0;34m\u001b[0m\u001b[0m\n\u001b[0;32m--> 143\u001b[0;31m                 \u001b[0;32mraise\u001b[0m \u001b[0mRuntimeError\u001b[0m\u001b[0;34m(\u001b[0m\u001b[0mmsg\u001b[0m\u001b[0;34m.\u001b[0m\u001b[0mformat\u001b[0m\u001b[0;34m(\u001b[0m\u001b[0mexpected_hidden_size\u001b[0m\u001b[0;34m,\u001b[0m \u001b[0mtuple\u001b[0m\u001b[0;34m(\u001b[0m\u001b[0mhx\u001b[0m\u001b[0;34m.\u001b[0m\u001b[0msize\u001b[0m\u001b[0;34m(\u001b[0m\u001b[0;34m)\u001b[0m\u001b[0;34m)\u001b[0m\u001b[0;34m)\u001b[0m\u001b[0;34m)\u001b[0m\u001b[0;34m\u001b[0m\u001b[0m\n\u001b[0m\u001b[1;32m    144\u001b[0m \u001b[0;34m\u001b[0m\u001b[0m\n\u001b[1;32m    145\u001b[0m         \u001b[0;32mif\u001b[0m \u001b[0mself\u001b[0m\u001b[0;34m.\u001b[0m\u001b[0mmode\u001b[0m \u001b[0;34m==\u001b[0m \u001b[0;34m'LSTM'\u001b[0m\u001b[0;34m:\u001b[0m\u001b[0;34m\u001b[0m\u001b[0m\n",
      "\u001b[0;31mRuntimeError\u001b[0m: Expected hidden size (1, 32, 256), got (1, 128, 256)"
     ]
    }
   ],
   "source": [
    "model = TwoSentencesRNN(embedding_matrix, 3, MAX_SENTENCE_LENGTH)\n",
    "load_from_path = None\n",
    "save_to_path = \"./rnn_concate_256.pkl\"\n",
    "train(model, 1, 1e-2, train_loader, val_loader, load_from_path, save_to_path, best_val_acc, train_losses, train_accs, val_losses, val_accs)"
   ]
  },
  {
   "cell_type": "code",
   "execution_count": 138,
   "metadata": {},
   "outputs": [
    {
     "name": "stderr",
     "output_type": "stream",
     "text": [
      "/Users/wu/anaconda/lib/python3.6/site-packages/ipykernel_launcher.py:7: UserWarning: invalid index of a 0-dim tensor. This will be an error in PyTorch 0.5. Use tensor.item() to convert a 0-dim tensor to a Python number\n",
      "  import sys\n"
     ]
    },
    {
     "name": "stdout",
     "output_type": "stream",
     "text": [
      "Epoch: [1/1], Step: [1/782], Train Loss: 1.1043460369110107, Train Acc: 0.34375, Val Loss: 1.1027675867080688, Val Acc: 0.3671875\n",
      "Epoch: [1/1], Step: [11/782], Train Loss: 1.0607693195343018, Train Acc: 0.4765625, Val Loss: 0.9516038298606873, Val Acc: 0.6484375\n",
      "Epoch: [1/1], Step: [21/782], Train Loss: 1.022309422492981, Train Acc: 0.53125, Val Loss: 0.7498926520347595, Val Acc: 0.7109375\n",
      "Epoch: [1/1], Step: [31/782], Train Loss: 0.9656860828399658, Train Acc: 0.53125, Val Loss: 0.8673946261405945, Val Acc: 0.59375\n",
      "Epoch: [1/1], Step: [41/782], Train Loss: 1.0290248394012451, Train Acc: 0.4765625, Val Loss: 0.85332190990448, Val Acc: 0.640625\n",
      "Epoch: [1/1], Step: [51/782], Train Loss: 0.9426600337028503, Train Acc: 0.578125, Val Loss: 0.8461145162582397, Val Acc: 0.6328125\n",
      "Epoch: [1/1], Step: [61/782], Train Loss: 0.9909589886665344, Train Acc: 0.546875, Val Loss: 0.8118904829025269, Val Acc: 0.6875\n",
      "Epoch: [1/1], Step: [71/782], Train Loss: 0.905884325504303, Train Acc: 0.578125, Val Loss: 0.8068429231643677, Val Acc: 0.71875\n",
      "Epoch: [1/1], Step: [81/782], Train Loss: 0.9606651067733765, Train Acc: 0.515625, Val Loss: 0.789555549621582, Val Acc: 0.703125\n",
      "Epoch: [1/1], Step: [91/782], Train Loss: 0.9579939246177673, Train Acc: 0.53125, Val Loss: 0.738513708114624, Val Acc: 0.65625\n",
      "Epoch: [1/1], Step: [101/782], Train Loss: 0.9951213002204895, Train Acc: 0.5546875, Val Loss: 0.7886630892753601, Val Acc: 0.6796875\n",
      "Epoch: [1/1], Step: [111/782], Train Loss: 0.9486465454101562, Train Acc: 0.5703125, Val Loss: 0.8100304007530212, Val Acc: 0.6796875\n",
      "Epoch: [1/1], Step: [121/782], Train Loss: 0.875487208366394, Train Acc: 0.609375, Val Loss: 0.7734025716781616, Val Acc: 0.6953125\n",
      "Epoch: [1/1], Step: [131/782], Train Loss: 0.8517346978187561, Train Acc: 0.640625, Val Loss: 0.7610366940498352, Val Acc: 0.6796875\n",
      "Epoch: [1/1], Step: [141/782], Train Loss: 0.8497430086135864, Train Acc: 0.59375, Val Loss: 0.7562772035598755, Val Acc: 0.7421875\n",
      "Epoch: [1/1], Step: [151/782], Train Loss: 0.956653892993927, Train Acc: 0.515625, Val Loss: 0.8464289903640747, Val Acc: 0.65625\n",
      "Epoch: [1/1], Step: [161/782], Train Loss: 0.9252544641494751, Train Acc: 0.578125, Val Loss: 0.7575265169143677, Val Acc: 0.7265625\n",
      "Epoch: [1/1], Step: [171/782], Train Loss: 0.8760172724723816, Train Acc: 0.5859375, Val Loss: 0.7151197791099548, Val Acc: 0.6875\n",
      "Epoch: [1/1], Step: [181/782], Train Loss: 0.9509939551353455, Train Acc: 0.546875, Val Loss: 0.7677404284477234, Val Acc: 0.6796875\n",
      "Epoch: [1/1], Step: [191/782], Train Loss: 1.0983998775482178, Train Acc: 0.5, Val Loss: 0.7403339147567749, Val Acc: 0.6875\n",
      "Epoch: [1/1], Step: [201/782], Train Loss: 0.8173860907554626, Train Acc: 0.625, Val Loss: 0.714143693447113, Val Acc: 0.6953125\n",
      "Epoch: [1/1], Step: [211/782], Train Loss: 0.9223006367683411, Train Acc: 0.546875, Val Loss: 0.7460289001464844, Val Acc: 0.671875\n",
      "Epoch: [1/1], Step: [221/782], Train Loss: 0.7215922474861145, Train Acc: 0.6484375, Val Loss: 0.7227636575698853, Val Acc: 0.671875\n",
      "Epoch: [1/1], Step: [231/782], Train Loss: 0.7717243432998657, Train Acc: 0.6875, Val Loss: 0.7294316291809082, Val Acc: 0.6875\n",
      "Epoch: [1/1], Step: [241/782], Train Loss: 0.8517719507217407, Train Acc: 0.6171875, Val Loss: 0.7799232602119446, Val Acc: 0.671875\n",
      "Epoch: [1/1], Step: [251/782], Train Loss: 0.896986186504364, Train Acc: 0.5859375, Val Loss: 0.7406898736953735, Val Acc: 0.71875\n",
      "Epoch: [1/1], Step: [261/782], Train Loss: 0.8354612588882446, Train Acc: 0.609375, Val Loss: 0.7620148658752441, Val Acc: 0.671875\n",
      "Epoch: [1/1], Step: [271/782], Train Loss: 0.9404632449150085, Train Acc: 0.53125, Val Loss: 0.8050578236579895, Val Acc: 0.6640625\n",
      "Epoch: [1/1], Step: [281/782], Train Loss: 0.9060683250427246, Train Acc: 0.5546875, Val Loss: 0.8185461759567261, Val Acc: 0.6171875\n",
      "Epoch: [1/1], Step: [291/782], Train Loss: 1.0204893350601196, Train Acc: 0.5703125, Val Loss: 0.8215892314910889, Val Acc: 0.65625\n",
      "Epoch: [1/1], Step: [301/782], Train Loss: 0.9710301160812378, Train Acc: 0.5625, Val Loss: 0.8503078818321228, Val Acc: 0.671875\n",
      "Epoch: [1/1], Step: [311/782], Train Loss: 0.8488141298294067, Train Acc: 0.6171875, Val Loss: 0.7895498871803284, Val Acc: 0.6640625\n",
      "Epoch: [1/1], Step: [321/782], Train Loss: 0.9515137672424316, Train Acc: 0.515625, Val Loss: 0.7937526702880859, Val Acc: 0.6484375\n",
      "Epoch: [1/1], Step: [331/782], Train Loss: 0.9191832542419434, Train Acc: 0.578125, Val Loss: 0.7813776731491089, Val Acc: 0.671875\n",
      "Epoch: [1/1], Step: [341/782], Train Loss: 0.9350064992904663, Train Acc: 0.546875, Val Loss: 0.7856565713882446, Val Acc: 0.6875\n",
      "Epoch: [1/1], Step: [351/782], Train Loss: 0.7999014258384705, Train Acc: 0.6328125, Val Loss: 0.7492572665214539, Val Acc: 0.671875\n",
      "Epoch: [1/1], Step: [361/782], Train Loss: 0.9125474095344543, Train Acc: 0.578125, Val Loss: 0.8041154146194458, Val Acc: 0.65625\n",
      "Epoch: [1/1], Step: [371/782], Train Loss: 0.816224217414856, Train Acc: 0.6328125, Val Loss: 0.7893219590187073, Val Acc: 0.640625\n",
      "Epoch: [1/1], Step: [381/782], Train Loss: 0.8590750098228455, Train Acc: 0.640625, Val Loss: 0.8045125007629395, Val Acc: 0.671875\n",
      "Epoch: [1/1], Step: [391/782], Train Loss: 0.8749768137931824, Train Acc: 0.6171875, Val Loss: 0.8138287663459778, Val Acc: 0.6640625\n",
      "Epoch: [1/1], Step: [401/782], Train Loss: 0.8765238523483276, Train Acc: 0.5703125, Val Loss: 0.7346746325492859, Val Acc: 0.703125\n",
      "Epoch: [1/1], Step: [411/782], Train Loss: 1.016184687614441, Train Acc: 0.53125, Val Loss: 0.7766854763031006, Val Acc: 0.6875\n",
      "Epoch: [1/1], Step: [421/782], Train Loss: 0.8027617931365967, Train Acc: 0.640625, Val Loss: 0.7289502620697021, Val Acc: 0.6953125\n",
      "Epoch: [1/1], Step: [431/782], Train Loss: 0.8530236482620239, Train Acc: 0.65625, Val Loss: 0.816344678401947, Val Acc: 0.65625\n",
      "Epoch: [1/1], Step: [441/782], Train Loss: 0.8911932706832886, Train Acc: 0.640625, Val Loss: 0.8189216256141663, Val Acc: 0.6796875\n",
      "Epoch: [1/1], Step: [451/782], Train Loss: 0.8101765513420105, Train Acc: 0.65625, Val Loss: 0.8317407965660095, Val Acc: 0.625\n",
      "Epoch: [1/1], Step: [461/782], Train Loss: 0.9612562656402588, Train Acc: 0.5546875, Val Loss: 0.8267959356307983, Val Acc: 0.6328125\n",
      "Epoch: [1/1], Step: [471/782], Train Loss: 0.9533901214599609, Train Acc: 0.5703125, Val Loss: 0.7644871473312378, Val Acc: 0.640625\n",
      "Epoch: [1/1], Step: [481/782], Train Loss: 0.838712215423584, Train Acc: 0.65625, Val Loss: 0.7922149300575256, Val Acc: 0.671875\n",
      "Epoch: [1/1], Step: [491/782], Train Loss: 0.8003333210945129, Train Acc: 0.6640625, Val Loss: 0.8028214573860168, Val Acc: 0.65625\n",
      "Epoch: [1/1], Step: [501/782], Train Loss: 0.920987069606781, Train Acc: 0.5546875, Val Loss: 0.8402972221374512, Val Acc: 0.609375\n",
      "Epoch: [1/1], Step: [511/782], Train Loss: 0.8481431007385254, Train Acc: 0.6171875, Val Loss: 0.7770105004310608, Val Acc: 0.6875\n",
      "Epoch: [1/1], Step: [521/782], Train Loss: 0.9411834478378296, Train Acc: 0.578125, Val Loss: 0.8054142594337463, Val Acc: 0.6640625\n",
      "Epoch: [1/1], Step: [531/782], Train Loss: 0.8763892650604248, Train Acc: 0.640625, Val Loss: 0.7609771490097046, Val Acc: 0.640625\n",
      "Epoch: [1/1], Step: [541/782], Train Loss: 0.8211493492126465, Train Acc: 0.6015625, Val Loss: 0.7773605585098267, Val Acc: 0.671875\n",
      "Epoch: [1/1], Step: [551/782], Train Loss: 0.870357096195221, Train Acc: 0.6015625, Val Loss: 0.7976115345954895, Val Acc: 0.6640625\n",
      "Epoch: [1/1], Step: [561/782], Train Loss: 0.7862967252731323, Train Acc: 0.6640625, Val Loss: 0.7874047160148621, Val Acc: 0.671875\n",
      "Epoch: [1/1], Step: [571/782], Train Loss: 0.9442772269248962, Train Acc: 0.5703125, Val Loss: 0.7806107997894287, Val Acc: 0.671875\n",
      "Epoch: [1/1], Step: [581/782], Train Loss: 0.856959879398346, Train Acc: 0.640625, Val Loss: 0.7775413393974304, Val Acc: 0.6875\n",
      "Epoch: [1/1], Step: [591/782], Train Loss: 0.9655529260635376, Train Acc: 0.546875, Val Loss: 0.7932345867156982, Val Acc: 0.6796875\n",
      "Epoch: [1/1], Step: [601/782], Train Loss: 0.9226464033126831, Train Acc: 0.5625, Val Loss: 0.8008354306221008, Val Acc: 0.6875\n",
      "Epoch: [1/1], Step: [611/782], Train Loss: 0.8930457234382629, Train Acc: 0.5703125, Val Loss: 0.7923908233642578, Val Acc: 0.6796875\n",
      "Epoch: [1/1], Step: [621/782], Train Loss: 0.7750929594039917, Train Acc: 0.7265625, Val Loss: 0.7835837602615356, Val Acc: 0.6796875\n"
     ]
    },
    {
     "name": "stdout",
     "output_type": "stream",
     "text": [
      "Epoch: [1/1], Step: [631/782], Train Loss: 0.862338125705719, Train Acc: 0.59375, Val Loss: 0.8395014405250549, Val Acc: 0.578125\n",
      "Epoch: [1/1], Step: [641/782], Train Loss: 0.823528528213501, Train Acc: 0.6796875, Val Loss: 0.7663270831108093, Val Acc: 0.65625\n",
      "Epoch: [1/1], Step: [651/782], Train Loss: 0.9282271265983582, Train Acc: 0.59375, Val Loss: 0.790145218372345, Val Acc: 0.6484375\n",
      "Epoch: [1/1], Step: [661/782], Train Loss: 0.8168835639953613, Train Acc: 0.6171875, Val Loss: 0.7399991750717163, Val Acc: 0.625\n",
      "Epoch: [1/1], Step: [671/782], Train Loss: 0.9455671310424805, Train Acc: 0.5625, Val Loss: 0.7686813473701477, Val Acc: 0.6953125\n",
      "Epoch: [1/1], Step: [681/782], Train Loss: 0.9075796008110046, Train Acc: 0.5703125, Val Loss: 0.8059996962547302, Val Acc: 0.6640625\n",
      "Epoch: [1/1], Step: [691/782], Train Loss: 0.8703347444534302, Train Acc: 0.6171875, Val Loss: 0.7854459285736084, Val Acc: 0.671875\n",
      "Epoch: [1/1], Step: [701/782], Train Loss: 0.9817054271697998, Train Acc: 0.5390625, Val Loss: 0.8074145317077637, Val Acc: 0.625\n",
      "Epoch: [1/1], Step: [711/782], Train Loss: 0.8881320357322693, Train Acc: 0.6171875, Val Loss: 0.7918466329574585, Val Acc: 0.6328125\n",
      "Epoch: [1/1], Step: [721/782], Train Loss: 0.8580294847488403, Train Acc: 0.625, Val Loss: 0.786034345626831, Val Acc: 0.6171875\n",
      "Epoch: [1/1], Step: [731/782], Train Loss: 0.8471571803092957, Train Acc: 0.6171875, Val Loss: 0.8443631529808044, Val Acc: 0.6171875\n",
      "Epoch: [1/1], Step: [741/782], Train Loss: 0.883111834526062, Train Acc: 0.5625, Val Loss: 0.7832416296005249, Val Acc: 0.6640625\n",
      "Epoch: [1/1], Step: [751/782], Train Loss: 0.8172972202301025, Train Acc: 0.625, Val Loss: 0.7408866286277771, Val Acc: 0.671875\n",
      "Epoch: [1/1], Step: [761/782], Train Loss: 0.869280993938446, Train Acc: 0.6171875, Val Loss: 0.8202155828475952, Val Acc: 0.6484375\n",
      "Epoch: [1/1], Step: [771/782], Train Loss: 0.8805823922157288, Train Acc: 0.640625, Val Loss: 0.8170253038406372, Val Acc: 0.6171875\n",
      "Epoch: [1/1], Step: [781/782], Train Loss: 0.8316090703010559, Train Acc: 0.671875, Val Loss: 0.7588346004486084, Val Acc: 0.65625\n"
     ]
    },
    {
     "ename": "RuntimeError",
     "evalue": "Expected hidden size (1, 32, 64), got (1, 128, 64)",
     "output_type": "error",
     "traceback": [
      "\u001b[0;31m---------------------------------------------------------------------------\u001b[0m",
      "\u001b[0;31mRuntimeError\u001b[0m                              Traceback (most recent call last)",
      "\u001b[0;32m<ipython-input-138-ae0e3c591787>\u001b[0m in \u001b[0;36m<module>\u001b[0;34m()\u001b[0m\n\u001b[1;32m      2\u001b[0m \u001b[0mload_from_path\u001b[0m \u001b[0;34m=\u001b[0m \u001b[0;32mNone\u001b[0m\u001b[0;34m\u001b[0m\u001b[0m\n\u001b[1;32m      3\u001b[0m \u001b[0msave_to_path\u001b[0m \u001b[0;34m=\u001b[0m \u001b[0;34m\"./rnn_concate_64.pkl\"\u001b[0m\u001b[0;34m\u001b[0m\u001b[0m\n\u001b[0;32m----> 4\u001b[0;31m \u001b[0mtrain\u001b[0m\u001b[0;34m(\u001b[0m\u001b[0mmodel\u001b[0m\u001b[0;34m,\u001b[0m \u001b[0;36m1\u001b[0m\u001b[0;34m,\u001b[0m \u001b[0;36m1e-2\u001b[0m\u001b[0;34m,\u001b[0m \u001b[0mtrain_loader\u001b[0m\u001b[0;34m,\u001b[0m \u001b[0mval_loader\u001b[0m\u001b[0;34m,\u001b[0m \u001b[0mload_from_path\u001b[0m\u001b[0;34m,\u001b[0m \u001b[0msave_to_path\u001b[0m\u001b[0;34m,\u001b[0m \u001b[0mbest_val_acc\u001b[0m\u001b[0;34m,\u001b[0m \u001b[0mtrain_losses\u001b[0m\u001b[0;34m,\u001b[0m \u001b[0mtrain_accs\u001b[0m\u001b[0;34m,\u001b[0m \u001b[0mval_losses\u001b[0m\u001b[0;34m,\u001b[0m \u001b[0mval_accs\u001b[0m\u001b[0;34m)\u001b[0m\u001b[0;34m\u001b[0m\u001b[0m\n\u001b[0m",
      "\u001b[0;32m<ipython-input-137-e07d41e7c2ef>\u001b[0m in \u001b[0;36mtrain\u001b[0;34m(model, num_epochs, learning_rate, train_loader, val_loader, load_from_path, save_to_path, best_val_acc, train_losses, train_accs, val_losses, val_accs)\u001b[0m\n\u001b[1;32m     41\u001b[0m             \u001b[0moptimizer\u001b[0m\u001b[0;34m.\u001b[0m\u001b[0mzero_grad\u001b[0m\u001b[0;34m(\u001b[0m\u001b[0;34m)\u001b[0m\u001b[0;34m\u001b[0m\u001b[0m\n\u001b[1;32m     42\u001b[0m \u001b[0;34m\u001b[0m\u001b[0m\n\u001b[0;32m---> 43\u001b[0;31m             \u001b[0mloss\u001b[0m\u001b[0;34m,\u001b[0m \u001b[0mtrain_loss_value\u001b[0m\u001b[0;34m,\u001b[0m \u001b[0mtrain_acc_value\u001b[0m \u001b[0;34m=\u001b[0m \u001b[0mevaluate\u001b[0m\u001b[0;34m(\u001b[0m\u001b[0mmodel\u001b[0m\u001b[0;34m,\u001b[0m \u001b[0mce_loss\u001b[0m\u001b[0;34m,\u001b[0m \u001b[0msent1\u001b[0m\u001b[0;34m,\u001b[0m \u001b[0msent2\u001b[0m\u001b[0;34m,\u001b[0m \u001b[0msent1_len\u001b[0m\u001b[0;34m,\u001b[0m \u001b[0msent2_len\u001b[0m\u001b[0;34m,\u001b[0m \u001b[0mlabels\u001b[0m\u001b[0;34m)\u001b[0m\u001b[0;34m\u001b[0m\u001b[0m\n\u001b[0m\u001b[1;32m     44\u001b[0m \u001b[0;34m\u001b[0m\u001b[0m\n\u001b[1;32m     45\u001b[0m             \u001b[0;31m# Backprop from loss\u001b[0m\u001b[0;34m\u001b[0m\u001b[0;34m\u001b[0m\u001b[0m\n",
      "\u001b[0;32m<ipython-input-137-e07d41e7c2ef>\u001b[0m in \u001b[0;36mevaluate\u001b[0;34m(model, loss_func, sent1, sent2, sent1_len, sent2_len, labels)\u001b[0m\n\u001b[1;32m      1\u001b[0m \u001b[0;32mdef\u001b[0m \u001b[0mevaluate\u001b[0m\u001b[0;34m(\u001b[0m\u001b[0mmodel\u001b[0m\u001b[0;34m,\u001b[0m \u001b[0mloss_func\u001b[0m\u001b[0;34m,\u001b[0m \u001b[0msent1\u001b[0m\u001b[0;34m,\u001b[0m \u001b[0msent2\u001b[0m\u001b[0;34m,\u001b[0m \u001b[0msent1_len\u001b[0m\u001b[0;34m,\u001b[0m \u001b[0msent2_len\u001b[0m\u001b[0;34m,\u001b[0m \u001b[0mlabels\u001b[0m\u001b[0;34m)\u001b[0m\u001b[0;34m:\u001b[0m\u001b[0;34m\u001b[0m\u001b[0m\n\u001b[0;32m----> 2\u001b[0;31m     \u001b[0mlogits\u001b[0m \u001b[0;34m=\u001b[0m \u001b[0mmodel\u001b[0m\u001b[0;34m(\u001b[0m\u001b[0msent1\u001b[0m\u001b[0;34m,\u001b[0m \u001b[0msent2\u001b[0m\u001b[0;34m,\u001b[0m \u001b[0msent1_len\u001b[0m\u001b[0;34m,\u001b[0m \u001b[0msent2_len\u001b[0m\u001b[0;34m)\u001b[0m\u001b[0;34m\u001b[0m\u001b[0m\n\u001b[0m\u001b[1;32m      3\u001b[0m     \u001b[0mloss\u001b[0m \u001b[0;34m=\u001b[0m \u001b[0mloss_func\u001b[0m\u001b[0;34m(\u001b[0m\u001b[0mlogits\u001b[0m\u001b[0;34m,\u001b[0m \u001b[0mlabels\u001b[0m\u001b[0;34m)\u001b[0m\u001b[0;34m\u001b[0m\u001b[0m\n\u001b[1;32m      4\u001b[0m     \u001b[0m_\u001b[0m\u001b[0;34m,\u001b[0m \u001b[0mpred\u001b[0m \u001b[0;34m=\u001b[0m \u001b[0mtorch\u001b[0m\u001b[0;34m.\u001b[0m\u001b[0mmax\u001b[0m\u001b[0;34m(\u001b[0m\u001b[0mlogits\u001b[0m\u001b[0;34m,\u001b[0m \u001b[0;36m1\u001b[0m\u001b[0;34m)\u001b[0m\u001b[0;34m\u001b[0m\u001b[0m\n\u001b[1;32m      5\u001b[0m     \u001b[0macc\u001b[0m \u001b[0;34m=\u001b[0m \u001b[0;34m(\u001b[0m\u001b[0mlabels\u001b[0m \u001b[0;34m==\u001b[0m \u001b[0mpred\u001b[0m\u001b[0;34m)\u001b[0m\u001b[0;34m.\u001b[0m\u001b[0msum\u001b[0m\u001b[0;34m(\u001b[0m\u001b[0;34m)\u001b[0m\u001b[0;34m\u001b[0m\u001b[0m\n",
      "\u001b[0;32m/Users/wu/anaconda/lib/python3.6/site-packages/torch/nn/modules/module.py\u001b[0m in \u001b[0;36m__call__\u001b[0;34m(self, *input, **kwargs)\u001b[0m\n\u001b[1;32m    475\u001b[0m             \u001b[0mresult\u001b[0m \u001b[0;34m=\u001b[0m \u001b[0mself\u001b[0m\u001b[0;34m.\u001b[0m\u001b[0m_slow_forward\u001b[0m\u001b[0;34m(\u001b[0m\u001b[0;34m*\u001b[0m\u001b[0minput\u001b[0m\u001b[0;34m,\u001b[0m \u001b[0;34m**\u001b[0m\u001b[0mkwargs\u001b[0m\u001b[0;34m)\u001b[0m\u001b[0;34m\u001b[0m\u001b[0m\n\u001b[1;32m    476\u001b[0m         \u001b[0;32melse\u001b[0m\u001b[0;34m:\u001b[0m\u001b[0;34m\u001b[0m\u001b[0m\n\u001b[0;32m--> 477\u001b[0;31m             \u001b[0mresult\u001b[0m \u001b[0;34m=\u001b[0m \u001b[0mself\u001b[0m\u001b[0;34m.\u001b[0m\u001b[0mforward\u001b[0m\u001b[0;34m(\u001b[0m\u001b[0;34m*\u001b[0m\u001b[0minput\u001b[0m\u001b[0;34m,\u001b[0m \u001b[0;34m**\u001b[0m\u001b[0mkwargs\u001b[0m\u001b[0;34m)\u001b[0m\u001b[0;34m\u001b[0m\u001b[0m\n\u001b[0m\u001b[1;32m    478\u001b[0m         \u001b[0;32mfor\u001b[0m \u001b[0mhook\u001b[0m \u001b[0;32min\u001b[0m \u001b[0mself\u001b[0m\u001b[0;34m.\u001b[0m\u001b[0m_forward_hooks\u001b[0m\u001b[0;34m.\u001b[0m\u001b[0mvalues\u001b[0m\u001b[0;34m(\u001b[0m\u001b[0;34m)\u001b[0m\u001b[0;34m:\u001b[0m\u001b[0;34m\u001b[0m\u001b[0m\n\u001b[1;32m    479\u001b[0m             \u001b[0mhook_result\u001b[0m \u001b[0;34m=\u001b[0m \u001b[0mhook\u001b[0m\u001b[0;34m(\u001b[0m\u001b[0mself\u001b[0m\u001b[0;34m,\u001b[0m \u001b[0minput\u001b[0m\u001b[0;34m,\u001b[0m \u001b[0mresult\u001b[0m\u001b[0;34m)\u001b[0m\u001b[0;34m\u001b[0m\u001b[0m\n",
      "\u001b[0;32m<ipython-input-136-67c4a7cb71ea>\u001b[0m in \u001b[0;36mforward\u001b[0;34m(self, sent1, sent2, sent1_len, sent2_len)\u001b[0m\n\u001b[1;32m     32\u001b[0m         \u001b[0me1\u001b[0m\u001b[0;34m,\u001b[0m \u001b[0me2\u001b[0m \u001b[0;34m=\u001b[0m \u001b[0mself\u001b[0m\u001b[0;34m.\u001b[0m\u001b[0membed\u001b[0m\u001b[0;34m(\u001b[0m\u001b[0msent1\u001b[0m\u001b[0;34m)\u001b[0m\u001b[0;34m,\u001b[0m \u001b[0mself\u001b[0m\u001b[0;34m.\u001b[0m\u001b[0membed\u001b[0m\u001b[0;34m(\u001b[0m\u001b[0msent2\u001b[0m\u001b[0;34m)\u001b[0m\u001b[0;34m\u001b[0m\u001b[0m\n\u001b[1;32m     33\u001b[0m \u001b[0;34m\u001b[0m\u001b[0m\n\u001b[0;32m---> 34\u001b[0;31m         \u001b[0mouts1\u001b[0m\u001b[0;34m,\u001b[0m \u001b[0m_\u001b[0m \u001b[0;34m=\u001b[0m \u001b[0mself\u001b[0m\u001b[0;34m.\u001b[0m\u001b[0mgru\u001b[0m\u001b[0;34m(\u001b[0m\u001b[0me1\u001b[0m\u001b[0;34m,\u001b[0m \u001b[0mself\u001b[0m\u001b[0;34m.\u001b[0m\u001b[0mh0\u001b[0m\u001b[0;34m)\u001b[0m\u001b[0;34m\u001b[0m\u001b[0m\n\u001b[0m\u001b[1;32m     35\u001b[0m         \u001b[0mouts2\u001b[0m\u001b[0;34m,\u001b[0m \u001b[0m_\u001b[0m \u001b[0;34m=\u001b[0m \u001b[0mself\u001b[0m\u001b[0;34m.\u001b[0m\u001b[0mgru\u001b[0m\u001b[0;34m(\u001b[0m\u001b[0me2\u001b[0m\u001b[0;34m,\u001b[0m \u001b[0mself\u001b[0m\u001b[0;34m.\u001b[0m\u001b[0mh0\u001b[0m\u001b[0;34m)\u001b[0m\u001b[0;34m\u001b[0m\u001b[0m\n\u001b[1;32m     36\u001b[0m \u001b[0;34m\u001b[0m\u001b[0m\n",
      "\u001b[0;32m/Users/wu/anaconda/lib/python3.6/site-packages/torch/nn/modules/module.py\u001b[0m in \u001b[0;36m__call__\u001b[0;34m(self, *input, **kwargs)\u001b[0m\n\u001b[1;32m    475\u001b[0m             \u001b[0mresult\u001b[0m \u001b[0;34m=\u001b[0m \u001b[0mself\u001b[0m\u001b[0;34m.\u001b[0m\u001b[0m_slow_forward\u001b[0m\u001b[0;34m(\u001b[0m\u001b[0;34m*\u001b[0m\u001b[0minput\u001b[0m\u001b[0;34m,\u001b[0m \u001b[0;34m**\u001b[0m\u001b[0mkwargs\u001b[0m\u001b[0;34m)\u001b[0m\u001b[0;34m\u001b[0m\u001b[0m\n\u001b[1;32m    476\u001b[0m         \u001b[0;32melse\u001b[0m\u001b[0;34m:\u001b[0m\u001b[0;34m\u001b[0m\u001b[0m\n\u001b[0;32m--> 477\u001b[0;31m             \u001b[0mresult\u001b[0m \u001b[0;34m=\u001b[0m \u001b[0mself\u001b[0m\u001b[0;34m.\u001b[0m\u001b[0mforward\u001b[0m\u001b[0;34m(\u001b[0m\u001b[0;34m*\u001b[0m\u001b[0minput\u001b[0m\u001b[0;34m,\u001b[0m \u001b[0;34m**\u001b[0m\u001b[0mkwargs\u001b[0m\u001b[0;34m)\u001b[0m\u001b[0;34m\u001b[0m\u001b[0m\n\u001b[0m\u001b[1;32m    478\u001b[0m         \u001b[0;32mfor\u001b[0m \u001b[0mhook\u001b[0m \u001b[0;32min\u001b[0m \u001b[0mself\u001b[0m\u001b[0;34m.\u001b[0m\u001b[0m_forward_hooks\u001b[0m\u001b[0;34m.\u001b[0m\u001b[0mvalues\u001b[0m\u001b[0;34m(\u001b[0m\u001b[0;34m)\u001b[0m\u001b[0;34m:\u001b[0m\u001b[0;34m\u001b[0m\u001b[0m\n\u001b[1;32m    479\u001b[0m             \u001b[0mhook_result\u001b[0m \u001b[0;34m=\u001b[0m \u001b[0mhook\u001b[0m\u001b[0;34m(\u001b[0m\u001b[0mself\u001b[0m\u001b[0;34m,\u001b[0m \u001b[0minput\u001b[0m\u001b[0;34m,\u001b[0m \u001b[0mresult\u001b[0m\u001b[0;34m)\u001b[0m\u001b[0;34m\u001b[0m\u001b[0m\n",
      "\u001b[0;32m/Users/wu/anaconda/lib/python3.6/site-packages/torch/nn/modules/rnn.py\u001b[0m in \u001b[0;36mforward\u001b[0;34m(self, input, hx)\u001b[0m\n\u001b[1;32m    176\u001b[0m             \u001b[0mflat_weight\u001b[0m \u001b[0;34m=\u001b[0m \u001b[0;32mNone\u001b[0m\u001b[0;34m\u001b[0m\u001b[0m\n\u001b[1;32m    177\u001b[0m \u001b[0;34m\u001b[0m\u001b[0m\n\u001b[0;32m--> 178\u001b[0;31m         \u001b[0mself\u001b[0m\u001b[0;34m.\u001b[0m\u001b[0mcheck_forward_args\u001b[0m\u001b[0;34m(\u001b[0m\u001b[0minput\u001b[0m\u001b[0;34m,\u001b[0m \u001b[0mhx\u001b[0m\u001b[0;34m,\u001b[0m \u001b[0mbatch_sizes\u001b[0m\u001b[0;34m)\u001b[0m\u001b[0;34m\u001b[0m\u001b[0m\n\u001b[0m\u001b[1;32m    179\u001b[0m         func = self._backend.RNN(\n\u001b[1;32m    180\u001b[0m             \u001b[0mself\u001b[0m\u001b[0;34m.\u001b[0m\u001b[0mmode\u001b[0m\u001b[0;34m,\u001b[0m\u001b[0;34m\u001b[0m\u001b[0m\n",
      "\u001b[0;32m/Users/wu/anaconda/lib/python3.6/site-packages/torch/nn/modules/rnn.py\u001b[0m in \u001b[0;36mcheck_forward_args\u001b[0;34m(self, input, hidden, batch_sizes)\u001b[0m\n\u001b[1;32m    149\u001b[0m                               'Expected hidden[1] size {}, got {}')\n\u001b[1;32m    150\u001b[0m         \u001b[0;32melse\u001b[0m\u001b[0;34m:\u001b[0m\u001b[0;34m\u001b[0m\u001b[0m\n\u001b[0;32m--> 151\u001b[0;31m             \u001b[0mcheck_hidden_size\u001b[0m\u001b[0;34m(\u001b[0m\u001b[0mhidden\u001b[0m\u001b[0;34m,\u001b[0m \u001b[0mexpected_hidden_size\u001b[0m\u001b[0;34m)\u001b[0m\u001b[0;34m\u001b[0m\u001b[0m\n\u001b[0m\u001b[1;32m    152\u001b[0m \u001b[0;34m\u001b[0m\u001b[0m\n\u001b[1;32m    153\u001b[0m     \u001b[0;32mdef\u001b[0m \u001b[0mforward\u001b[0m\u001b[0;34m(\u001b[0m\u001b[0mself\u001b[0m\u001b[0;34m,\u001b[0m \u001b[0minput\u001b[0m\u001b[0;34m,\u001b[0m \u001b[0mhx\u001b[0m\u001b[0;34m=\u001b[0m\u001b[0;32mNone\u001b[0m\u001b[0;34m)\u001b[0m\u001b[0;34m:\u001b[0m\u001b[0;34m\u001b[0m\u001b[0m\n",
      "\u001b[0;32m/Users/wu/anaconda/lib/python3.6/site-packages/torch/nn/modules/rnn.py\u001b[0m in \u001b[0;36mcheck_hidden_size\u001b[0;34m(hx, expected_hidden_size, msg)\u001b[0m\n\u001b[1;32m    141\u001b[0m         \u001b[0;32mdef\u001b[0m \u001b[0mcheck_hidden_size\u001b[0m\u001b[0;34m(\u001b[0m\u001b[0mhx\u001b[0m\u001b[0;34m,\u001b[0m \u001b[0mexpected_hidden_size\u001b[0m\u001b[0;34m,\u001b[0m \u001b[0mmsg\u001b[0m\u001b[0;34m=\u001b[0m\u001b[0;34m'Expected hidden size {}, got {}'\u001b[0m\u001b[0;34m)\u001b[0m\u001b[0;34m:\u001b[0m\u001b[0;34m\u001b[0m\u001b[0m\n\u001b[1;32m    142\u001b[0m             \u001b[0;32mif\u001b[0m \u001b[0mtuple\u001b[0m\u001b[0;34m(\u001b[0m\u001b[0mhx\u001b[0m\u001b[0;34m.\u001b[0m\u001b[0msize\u001b[0m\u001b[0;34m(\u001b[0m\u001b[0;34m)\u001b[0m\u001b[0;34m)\u001b[0m \u001b[0;34m!=\u001b[0m \u001b[0mexpected_hidden_size\u001b[0m\u001b[0;34m:\u001b[0m\u001b[0;34m\u001b[0m\u001b[0m\n\u001b[0;32m--> 143\u001b[0;31m                 \u001b[0;32mraise\u001b[0m \u001b[0mRuntimeError\u001b[0m\u001b[0;34m(\u001b[0m\u001b[0mmsg\u001b[0m\u001b[0;34m.\u001b[0m\u001b[0mformat\u001b[0m\u001b[0;34m(\u001b[0m\u001b[0mexpected_hidden_size\u001b[0m\u001b[0;34m,\u001b[0m \u001b[0mtuple\u001b[0m\u001b[0;34m(\u001b[0m\u001b[0mhx\u001b[0m\u001b[0;34m.\u001b[0m\u001b[0msize\u001b[0m\u001b[0;34m(\u001b[0m\u001b[0;34m)\u001b[0m\u001b[0;34m)\u001b[0m\u001b[0;34m)\u001b[0m\u001b[0;34m)\u001b[0m\u001b[0;34m\u001b[0m\u001b[0m\n\u001b[0m\u001b[1;32m    144\u001b[0m \u001b[0;34m\u001b[0m\u001b[0m\n\u001b[1;32m    145\u001b[0m         \u001b[0;32mif\u001b[0m \u001b[0mself\u001b[0m\u001b[0;34m.\u001b[0m\u001b[0mmode\u001b[0m \u001b[0;34m==\u001b[0m \u001b[0;34m'LSTM'\u001b[0m\u001b[0;34m:\u001b[0m\u001b[0;34m\u001b[0m\u001b[0m\n",
      "\u001b[0;31mRuntimeError\u001b[0m: Expected hidden size (1, 32, 64), got (1, 128, 64)"
     ]
    }
   ],
   "source": [
    "model = TwoSentencesRNN(embedding_matrix, 3, MAX_SENTENCE_LENGTH)\n",
    "load_from_path = None\n",
    "save_to_path = \"./rnn_concate_64.pkl\"\n",
    "train(model, 1, 1e-2, train_loader, val_loader, load_from_path, save_to_path, best_val_acc, train_losses, train_accs, val_losses, val_accs)"
   ]
  },
  {
   "cell_type": "code",
   "execution_count": 176,
   "metadata": {},
   "outputs": [
    {
     "name": "stderr",
     "output_type": "stream",
     "text": [
      "/Users/wu/anaconda/lib/python3.6/site-packages/ipykernel_launcher.py:7: UserWarning: invalid index of a 0-dim tensor. This will be an error in PyTorch 0.5. Use tensor.item() to convert a 0-dim tensor to a Python number\n",
      "  import sys\n"
     ]
    },
    {
     "name": "stdout",
     "output_type": "stream",
     "text": [
      "Epoch: [1/1], Step: [1/782], Train Loss: 1.1008150577545166, Train Acc: 0.296875, Val Loss: 1.0766810178756714, Val Acc: 0.3515625\n",
      "Epoch: [1/1], Step: [11/782], Train Loss: 1.0887055397033691, Train Acc: 0.3359375, Val Loss: 1.0874011516571045, Val Acc: 0.4453125\n",
      "Epoch: [1/1], Step: [21/782], Train Loss: 1.091387391090393, Train Acc: 0.375, Val Loss: 1.0708876848220825, Val Acc: 0.3671875\n",
      "Epoch: [1/1], Step: [31/782], Train Loss: 1.0558542013168335, Train Acc: 0.4375, Val Loss: 1.0252761840820312, Val Acc: 0.5\n",
      "Epoch: [1/1], Step: [41/782], Train Loss: 1.0380358695983887, Train Acc: 0.4921875, Val Loss: 1.0295380353927612, Val Acc: 0.4765625\n",
      "Epoch: [1/1], Step: [51/782], Train Loss: 1.045975685119629, Train Acc: 0.453125, Val Loss: 0.9827659130096436, Val Acc: 0.4765625\n",
      "Epoch: [1/1], Step: [61/782], Train Loss: 1.054985523223877, Train Acc: 0.4140625, Val Loss: 1.0061341524124146, Val Acc: 0.546875\n",
      "Epoch: [1/1], Step: [71/782], Train Loss: 1.0127732753753662, Train Acc: 0.4609375, Val Loss: 0.9382683634757996, Val Acc: 0.578125\n",
      "Epoch: [1/1], Step: [81/782], Train Loss: 1.0236676931381226, Train Acc: 0.484375, Val Loss: 0.8878707885742188, Val Acc: 0.5859375\n",
      "Epoch: [1/1], Step: [91/782], Train Loss: 1.0328712463378906, Train Acc: 0.4609375, Val Loss: 0.9276201128959656, Val Acc: 0.5625\n",
      "Epoch: [1/1], Step: [101/782], Train Loss: 0.9873036742210388, Train Acc: 0.4921875, Val Loss: 0.9194796681404114, Val Acc: 0.578125\n",
      "Epoch: [1/1], Step: [111/782], Train Loss: 0.9339407682418823, Train Acc: 0.53125, Val Loss: 0.9166648387908936, Val Acc: 0.5625\n",
      "Epoch: [1/1], Step: [121/782], Train Loss: 0.9635065793991089, Train Acc: 0.53125, Val Loss: 0.9236844778060913, Val Acc: 0.578125\n",
      "Epoch: [1/1], Step: [131/782], Train Loss: 0.8756227493286133, Train Acc: 0.609375, Val Loss: 0.9478760957717896, Val Acc: 0.5625\n",
      "Epoch: [1/1], Step: [141/782], Train Loss: 0.9297938346862793, Train Acc: 0.578125, Val Loss: 0.9489577412605286, Val Acc: 0.5078125\n",
      "Epoch: [1/1], Step: [151/782], Train Loss: 1.0168960094451904, Train Acc: 0.4921875, Val Loss: 0.9410987496376038, Val Acc: 0.59375\n",
      "Epoch: [1/1], Step: [161/782], Train Loss: 0.9064631462097168, Train Acc: 0.6171875, Val Loss: 0.9100949764251709, Val Acc: 0.6015625\n",
      "Epoch: [1/1], Step: [171/782], Train Loss: 0.8826755881309509, Train Acc: 0.5546875, Val Loss: 0.9155092835426331, Val Acc: 0.53125\n",
      "Epoch: [1/1], Step: [181/782], Train Loss: 0.9812375903129578, Train Acc: 0.5, Val Loss: 0.9212591648101807, Val Acc: 0.5546875\n",
      "Epoch: [1/1], Step: [191/782], Train Loss: 1.0243263244628906, Train Acc: 0.546875, Val Loss: 0.8580392599105835, Val Acc: 0.5546875\n",
      "Epoch: [1/1], Step: [201/782], Train Loss: 0.8871808648109436, Train Acc: 0.59375, Val Loss: 0.916753888130188, Val Acc: 0.5546875\n",
      "Epoch: [1/1], Step: [211/782], Train Loss: 0.9436394572257996, Train Acc: 0.515625, Val Loss: 0.9000949859619141, Val Acc: 0.59375\n",
      "Epoch: [1/1], Step: [221/782], Train Loss: 0.8479517102241516, Train Acc: 0.6171875, Val Loss: 0.8623133897781372, Val Acc: 0.6015625\n",
      "Epoch: [1/1], Step: [231/782], Train Loss: 0.8897878527641296, Train Acc: 0.609375, Val Loss: 0.9076566100120544, Val Acc: 0.609375\n",
      "Epoch: [1/1], Step: [241/782], Train Loss: 0.8719338774681091, Train Acc: 0.6328125, Val Loss: 0.8832483291625977, Val Acc: 0.5859375\n",
      "Epoch: [1/1], Step: [251/782], Train Loss: 0.8706557154655457, Train Acc: 0.59375, Val Loss: 0.8879042863845825, Val Acc: 0.6484375\n",
      "Epoch: [1/1], Step: [261/782], Train Loss: 0.9245818853378296, Train Acc: 0.6171875, Val Loss: 0.9039419293403625, Val Acc: 0.6171875\n",
      "Epoch: [1/1], Step: [271/782], Train Loss: 0.9896421432495117, Train Acc: 0.546875, Val Loss: 0.9218788743019104, Val Acc: 0.6171875\n",
      "Epoch: [1/1], Step: [281/782], Train Loss: 0.908832848072052, Train Acc: 0.5703125, Val Loss: 0.8957069516181946, Val Acc: 0.578125\n",
      "Epoch: [1/1], Step: [291/782], Train Loss: 1.0019776821136475, Train Acc: 0.5234375, Val Loss: 0.9054184556007385, Val Acc: 0.5546875\n",
      "Epoch: [1/1], Step: [301/782], Train Loss: 0.9574726819992065, Train Acc: 0.5078125, Val Loss: 0.9004104733467102, Val Acc: 0.609375\n",
      "Epoch: [1/1], Step: [311/782], Train Loss: 0.9416447281837463, Train Acc: 0.5625, Val Loss: 0.890692412853241, Val Acc: 0.578125\n",
      "Epoch: [1/1], Step: [321/782], Train Loss: 0.9894344806671143, Train Acc: 0.5390625, Val Loss: 0.8706503510475159, Val Acc: 0.609375\n",
      "Epoch: [1/1], Step: [331/782], Train Loss: 0.8556147813796997, Train Acc: 0.546875, Val Loss: 0.9207282662391663, Val Acc: 0.5625\n",
      "Epoch: [1/1], Step: [341/782], Train Loss: 0.95231032371521, Train Acc: 0.5390625, Val Loss: 0.9185484051704407, Val Acc: 0.59375\n",
      "Epoch: [1/1], Step: [351/782], Train Loss: 0.8470574617385864, Train Acc: 0.6015625, Val Loss: 0.91219562292099, Val Acc: 0.578125\n",
      "Epoch: [1/1], Step: [361/782], Train Loss: 0.9435319304466248, Train Acc: 0.5703125, Val Loss: 0.9607031941413879, Val Acc: 0.5234375\n",
      "Epoch: [1/1], Step: [371/782], Train Loss: 0.8609448075294495, Train Acc: 0.6328125, Val Loss: 0.9124841690063477, Val Acc: 0.5859375\n",
      "Epoch: [1/1], Step: [381/782], Train Loss: 0.915778636932373, Train Acc: 0.6015625, Val Loss: 0.9267710447311401, Val Acc: 0.5390625\n",
      "Epoch: [1/1], Step: [391/782], Train Loss: 0.9651930332183838, Train Acc: 0.578125, Val Loss: 0.88442063331604, Val Acc: 0.5703125\n",
      "Epoch: [1/1], Step: [401/782], Train Loss: 0.8238654136657715, Train Acc: 0.671875, Val Loss: 0.9698420763015747, Val Acc: 0.53125\n",
      "Epoch: [1/1], Step: [411/782], Train Loss: 0.9711877703666687, Train Acc: 0.546875, Val Loss: 0.9122313261032104, Val Acc: 0.5546875\n",
      "Epoch: [1/1], Step: [421/782], Train Loss: 0.8928259611129761, Train Acc: 0.546875, Val Loss: 0.8692023158073425, Val Acc: 0.5859375\n",
      "Epoch: [1/1], Step: [431/782], Train Loss: 0.9777038097381592, Train Acc: 0.53125, Val Loss: 0.902185320854187, Val Acc: 0.5703125\n",
      "Epoch: [1/1], Step: [441/782], Train Loss: 0.868151843547821, Train Acc: 0.6328125, Val Loss: 0.8632490634918213, Val Acc: 0.578125\n",
      "Epoch: [1/1], Step: [451/782], Train Loss: 0.8993919491767883, Train Acc: 0.546875, Val Loss: 0.959794819355011, Val Acc: 0.5234375\n",
      "Epoch: [1/1], Step: [461/782], Train Loss: 0.9352408647537231, Train Acc: 0.5859375, Val Loss: 0.9102691411972046, Val Acc: 0.5703125\n",
      "Epoch: [1/1], Step: [471/782], Train Loss: 0.9622876048088074, Train Acc: 0.515625, Val Loss: 0.902753472328186, Val Acc: 0.6171875\n",
      "Epoch: [1/1], Step: [481/782], Train Loss: 0.9665884971618652, Train Acc: 0.5546875, Val Loss: 0.8580038547515869, Val Acc: 0.59375\n",
      "Epoch: [1/1], Step: [491/782], Train Loss: 0.9521448612213135, Train Acc: 0.515625, Val Loss: 0.8876305222511292, Val Acc: 0.6328125\n",
      "Epoch: [1/1], Step: [501/782], Train Loss: 0.9736611843109131, Train Acc: 0.5703125, Val Loss: 0.8832972049713135, Val Acc: 0.609375\n",
      "Epoch: [1/1], Step: [511/782], Train Loss: 0.8943971395492554, Train Acc: 0.6171875, Val Loss: 0.8763167858123779, Val Acc: 0.5859375\n",
      "Epoch: [1/1], Step: [521/782], Train Loss: 0.9421555399894714, Train Acc: 0.6015625, Val Loss: 0.9019951820373535, Val Acc: 0.671875\n",
      "Epoch: [1/1], Step: [531/782], Train Loss: 0.875359833240509, Train Acc: 0.59375, Val Loss: 0.8468654155731201, Val Acc: 0.6171875\n",
      "Epoch: [1/1], Step: [541/782], Train Loss: 0.9118121862411499, Train Acc: 0.5546875, Val Loss: 0.8988249897956848, Val Acc: 0.578125\n",
      "Epoch: [1/1], Step: [551/782], Train Loss: 0.8907822966575623, Train Acc: 0.6171875, Val Loss: 0.9102673530578613, Val Acc: 0.609375\n",
      "Epoch: [1/1], Step: [561/782], Train Loss: 0.878387451171875, Train Acc: 0.6171875, Val Loss: 0.935084342956543, Val Acc: 0.609375\n",
      "Epoch: [1/1], Step: [571/782], Train Loss: 0.988503634929657, Train Acc: 0.5078125, Val Loss: 0.9189784526824951, Val Acc: 0.578125\n",
      "Epoch: [1/1], Step: [581/782], Train Loss: 0.8718324303627014, Train Acc: 0.59375, Val Loss: 0.9208791255950928, Val Acc: 0.578125\n",
      "Epoch: [1/1], Step: [591/782], Train Loss: 0.904488205909729, Train Acc: 0.546875, Val Loss: 0.8974984884262085, Val Acc: 0.5625\n",
      "Epoch: [1/1], Step: [601/782], Train Loss: 1.0217442512512207, Train Acc: 0.515625, Val Loss: 0.8742797374725342, Val Acc: 0.625\n",
      "Epoch: [1/1], Step: [611/782], Train Loss: 0.9006070494651794, Train Acc: 0.59375, Val Loss: 0.8850096464157104, Val Acc: 0.609375\n",
      "Epoch: [1/1], Step: [621/782], Train Loss: 0.7933350801467896, Train Acc: 0.640625, Val Loss: 0.8642506003379822, Val Acc: 0.609375\n"
     ]
    },
    {
     "name": "stdout",
     "output_type": "stream",
     "text": [
      "Epoch: [1/1], Step: [631/782], Train Loss: 0.8719843626022339, Train Acc: 0.578125, Val Loss: 0.8722155690193176, Val Acc: 0.640625\n",
      "Epoch: [1/1], Step: [641/782], Train Loss: 0.8552579879760742, Train Acc: 0.6171875, Val Loss: 0.8756563067436218, Val Acc: 0.609375\n",
      "Epoch: [1/1], Step: [651/782], Train Loss: 0.8712065815925598, Train Acc: 0.5703125, Val Loss: 0.853718638420105, Val Acc: 0.578125\n",
      "Epoch: [1/1], Step: [661/782], Train Loss: 0.9264711141586304, Train Acc: 0.5625, Val Loss: 0.7912349700927734, Val Acc: 0.625\n",
      "Epoch: [1/1], Step: [671/782], Train Loss: 0.9635459780693054, Train Acc: 0.5703125, Val Loss: 0.8394873142242432, Val Acc: 0.6484375\n",
      "Epoch: [1/1], Step: [681/782], Train Loss: 0.9012739658355713, Train Acc: 0.6328125, Val Loss: 0.7923983931541443, Val Acc: 0.625\n",
      "Epoch: [1/1], Step: [691/782], Train Loss: 0.8475043773651123, Train Acc: 0.625, Val Loss: 0.8429325819015503, Val Acc: 0.671875\n",
      "Epoch: [1/1], Step: [701/782], Train Loss: 0.863299548625946, Train Acc: 0.6015625, Val Loss: 0.8329162001609802, Val Acc: 0.6171875\n",
      "Epoch: [1/1], Step: [711/782], Train Loss: 0.892625093460083, Train Acc: 0.6015625, Val Loss: 0.867057740688324, Val Acc: 0.609375\n",
      "Epoch: [1/1], Step: [721/782], Train Loss: 0.8708707094192505, Train Acc: 0.609375, Val Loss: 0.8641424775123596, Val Acc: 0.6328125\n",
      "Epoch: [1/1], Step: [731/782], Train Loss: 0.8844209313392639, Train Acc: 0.578125, Val Loss: 0.8888881802558899, Val Acc: 0.609375\n",
      "Epoch: [1/1], Step: [741/782], Train Loss: 1.0587340593338013, Train Acc: 0.5078125, Val Loss: 0.9808389544487, Val Acc: 0.59375\n",
      "Epoch: [1/1], Step: [751/782], Train Loss: 0.8897191286087036, Train Acc: 0.578125, Val Loss: 0.9440880417823792, Val Acc: 0.6171875\n",
      "Epoch: [1/1], Step: [761/782], Train Loss: 0.9018316268920898, Train Acc: 0.578125, Val Loss: 0.897849977016449, Val Acc: 0.5703125\n",
      "Epoch: [1/1], Step: [771/782], Train Loss: 0.9170377850532532, Train Acc: 0.6171875, Val Loss: 0.9575076103210449, Val Acc: 0.625\n",
      "Epoch: [1/1], Step: [781/782], Train Loss: 0.8749480843544006, Train Acc: 0.5859375, Val Loss: 0.9392597079277039, Val Acc: 0.578125\n"
     ]
    },
    {
     "ename": "RuntimeError",
     "evalue": "Expected hidden size (1, 32, 128), got (1, 128, 128)",
     "output_type": "error",
     "traceback": [
      "\u001b[0;31m---------------------------------------------------------------------------\u001b[0m",
      "\u001b[0;31mRuntimeError\u001b[0m                              Traceback (most recent call last)",
      "\u001b[0;32m<ipython-input-176-71b6e412ed6c>\u001b[0m in \u001b[0;36m<module>\u001b[0;34m()\u001b[0m\n\u001b[1;32m      2\u001b[0m \u001b[0mload_from_path\u001b[0m \u001b[0;34m=\u001b[0m \u001b[0;32mNone\u001b[0m\u001b[0;34m\u001b[0m\u001b[0m\n\u001b[1;32m      3\u001b[0m \u001b[0msave_to_path\u001b[0m \u001b[0;34m=\u001b[0m \u001b[0;34m\"./rnn_multi_128.pkl\"\u001b[0m\u001b[0;34m\u001b[0m\u001b[0m\n\u001b[0;32m----> 4\u001b[0;31m \u001b[0mtrain\u001b[0m\u001b[0;34m(\u001b[0m\u001b[0mmodel\u001b[0m\u001b[0;34m,\u001b[0m \u001b[0;36m1\u001b[0m\u001b[0;34m,\u001b[0m \u001b[0;36m1e-2\u001b[0m\u001b[0;34m,\u001b[0m \u001b[0mtrain_loader\u001b[0m\u001b[0;34m,\u001b[0m \u001b[0mval_loader\u001b[0m\u001b[0;34m,\u001b[0m \u001b[0mload_from_path\u001b[0m\u001b[0;34m,\u001b[0m \u001b[0msave_to_path\u001b[0m\u001b[0;34m,\u001b[0m \u001b[0mbest_val_acc\u001b[0m\u001b[0;34m,\u001b[0m \u001b[0mtrain_losses\u001b[0m\u001b[0;34m,\u001b[0m \u001b[0mtrain_accs\u001b[0m\u001b[0;34m,\u001b[0m \u001b[0mval_losses\u001b[0m\u001b[0;34m,\u001b[0m \u001b[0mval_accs\u001b[0m\u001b[0;34m)\u001b[0m\u001b[0;34m\u001b[0m\u001b[0m\n\u001b[0m",
      "\u001b[0;32m<ipython-input-175-e07d41e7c2ef>\u001b[0m in \u001b[0;36mtrain\u001b[0;34m(model, num_epochs, learning_rate, train_loader, val_loader, load_from_path, save_to_path, best_val_acc, train_losses, train_accs, val_losses, val_accs)\u001b[0m\n\u001b[1;32m     41\u001b[0m             \u001b[0moptimizer\u001b[0m\u001b[0;34m.\u001b[0m\u001b[0mzero_grad\u001b[0m\u001b[0;34m(\u001b[0m\u001b[0;34m)\u001b[0m\u001b[0;34m\u001b[0m\u001b[0m\n\u001b[1;32m     42\u001b[0m \u001b[0;34m\u001b[0m\u001b[0m\n\u001b[0;32m---> 43\u001b[0;31m             \u001b[0mloss\u001b[0m\u001b[0;34m,\u001b[0m \u001b[0mtrain_loss_value\u001b[0m\u001b[0;34m,\u001b[0m \u001b[0mtrain_acc_value\u001b[0m \u001b[0;34m=\u001b[0m \u001b[0mevaluate\u001b[0m\u001b[0;34m(\u001b[0m\u001b[0mmodel\u001b[0m\u001b[0;34m,\u001b[0m \u001b[0mce_loss\u001b[0m\u001b[0;34m,\u001b[0m \u001b[0msent1\u001b[0m\u001b[0;34m,\u001b[0m \u001b[0msent2\u001b[0m\u001b[0;34m,\u001b[0m \u001b[0msent1_len\u001b[0m\u001b[0;34m,\u001b[0m \u001b[0msent2_len\u001b[0m\u001b[0;34m,\u001b[0m \u001b[0mlabels\u001b[0m\u001b[0;34m)\u001b[0m\u001b[0;34m\u001b[0m\u001b[0m\n\u001b[0m\u001b[1;32m     44\u001b[0m \u001b[0;34m\u001b[0m\u001b[0m\n\u001b[1;32m     45\u001b[0m             \u001b[0;31m# Backprop from loss\u001b[0m\u001b[0;34m\u001b[0m\u001b[0;34m\u001b[0m\u001b[0m\n",
      "\u001b[0;32m<ipython-input-175-e07d41e7c2ef>\u001b[0m in \u001b[0;36mevaluate\u001b[0;34m(model, loss_func, sent1, sent2, sent1_len, sent2_len, labels)\u001b[0m\n\u001b[1;32m      1\u001b[0m \u001b[0;32mdef\u001b[0m \u001b[0mevaluate\u001b[0m\u001b[0;34m(\u001b[0m\u001b[0mmodel\u001b[0m\u001b[0;34m,\u001b[0m \u001b[0mloss_func\u001b[0m\u001b[0;34m,\u001b[0m \u001b[0msent1\u001b[0m\u001b[0;34m,\u001b[0m \u001b[0msent2\u001b[0m\u001b[0;34m,\u001b[0m \u001b[0msent1_len\u001b[0m\u001b[0;34m,\u001b[0m \u001b[0msent2_len\u001b[0m\u001b[0;34m,\u001b[0m \u001b[0mlabels\u001b[0m\u001b[0;34m)\u001b[0m\u001b[0;34m:\u001b[0m\u001b[0;34m\u001b[0m\u001b[0m\n\u001b[0;32m----> 2\u001b[0;31m     \u001b[0mlogits\u001b[0m \u001b[0;34m=\u001b[0m \u001b[0mmodel\u001b[0m\u001b[0;34m(\u001b[0m\u001b[0msent1\u001b[0m\u001b[0;34m,\u001b[0m \u001b[0msent2\u001b[0m\u001b[0;34m,\u001b[0m \u001b[0msent1_len\u001b[0m\u001b[0;34m,\u001b[0m \u001b[0msent2_len\u001b[0m\u001b[0;34m)\u001b[0m\u001b[0;34m\u001b[0m\u001b[0m\n\u001b[0m\u001b[1;32m      3\u001b[0m     \u001b[0mloss\u001b[0m \u001b[0;34m=\u001b[0m \u001b[0mloss_func\u001b[0m\u001b[0;34m(\u001b[0m\u001b[0mlogits\u001b[0m\u001b[0;34m,\u001b[0m \u001b[0mlabels\u001b[0m\u001b[0;34m)\u001b[0m\u001b[0;34m\u001b[0m\u001b[0m\n\u001b[1;32m      4\u001b[0m     \u001b[0m_\u001b[0m\u001b[0;34m,\u001b[0m \u001b[0mpred\u001b[0m \u001b[0;34m=\u001b[0m \u001b[0mtorch\u001b[0m\u001b[0;34m.\u001b[0m\u001b[0mmax\u001b[0m\u001b[0;34m(\u001b[0m\u001b[0mlogits\u001b[0m\u001b[0;34m,\u001b[0m \u001b[0;36m1\u001b[0m\u001b[0;34m)\u001b[0m\u001b[0;34m\u001b[0m\u001b[0m\n\u001b[1;32m      5\u001b[0m     \u001b[0macc\u001b[0m \u001b[0;34m=\u001b[0m \u001b[0;34m(\u001b[0m\u001b[0mlabels\u001b[0m \u001b[0;34m==\u001b[0m \u001b[0mpred\u001b[0m\u001b[0;34m)\u001b[0m\u001b[0;34m.\u001b[0m\u001b[0msum\u001b[0m\u001b[0;34m(\u001b[0m\u001b[0;34m)\u001b[0m\u001b[0;34m\u001b[0m\u001b[0m\n",
      "\u001b[0;32m/Users/wu/anaconda/lib/python3.6/site-packages/torch/nn/modules/module.py\u001b[0m in \u001b[0;36m__call__\u001b[0;34m(self, *input, **kwargs)\u001b[0m\n\u001b[1;32m    475\u001b[0m             \u001b[0mresult\u001b[0m \u001b[0;34m=\u001b[0m \u001b[0mself\u001b[0m\u001b[0;34m.\u001b[0m\u001b[0m_slow_forward\u001b[0m\u001b[0;34m(\u001b[0m\u001b[0;34m*\u001b[0m\u001b[0minput\u001b[0m\u001b[0;34m,\u001b[0m \u001b[0;34m**\u001b[0m\u001b[0mkwargs\u001b[0m\u001b[0;34m)\u001b[0m\u001b[0;34m\u001b[0m\u001b[0m\n\u001b[1;32m    476\u001b[0m         \u001b[0;32melse\u001b[0m\u001b[0;34m:\u001b[0m\u001b[0;34m\u001b[0m\u001b[0m\n\u001b[0;32m--> 477\u001b[0;31m             \u001b[0mresult\u001b[0m \u001b[0;34m=\u001b[0m \u001b[0mself\u001b[0m\u001b[0;34m.\u001b[0m\u001b[0mforward\u001b[0m\u001b[0;34m(\u001b[0m\u001b[0;34m*\u001b[0m\u001b[0minput\u001b[0m\u001b[0;34m,\u001b[0m \u001b[0;34m**\u001b[0m\u001b[0mkwargs\u001b[0m\u001b[0;34m)\u001b[0m\u001b[0;34m\u001b[0m\u001b[0m\n\u001b[0m\u001b[1;32m    478\u001b[0m         \u001b[0;32mfor\u001b[0m \u001b[0mhook\u001b[0m \u001b[0;32min\u001b[0m \u001b[0mself\u001b[0m\u001b[0;34m.\u001b[0m\u001b[0m_forward_hooks\u001b[0m\u001b[0;34m.\u001b[0m\u001b[0mvalues\u001b[0m\u001b[0;34m(\u001b[0m\u001b[0;34m)\u001b[0m\u001b[0;34m:\u001b[0m\u001b[0;34m\u001b[0m\u001b[0m\n\u001b[1;32m    479\u001b[0m             \u001b[0mhook_result\u001b[0m \u001b[0;34m=\u001b[0m \u001b[0mhook\u001b[0m\u001b[0;34m(\u001b[0m\u001b[0mself\u001b[0m\u001b[0;34m,\u001b[0m \u001b[0minput\u001b[0m\u001b[0;34m,\u001b[0m \u001b[0mresult\u001b[0m\u001b[0;34m)\u001b[0m\u001b[0;34m\u001b[0m\u001b[0m\n",
      "\u001b[0;32m<ipython-input-174-eaa748b3bc8f>\u001b[0m in \u001b[0;36mforward\u001b[0;34m(self, sent1, sent2, sent1_len, sent2_len)\u001b[0m\n\u001b[1;32m     35\u001b[0m         \u001b[0me1\u001b[0m\u001b[0;34m,\u001b[0m \u001b[0me2\u001b[0m \u001b[0;34m=\u001b[0m \u001b[0mself\u001b[0m\u001b[0;34m.\u001b[0m\u001b[0membed\u001b[0m\u001b[0;34m(\u001b[0m\u001b[0msent1\u001b[0m\u001b[0;34m)\u001b[0m\u001b[0;34m,\u001b[0m \u001b[0mself\u001b[0m\u001b[0;34m.\u001b[0m\u001b[0membed\u001b[0m\u001b[0;34m(\u001b[0m\u001b[0msent2\u001b[0m\u001b[0;34m)\u001b[0m\u001b[0;34m\u001b[0m\u001b[0m\n\u001b[1;32m     36\u001b[0m \u001b[0;34m\u001b[0m\u001b[0m\n\u001b[0;32m---> 37\u001b[0;31m         \u001b[0mouts1\u001b[0m\u001b[0;34m,\u001b[0m \u001b[0m_\u001b[0m \u001b[0;34m=\u001b[0m \u001b[0mself\u001b[0m\u001b[0;34m.\u001b[0m\u001b[0mgru\u001b[0m\u001b[0;34m(\u001b[0m\u001b[0me1\u001b[0m\u001b[0;34m,\u001b[0m \u001b[0mself\u001b[0m\u001b[0;34m.\u001b[0m\u001b[0mh0\u001b[0m\u001b[0;34m)\u001b[0m\u001b[0;34m\u001b[0m\u001b[0m\n\u001b[0m\u001b[1;32m     38\u001b[0m         \u001b[0mouts2\u001b[0m\u001b[0;34m,\u001b[0m \u001b[0m_\u001b[0m \u001b[0;34m=\u001b[0m \u001b[0mself\u001b[0m\u001b[0;34m.\u001b[0m\u001b[0mgru\u001b[0m\u001b[0;34m(\u001b[0m\u001b[0me2\u001b[0m\u001b[0;34m,\u001b[0m \u001b[0mself\u001b[0m\u001b[0;34m.\u001b[0m\u001b[0mh0\u001b[0m\u001b[0;34m)\u001b[0m\u001b[0;34m\u001b[0m\u001b[0m\n\u001b[1;32m     39\u001b[0m \u001b[0;34m\u001b[0m\u001b[0m\n",
      "\u001b[0;32m/Users/wu/anaconda/lib/python3.6/site-packages/torch/nn/modules/module.py\u001b[0m in \u001b[0;36m__call__\u001b[0;34m(self, *input, **kwargs)\u001b[0m\n\u001b[1;32m    475\u001b[0m             \u001b[0mresult\u001b[0m \u001b[0;34m=\u001b[0m \u001b[0mself\u001b[0m\u001b[0;34m.\u001b[0m\u001b[0m_slow_forward\u001b[0m\u001b[0;34m(\u001b[0m\u001b[0;34m*\u001b[0m\u001b[0minput\u001b[0m\u001b[0;34m,\u001b[0m \u001b[0;34m**\u001b[0m\u001b[0mkwargs\u001b[0m\u001b[0;34m)\u001b[0m\u001b[0;34m\u001b[0m\u001b[0m\n\u001b[1;32m    476\u001b[0m         \u001b[0;32melse\u001b[0m\u001b[0;34m:\u001b[0m\u001b[0;34m\u001b[0m\u001b[0m\n\u001b[0;32m--> 477\u001b[0;31m             \u001b[0mresult\u001b[0m \u001b[0;34m=\u001b[0m \u001b[0mself\u001b[0m\u001b[0;34m.\u001b[0m\u001b[0mforward\u001b[0m\u001b[0;34m(\u001b[0m\u001b[0;34m*\u001b[0m\u001b[0minput\u001b[0m\u001b[0;34m,\u001b[0m \u001b[0;34m**\u001b[0m\u001b[0mkwargs\u001b[0m\u001b[0;34m)\u001b[0m\u001b[0;34m\u001b[0m\u001b[0m\n\u001b[0m\u001b[1;32m    478\u001b[0m         \u001b[0;32mfor\u001b[0m \u001b[0mhook\u001b[0m \u001b[0;32min\u001b[0m \u001b[0mself\u001b[0m\u001b[0;34m.\u001b[0m\u001b[0m_forward_hooks\u001b[0m\u001b[0;34m.\u001b[0m\u001b[0mvalues\u001b[0m\u001b[0;34m(\u001b[0m\u001b[0;34m)\u001b[0m\u001b[0;34m:\u001b[0m\u001b[0;34m\u001b[0m\u001b[0m\n\u001b[1;32m    479\u001b[0m             \u001b[0mhook_result\u001b[0m \u001b[0;34m=\u001b[0m \u001b[0mhook\u001b[0m\u001b[0;34m(\u001b[0m\u001b[0mself\u001b[0m\u001b[0;34m,\u001b[0m \u001b[0minput\u001b[0m\u001b[0;34m,\u001b[0m \u001b[0mresult\u001b[0m\u001b[0;34m)\u001b[0m\u001b[0;34m\u001b[0m\u001b[0m\n",
      "\u001b[0;32m/Users/wu/anaconda/lib/python3.6/site-packages/torch/nn/modules/rnn.py\u001b[0m in \u001b[0;36mforward\u001b[0;34m(self, input, hx)\u001b[0m\n\u001b[1;32m    176\u001b[0m             \u001b[0mflat_weight\u001b[0m \u001b[0;34m=\u001b[0m \u001b[0;32mNone\u001b[0m\u001b[0;34m\u001b[0m\u001b[0m\n\u001b[1;32m    177\u001b[0m \u001b[0;34m\u001b[0m\u001b[0m\n\u001b[0;32m--> 178\u001b[0;31m         \u001b[0mself\u001b[0m\u001b[0;34m.\u001b[0m\u001b[0mcheck_forward_args\u001b[0m\u001b[0;34m(\u001b[0m\u001b[0minput\u001b[0m\u001b[0;34m,\u001b[0m \u001b[0mhx\u001b[0m\u001b[0;34m,\u001b[0m \u001b[0mbatch_sizes\u001b[0m\u001b[0;34m)\u001b[0m\u001b[0;34m\u001b[0m\u001b[0m\n\u001b[0m\u001b[1;32m    179\u001b[0m         func = self._backend.RNN(\n\u001b[1;32m    180\u001b[0m             \u001b[0mself\u001b[0m\u001b[0;34m.\u001b[0m\u001b[0mmode\u001b[0m\u001b[0;34m,\u001b[0m\u001b[0;34m\u001b[0m\u001b[0m\n",
      "\u001b[0;32m/Users/wu/anaconda/lib/python3.6/site-packages/torch/nn/modules/rnn.py\u001b[0m in \u001b[0;36mcheck_forward_args\u001b[0;34m(self, input, hidden, batch_sizes)\u001b[0m\n\u001b[1;32m    149\u001b[0m                               'Expected hidden[1] size {}, got {}')\n\u001b[1;32m    150\u001b[0m         \u001b[0;32melse\u001b[0m\u001b[0;34m:\u001b[0m\u001b[0;34m\u001b[0m\u001b[0m\n\u001b[0;32m--> 151\u001b[0;31m             \u001b[0mcheck_hidden_size\u001b[0m\u001b[0;34m(\u001b[0m\u001b[0mhidden\u001b[0m\u001b[0;34m,\u001b[0m \u001b[0mexpected_hidden_size\u001b[0m\u001b[0;34m)\u001b[0m\u001b[0;34m\u001b[0m\u001b[0m\n\u001b[0m\u001b[1;32m    152\u001b[0m \u001b[0;34m\u001b[0m\u001b[0m\n\u001b[1;32m    153\u001b[0m     \u001b[0;32mdef\u001b[0m \u001b[0mforward\u001b[0m\u001b[0;34m(\u001b[0m\u001b[0mself\u001b[0m\u001b[0;34m,\u001b[0m \u001b[0minput\u001b[0m\u001b[0;34m,\u001b[0m \u001b[0mhx\u001b[0m\u001b[0;34m=\u001b[0m\u001b[0;32mNone\u001b[0m\u001b[0;34m)\u001b[0m\u001b[0;34m:\u001b[0m\u001b[0;34m\u001b[0m\u001b[0m\n",
      "\u001b[0;32m/Users/wu/anaconda/lib/python3.6/site-packages/torch/nn/modules/rnn.py\u001b[0m in \u001b[0;36mcheck_hidden_size\u001b[0;34m(hx, expected_hidden_size, msg)\u001b[0m\n\u001b[1;32m    141\u001b[0m         \u001b[0;32mdef\u001b[0m \u001b[0mcheck_hidden_size\u001b[0m\u001b[0;34m(\u001b[0m\u001b[0mhx\u001b[0m\u001b[0;34m,\u001b[0m \u001b[0mexpected_hidden_size\u001b[0m\u001b[0;34m,\u001b[0m \u001b[0mmsg\u001b[0m\u001b[0;34m=\u001b[0m\u001b[0;34m'Expected hidden size {}, got {}'\u001b[0m\u001b[0;34m)\u001b[0m\u001b[0;34m:\u001b[0m\u001b[0;34m\u001b[0m\u001b[0m\n\u001b[1;32m    142\u001b[0m             \u001b[0;32mif\u001b[0m \u001b[0mtuple\u001b[0m\u001b[0;34m(\u001b[0m\u001b[0mhx\u001b[0m\u001b[0;34m.\u001b[0m\u001b[0msize\u001b[0m\u001b[0;34m(\u001b[0m\u001b[0;34m)\u001b[0m\u001b[0;34m)\u001b[0m \u001b[0;34m!=\u001b[0m \u001b[0mexpected_hidden_size\u001b[0m\u001b[0;34m:\u001b[0m\u001b[0;34m\u001b[0m\u001b[0m\n\u001b[0;32m--> 143\u001b[0;31m                 \u001b[0;32mraise\u001b[0m \u001b[0mRuntimeError\u001b[0m\u001b[0;34m(\u001b[0m\u001b[0mmsg\u001b[0m\u001b[0;34m.\u001b[0m\u001b[0mformat\u001b[0m\u001b[0;34m(\u001b[0m\u001b[0mexpected_hidden_size\u001b[0m\u001b[0;34m,\u001b[0m \u001b[0mtuple\u001b[0m\u001b[0;34m(\u001b[0m\u001b[0mhx\u001b[0m\u001b[0;34m.\u001b[0m\u001b[0msize\u001b[0m\u001b[0;34m(\u001b[0m\u001b[0;34m)\u001b[0m\u001b[0;34m)\u001b[0m\u001b[0;34m)\u001b[0m\u001b[0;34m)\u001b[0m\u001b[0;34m\u001b[0m\u001b[0m\n\u001b[0m\u001b[1;32m    144\u001b[0m \u001b[0;34m\u001b[0m\u001b[0m\n\u001b[1;32m    145\u001b[0m         \u001b[0;32mif\u001b[0m \u001b[0mself\u001b[0m\u001b[0;34m.\u001b[0m\u001b[0mmode\u001b[0m \u001b[0;34m==\u001b[0m \u001b[0;34m'LSTM'\u001b[0m\u001b[0;34m:\u001b[0m\u001b[0;34m\u001b[0m\u001b[0m\n",
      "\u001b[0;31mRuntimeError\u001b[0m: Expected hidden size (1, 32, 128), got (1, 128, 128)"
     ]
    }
   ],
   "source": [
    "model = TwoSentencesRNN(embedding_matrix, 3, MAX_SENTENCE_LENGTH)\n",
    "load_from_path = None\n",
    "save_to_path = \"./rnn_multi_128.pkl\"\n",
    "train(model, 1, 1e-2, train_loader, val_loader, load_from_path, save_to_path, best_val_acc, train_losses, train_accs, val_losses, val_accs)"
   ]
  },
  {
   "cell_type": "code",
   "execution_count": 190,
   "metadata": {},
   "outputs": [
    {
     "name": "stdout",
     "output_type": "stream",
     "text": [
      "torch.Size([128, 82, 128]) torch.Size([128, 82, 128])\n",
      "torch.Size([128, 128]) torch.Size([128, 128])\n"
     ]
    },
    {
     "name": "stderr",
     "output_type": "stream",
     "text": [
      "/Users/wu/anaconda/lib/python3.6/site-packages/ipykernel_launcher.py:7: UserWarning: invalid index of a 0-dim tensor. This will be an error in PyTorch 0.5. Use tensor.item() to convert a 0-dim tensor to a Python number\n",
      "  import sys\n"
     ]
    },
    {
     "name": "stdout",
     "output_type": "stream",
     "text": [
      "torch.Size([128, 82, 128]) torch.Size([128, 82, 128])\n",
      "torch.Size([128, 128]) torch.Size([128, 128])\n",
      "Epoch: [1/1], Step: [1/782], Train Loss: 1.0981090068817139, Train Acc: 0.296875, Val Loss: 1.0722079277038574, Val Acc: 0.53125\n",
      "torch.Size([128, 82, 128]) torch.Size([128, 82, 128])\n",
      "torch.Size([128, 128]) torch.Size([128, 128])\n",
      "torch.Size([128, 82, 128]) torch.Size([128, 82, 128])\n",
      "torch.Size([128, 128]) torch.Size([128, 128])\n",
      "torch.Size([128, 82, 128]) torch.Size([128, 82, 128])\n",
      "torch.Size([128, 128]) torch.Size([128, 128])\n",
      "torch.Size([128, 82, 128]) torch.Size([128, 82, 128])\n",
      "torch.Size([128, 128]) torch.Size([128, 128])\n",
      "torch.Size([128, 82, 128]) torch.Size([128, 82, 128])\n",
      "torch.Size([128, 128]) torch.Size([128, 128])\n",
      "torch.Size([128, 82, 128]) torch.Size([128, 82, 128])\n",
      "torch.Size([128, 128]) torch.Size([128, 128])\n",
      "torch.Size([128, 82, 128]) torch.Size([128, 82, 128])\n",
      "torch.Size([128, 128]) torch.Size([128, 128])\n",
      "torch.Size([128, 82, 128]) torch.Size([128, 82, 128])\n",
      "torch.Size([128, 128]) torch.Size([128, 128])\n",
      "torch.Size([128, 82, 128]) torch.Size([128, 82, 128])\n",
      "torch.Size([128, 128]) torch.Size([128, 128])\n",
      "torch.Size([128, 82, 128]) torch.Size([128, 82, 128])\n",
      "torch.Size([128, 128]) torch.Size([128, 128])\n",
      "torch.Size([128, 82, 128]) torch.Size([128, 82, 128])\n",
      "torch.Size([128, 128]) torch.Size([128, 128])\n",
      "torch.Size([128, 82, 128]) torch.Size([128, 82, 128])\n",
      "torch.Size([128, 128]) torch.Size([128, 128])\n",
      "torch.Size([128, 82, 128]) torch.Size([128, 82, 128])\n",
      "torch.Size([128, 128]) torch.Size([128, 128])\n",
      "torch.Size([128, 82, 128]) torch.Size([128, 82, 128])\n",
      "torch.Size([128, 128]) torch.Size([128, 128])\n",
      "torch.Size([128, 82, 128]) torch.Size([128, 82, 128])\n",
      "torch.Size([128, 128]) torch.Size([128, 128])\n",
      "torch.Size([128, 82, 128]) torch.Size([128, 82, 128])\n",
      "torch.Size([128, 128]) torch.Size([128, 128])\n",
      "torch.Size([128, 82, 128]) torch.Size([128, 82, 128])\n",
      "torch.Size([128, 128]) torch.Size([128, 128])\n",
      "torch.Size([128, 82, 128]) torch.Size([128, 82, 128])\n",
      "torch.Size([128, 128]) torch.Size([128, 128])\n",
      "torch.Size([128, 82, 128]) torch.Size([128, 82, 128])\n",
      "torch.Size([128, 128]) torch.Size([128, 128])\n",
      "torch.Size([128, 82, 128]) torch.Size([128, 82, 128])\n",
      "torch.Size([128, 128]) torch.Size([128, 128])\n",
      "Epoch: [1/1], Step: [11/782], Train Loss: 1.0852231979370117, Train Acc: 0.40625, Val Loss: 1.076276183128357, Val Acc: 0.3984375\n",
      "torch.Size([128, 82, 128]) torch.Size([128, 82, 128])\n",
      "torch.Size([128, 128]) torch.Size([128, 128])\n",
      "torch.Size([128, 82, 128]) torch.Size([128, 82, 128])\n",
      "torch.Size([128, 128]) torch.Size([128, 128])\n",
      "torch.Size([128, 82, 128]) torch.Size([128, 82, 128])\n",
      "torch.Size([128, 128]) torch.Size([128, 128])\n",
      "torch.Size([128, 82, 128]) torch.Size([128, 82, 128])\n",
      "torch.Size([128, 128]) torch.Size([128, 128])\n",
      "torch.Size([128, 82, 128]) torch.Size([128, 82, 128])\n",
      "torch.Size([128, 128]) torch.Size([128, 128])\n",
      "torch.Size([128, 82, 128]) torch.Size([128, 82, 128])\n",
      "torch.Size([128, 128]) torch.Size([128, 128])\n",
      "torch.Size([128, 82, 128]) torch.Size([128, 82, 128])\n",
      "torch.Size([128, 128]) torch.Size([128, 128])\n",
      "torch.Size([128, 82, 128]) torch.Size([128, 82, 128])\n",
      "torch.Size([128, 128]) torch.Size([128, 128])\n",
      "torch.Size([128, 82, 128]) torch.Size([128, 82, 128])\n",
      "torch.Size([128, 128]) torch.Size([128, 128])\n",
      "torch.Size([128, 82, 128]) torch.Size([128, 82, 128])\n",
      "torch.Size([128, 128]) torch.Size([128, 128])\n",
      "torch.Size([128, 82, 128]) torch.Size([128, 82, 128])\n",
      "torch.Size([128, 128]) torch.Size([128, 128])\n",
      "torch.Size([128, 82, 128]) torch.Size([128, 82, 128])\n",
      "torch.Size([128, 128]) torch.Size([128, 128])\n",
      "torch.Size([128, 82, 128]) torch.Size([128, 82, 128])\n",
      "torch.Size([128, 128]) torch.Size([128, 128])\n",
      "torch.Size([128, 82, 128]) torch.Size([128, 82, 128])\n",
      "torch.Size([128, 128]) torch.Size([128, 128])\n",
      "torch.Size([128, 82, 128]) torch.Size([128, 82, 128])\n",
      "torch.Size([128, 128]) torch.Size([128, 128])\n",
      "torch.Size([128, 82, 128]) torch.Size([128, 82, 128])\n",
      "torch.Size([128, 128]) torch.Size([128, 128])\n",
      "torch.Size([128, 82, 128]) torch.Size([128, 82, 128])\n",
      "torch.Size([128, 128]) torch.Size([128, 128])\n",
      "torch.Size([128, 82, 128]) torch.Size([128, 82, 128])\n",
      "torch.Size([128, 128]) torch.Size([128, 128])\n",
      "torch.Size([128, 82, 128]) torch.Size([128, 82, 128])\n",
      "torch.Size([128, 128]) torch.Size([128, 128])\n",
      "torch.Size([128, 82, 128]) torch.Size([128, 82, 128])\n",
      "torch.Size([128, 128]) torch.Size([128, 128])\n",
      "Epoch: [1/1], Step: [21/782], Train Loss: 1.0774955749511719, Train Acc: 0.3828125, Val Loss: 1.0290071964263916, Val Acc: 0.46875\n",
      "torch.Size([128, 82, 128]) torch.Size([128, 82, 128])\n",
      "torch.Size([128, 128]) torch.Size([128, 128])\n",
      "torch.Size([128, 82, 128]) torch.Size([128, 82, 128])\n",
      "torch.Size([128, 128]) torch.Size([128, 128])\n",
      "torch.Size([128, 82, 128]) torch.Size([128, 82, 128])\n",
      "torch.Size([128, 128]) torch.Size([128, 128])\n",
      "torch.Size([128, 82, 128]) torch.Size([128, 82, 128])\n",
      "torch.Size([128, 128]) torch.Size([128, 128])\n",
      "torch.Size([128, 82, 128]) torch.Size([128, 82, 128])\n",
      "torch.Size([128, 128]) torch.Size([128, 128])\n",
      "torch.Size([128, 82, 128]) torch.Size([128, 82, 128])\n",
      "torch.Size([128, 128]) torch.Size([128, 128])\n",
      "torch.Size([128, 82, 128]) torch.Size([128, 82, 128])\n",
      "torch.Size([128, 128]) torch.Size([128, 128])\n",
      "torch.Size([128, 82, 128]) torch.Size([128, 82, 128])\n",
      "torch.Size([128, 128]) torch.Size([128, 128])\n",
      "torch.Size([128, 82, 128]) torch.Size([128, 82, 128])\n",
      "torch.Size([128, 128]) torch.Size([128, 128])\n",
      "torch.Size([128, 82, 128]) torch.Size([128, 82, 128])\n",
      "torch.Size([128, 128]) torch.Size([128, 128])\n",
      "torch.Size([128, 82, 128]) torch.Size([128, 82, 128])\n",
      "torch.Size([128, 128]) torch.Size([128, 128])\n",
      "torch.Size([128, 82, 128]) torch.Size([128, 82, 128])\n",
      "torch.Size([128, 128]) torch.Size([128, 128])\n",
      "torch.Size([128, 82, 128]) torch.Size([128, 82, 128])\n",
      "torch.Size([128, 128]) torch.Size([128, 128])\n",
      "torch.Size([128, 82, 128]) torch.Size([128, 82, 128])\n",
      "torch.Size([128, 128]) torch.Size([128, 128])\n",
      "torch.Size([128, 82, 128]) torch.Size([128, 82, 128])\n",
      "torch.Size([128, 128]) torch.Size([128, 128])\n",
      "torch.Size([128, 82, 128]) torch.Size([128, 82, 128])\n",
      "torch.Size([128, 128]) torch.Size([128, 128])\n",
      "torch.Size([128, 82, 128]) torch.Size([128, 82, 128])\n",
      "torch.Size([128, 128]) torch.Size([128, 128])\n",
      "torch.Size([128, 82, 128]) torch.Size([128, 82, 128])\n",
      "torch.Size([128, 128]) torch.Size([128, 128])\n",
      "torch.Size([128, 82, 128]) torch.Size([128, 82, 128])\n",
      "torch.Size([128, 128]) torch.Size([128, 128])\n",
      "torch.Size([128, 82, 128]) torch.Size([128, 82, 128])\n",
      "torch.Size([128, 128]) torch.Size([128, 128])\n",
      "Epoch: [1/1], Step: [31/782], Train Loss: 1.0797520875930786, Train Acc: 0.359375, Val Loss: 1.0336852073669434, Val Acc: 0.53125\n",
      "torch.Size([128, 82, 128]) torch.Size([128, 82, 128])\n",
      "torch.Size([128, 128]) torch.Size([128, 128])\n",
      "torch.Size([128, 82, 128]) torch.Size([128, 82, 128])\n",
      "torch.Size([128, 128]) torch.Size([128, 128])\n",
      "torch.Size([128, 82, 128]) torch.Size([128, 82, 128])\n",
      "torch.Size([128, 128]) torch.Size([128, 128])\n",
      "torch.Size([128, 82, 128]) torch.Size([128, 82, 128])\n",
      "torch.Size([128, 128]) torch.Size([128, 128])\n",
      "torch.Size([128, 82, 128]) torch.Size([128, 82, 128])\n",
      "torch.Size([128, 128]) torch.Size([128, 128])\n",
      "torch.Size([128, 82, 128]) torch.Size([128, 82, 128])\n",
      "torch.Size([128, 128]) torch.Size([128, 128])\n",
      "torch.Size([128, 82, 128]) torch.Size([128, 82, 128])\n",
      "torch.Size([128, 128]) torch.Size([128, 128])\n",
      "torch.Size([128, 82, 128]) torch.Size([128, 82, 128])\n",
      "torch.Size([128, 128]) torch.Size([128, 128])\n",
      "torch.Size([128, 82, 128]) torch.Size([128, 82, 128])\n",
      "torch.Size([128, 128]) torch.Size([128, 128])\n",
      "torch.Size([128, 82, 128]) torch.Size([128, 82, 128])\n",
      "torch.Size([128, 128]) torch.Size([128, 128])\n",
      "torch.Size([128, 82, 128]) torch.Size([128, 82, 128])\n",
      "torch.Size([128, 128]) torch.Size([128, 128])\n",
      "torch.Size([128, 82, 128]) torch.Size([128, 82, 128])\n",
      "torch.Size([128, 128]) torch.Size([128, 128])\n",
      "torch.Size([128, 82, 128]) torch.Size([128, 82, 128])\n",
      "torch.Size([128, 128]) torch.Size([128, 128])\n",
      "torch.Size([128, 82, 128]) torch.Size([128, 82, 128])\n",
      "torch.Size([128, 128]) torch.Size([128, 128])\n",
      "torch.Size([128, 82, 128]) torch.Size([128, 82, 128])\n",
      "torch.Size([128, 128]) torch.Size([128, 128])\n",
      "torch.Size([128, 82, 128]) torch.Size([128, 82, 128])\n",
      "torch.Size([128, 128]) torch.Size([128, 128])\n"
     ]
    },
    {
     "name": "stdout",
     "output_type": "stream",
     "text": [
      "torch.Size([128, 82, 128]) torch.Size([128, 82, 128])\n",
      "torch.Size([128, 128]) torch.Size([128, 128])\n",
      "torch.Size([128, 82, 128]) torch.Size([128, 82, 128])\n",
      "torch.Size([128, 128]) torch.Size([128, 128])\n",
      "torch.Size([128, 82, 128]) torch.Size([128, 82, 128])\n",
      "torch.Size([128, 128]) torch.Size([128, 128])\n",
      "torch.Size([128, 82, 128]) torch.Size([128, 82, 128])\n",
      "torch.Size([128, 128]) torch.Size([128, 128])\n",
      "Epoch: [1/1], Step: [41/782], Train Loss: 1.0868630409240723, Train Acc: 0.4453125, Val Loss: 1.0047675371170044, Val Acc: 0.515625\n",
      "torch.Size([128, 82, 128]) torch.Size([128, 82, 128])\n",
      "torch.Size([128, 128]) torch.Size([128, 128])\n",
      "torch.Size([128, 82, 128]) torch.Size([128, 82, 128])\n",
      "torch.Size([128, 128]) torch.Size([128, 128])\n",
      "torch.Size([128, 82, 128]) torch.Size([128, 82, 128])\n",
      "torch.Size([128, 128]) torch.Size([128, 128])\n",
      "torch.Size([128, 82, 128]) torch.Size([128, 82, 128])\n",
      "torch.Size([128, 128]) torch.Size([128, 128])\n",
      "torch.Size([128, 82, 128]) torch.Size([128, 82, 128])\n",
      "torch.Size([128, 128]) torch.Size([128, 128])\n",
      "torch.Size([128, 82, 128]) torch.Size([128, 82, 128])\n",
      "torch.Size([128, 128]) torch.Size([128, 128])\n",
      "torch.Size([128, 82, 128]) torch.Size([128, 82, 128])\n",
      "torch.Size([128, 128]) torch.Size([128, 128])\n",
      "torch.Size([128, 82, 128]) torch.Size([128, 82, 128])\n",
      "torch.Size([128, 128]) torch.Size([128, 128])\n",
      "torch.Size([128, 82, 128]) torch.Size([128, 82, 128])\n",
      "torch.Size([128, 128]) torch.Size([128, 128])\n",
      "torch.Size([128, 82, 128]) torch.Size([128, 82, 128])\n",
      "torch.Size([128, 128]) torch.Size([128, 128])\n",
      "torch.Size([128, 82, 128]) torch.Size([128, 82, 128])\n",
      "torch.Size([128, 128]) torch.Size([128, 128])\n",
      "torch.Size([128, 82, 128]) torch.Size([128, 82, 128])\n",
      "torch.Size([128, 128]) torch.Size([128, 128])\n",
      "torch.Size([128, 82, 128]) torch.Size([128, 82, 128])\n",
      "torch.Size([128, 128]) torch.Size([128, 128])\n",
      "torch.Size([128, 82, 128]) torch.Size([128, 82, 128])\n",
      "torch.Size([128, 128]) torch.Size([128, 128])\n",
      "torch.Size([128, 82, 128]) torch.Size([128, 82, 128])\n",
      "torch.Size([128, 128]) torch.Size([128, 128])\n",
      "torch.Size([128, 82, 128]) torch.Size([128, 82, 128])\n",
      "torch.Size([128, 128]) torch.Size([128, 128])\n",
      "torch.Size([128, 82, 128]) torch.Size([128, 82, 128])\n",
      "torch.Size([128, 128]) torch.Size([128, 128])\n",
      "torch.Size([128, 82, 128]) torch.Size([128, 82, 128])\n",
      "torch.Size([128, 128]) torch.Size([128, 128])\n",
      "torch.Size([128, 82, 128]) torch.Size([128, 82, 128])\n",
      "torch.Size([128, 128]) torch.Size([128, 128])\n",
      "torch.Size([128, 82, 128]) torch.Size([128, 82, 128])\n",
      "torch.Size([128, 128]) torch.Size([128, 128])\n",
      "Epoch: [1/1], Step: [51/782], Train Loss: 1.0494954586029053, Train Acc: 0.4609375, Val Loss: 0.9893775582313538, Val Acc: 0.546875\n",
      "torch.Size([128, 82, 128]) torch.Size([128, 82, 128])\n",
      "torch.Size([128, 128]) torch.Size([128, 128])\n",
      "torch.Size([128, 82, 128]) torch.Size([128, 82, 128])\n",
      "torch.Size([128, 128]) torch.Size([128, 128])\n",
      "torch.Size([128, 82, 128]) torch.Size([128, 82, 128])\n",
      "torch.Size([128, 128]) torch.Size([128, 128])\n",
      "torch.Size([128, 82, 128]) torch.Size([128, 82, 128])\n",
      "torch.Size([128, 128]) torch.Size([128, 128])\n",
      "torch.Size([128, 82, 128]) torch.Size([128, 82, 128])\n",
      "torch.Size([128, 128]) torch.Size([128, 128])\n",
      "torch.Size([128, 82, 128]) torch.Size([128, 82, 128])\n",
      "torch.Size([128, 128]) torch.Size([128, 128])\n",
      "torch.Size([128, 82, 128]) torch.Size([128, 82, 128])\n",
      "torch.Size([128, 128]) torch.Size([128, 128])\n",
      "torch.Size([128, 82, 128]) torch.Size([128, 82, 128])\n",
      "torch.Size([128, 128]) torch.Size([128, 128])\n",
      "torch.Size([128, 82, 128]) torch.Size([128, 82, 128])\n",
      "torch.Size([128, 128]) torch.Size([128, 128])\n",
      "torch.Size([128, 82, 128]) torch.Size([128, 82, 128])\n",
      "torch.Size([128, 128]) torch.Size([128, 128])\n",
      "torch.Size([128, 82, 128]) torch.Size([128, 82, 128])\n",
      "torch.Size([128, 128]) torch.Size([128, 128])\n",
      "torch.Size([128, 82, 128]) torch.Size([128, 82, 128])\n",
      "torch.Size([128, 128]) torch.Size([128, 128])\n",
      "torch.Size([128, 82, 128]) torch.Size([128, 82, 128])\n",
      "torch.Size([128, 128]) torch.Size([128, 128])\n",
      "torch.Size([128, 82, 128]) torch.Size([128, 82, 128])\n",
      "torch.Size([128, 128]) torch.Size([128, 128])\n",
      "torch.Size([128, 82, 128]) torch.Size([128, 82, 128])\n",
      "torch.Size([128, 128]) torch.Size([128, 128])\n",
      "torch.Size([128, 82, 128]) torch.Size([128, 82, 128])\n",
      "torch.Size([128, 128]) torch.Size([128, 128])\n",
      "torch.Size([128, 82, 128]) torch.Size([128, 82, 128])\n",
      "torch.Size([128, 128]) torch.Size([128, 128])\n",
      "torch.Size([128, 82, 128]) torch.Size([128, 82, 128])\n",
      "torch.Size([128, 128]) torch.Size([128, 128])\n",
      "torch.Size([128, 82, 128]) torch.Size([128, 82, 128])\n",
      "torch.Size([128, 128]) torch.Size([128, 128])\n",
      "torch.Size([128, 82, 128]) torch.Size([128, 82, 128])\n",
      "torch.Size([128, 128]) torch.Size([128, 128])\n",
      "Epoch: [1/1], Step: [61/782], Train Loss: 1.0284128189086914, Train Acc: 0.4296875, Val Loss: 0.9860896468162537, Val Acc: 0.515625\n",
      "torch.Size([128, 82, 128]) torch.Size([128, 82, 128])\n",
      "torch.Size([128, 128]) torch.Size([128, 128])\n",
      "torch.Size([128, 82, 128]) torch.Size([128, 82, 128])\n",
      "torch.Size([128, 128]) torch.Size([128, 128])\n",
      "torch.Size([128, 82, 128]) torch.Size([128, 82, 128])\n",
      "torch.Size([128, 128]) torch.Size([128, 128])\n",
      "torch.Size([128, 82, 128]) torch.Size([128, 82, 128])\n",
      "torch.Size([128, 128]) torch.Size([128, 128])\n",
      "torch.Size([128, 82, 128]) torch.Size([128, 82, 128])\n",
      "torch.Size([128, 128]) torch.Size([128, 128])\n",
      "torch.Size([128, 82, 128]) torch.Size([128, 82, 128])\n",
      "torch.Size([128, 128]) torch.Size([128, 128])\n",
      "torch.Size([128, 82, 128]) torch.Size([128, 82, 128])\n",
      "torch.Size([128, 128]) torch.Size([128, 128])\n",
      "torch.Size([128, 82, 128]) torch.Size([128, 82, 128])\n",
      "torch.Size([128, 128]) torch.Size([128, 128])\n",
      "torch.Size([128, 82, 128]) torch.Size([128, 82, 128])\n",
      "torch.Size([128, 128]) torch.Size([128, 128])\n",
      "torch.Size([128, 82, 128]) torch.Size([128, 82, 128])\n",
      "torch.Size([128, 128]) torch.Size([128, 128])\n",
      "torch.Size([128, 82, 128]) torch.Size([128, 82, 128])\n",
      "torch.Size([128, 128]) torch.Size([128, 128])\n",
      "torch.Size([128, 82, 128]) torch.Size([128, 82, 128])\n",
      "torch.Size([128, 128]) torch.Size([128, 128])\n",
      "torch.Size([128, 82, 128]) torch.Size([128, 82, 128])\n",
      "torch.Size([128, 128]) torch.Size([128, 128])\n",
      "torch.Size([128, 82, 128]) torch.Size([128, 82, 128])\n",
      "torch.Size([128, 128]) torch.Size([128, 128])\n",
      "torch.Size([128, 82, 128]) torch.Size([128, 82, 128])\n",
      "torch.Size([128, 128]) torch.Size([128, 128])\n",
      "torch.Size([128, 82, 128]) torch.Size([128, 82, 128])\n",
      "torch.Size([128, 128]) torch.Size([128, 128])\n",
      "torch.Size([128, 82, 128]) torch.Size([128, 82, 128])\n",
      "torch.Size([128, 128]) torch.Size([128, 128])\n",
      "torch.Size([128, 82, 128]) torch.Size([128, 82, 128])\n",
      "torch.Size([128, 128]) torch.Size([128, 128])\n",
      "torch.Size([128, 82, 128]) torch.Size([128, 82, 128])\n",
      "torch.Size([128, 128]) torch.Size([128, 128])\n",
      "torch.Size([128, 82, 128]) torch.Size([128, 82, 128])\n",
      "torch.Size([128, 128]) torch.Size([128, 128])\n",
      "Epoch: [1/1], Step: [71/782], Train Loss: 1.034124732017517, Train Acc: 0.46875, Val Loss: 0.9685257077217102, Val Acc: 0.53125\n",
      "torch.Size([128, 82, 128]) torch.Size([128, 82, 128])\n",
      "torch.Size([128, 128]) torch.Size([128, 128])\n",
      "torch.Size([128, 82, 128]) torch.Size([128, 82, 128])\n",
      "torch.Size([128, 128]) torch.Size([128, 128])\n",
      "torch.Size([128, 82, 128]) torch.Size([128, 82, 128])\n",
      "torch.Size([128, 128]) torch.Size([128, 128])\n",
      "torch.Size([128, 82, 128]) torch.Size([128, 82, 128])\n",
      "torch.Size([128, 128]) torch.Size([128, 128])\n",
      "torch.Size([128, 82, 128]) torch.Size([128, 82, 128])\n",
      "torch.Size([128, 128]) torch.Size([128, 128])\n",
      "torch.Size([128, 82, 128]) torch.Size([128, 82, 128])\n",
      "torch.Size([128, 128]) torch.Size([128, 128])\n",
      "torch.Size([128, 82, 128]) torch.Size([128, 82, 128])\n",
      "torch.Size([128, 128]) torch.Size([128, 128])\n",
      "torch.Size([128, 82, 128]) torch.Size([128, 82, 128])\n",
      "torch.Size([128, 128]) torch.Size([128, 128])\n",
      "torch.Size([128, 82, 128]) torch.Size([128, 82, 128])\n",
      "torch.Size([128, 128]) torch.Size([128, 128])\n",
      "torch.Size([128, 82, 128]) torch.Size([128, 82, 128])\n",
      "torch.Size([128, 128]) torch.Size([128, 128])\n",
      "torch.Size([128, 82, 128]) torch.Size([128, 82, 128])\n",
      "torch.Size([128, 128]) torch.Size([128, 128])\n",
      "torch.Size([128, 82, 128]) torch.Size([128, 82, 128])\n",
      "torch.Size([128, 128]) torch.Size([128, 128])\n",
      "torch.Size([128, 82, 128]) torch.Size([128, 82, 128])\n",
      "torch.Size([128, 128]) torch.Size([128, 128])\n"
     ]
    },
    {
     "name": "stdout",
     "output_type": "stream",
     "text": [
      "torch.Size([128, 82, 128]) torch.Size([128, 82, 128])\n",
      "torch.Size([128, 128]) torch.Size([128, 128])\n",
      "torch.Size([128, 82, 128]) torch.Size([128, 82, 128])\n",
      "torch.Size([128, 128]) torch.Size([128, 128])\n",
      "torch.Size([128, 82, 128]) torch.Size([128, 82, 128])\n",
      "torch.Size([128, 128]) torch.Size([128, 128])\n",
      "torch.Size([128, 82, 128]) torch.Size([128, 82, 128])\n",
      "torch.Size([128, 128]) torch.Size([128, 128])\n",
      "torch.Size([128, 82, 128]) torch.Size([128, 82, 128])\n",
      "torch.Size([128, 128]) torch.Size([128, 128])\n",
      "torch.Size([128, 82, 128]) torch.Size([128, 82, 128])\n",
      "torch.Size([128, 128]) torch.Size([128, 128])\n",
      "torch.Size([128, 82, 128]) torch.Size([128, 82, 128])\n",
      "torch.Size([128, 128]) torch.Size([128, 128])\n",
      "Epoch: [1/1], Step: [81/782], Train Loss: 1.0163179636001587, Train Acc: 0.4921875, Val Loss: 0.8873829245567322, Val Acc: 0.5625\n",
      "torch.Size([128, 82, 128]) torch.Size([128, 82, 128])\n",
      "torch.Size([128, 128]) torch.Size([128, 128])\n",
      "torch.Size([128, 82, 128]) torch.Size([128, 82, 128])\n",
      "torch.Size([128, 128]) torch.Size([128, 128])\n",
      "torch.Size([128, 82, 128]) torch.Size([128, 82, 128])\n",
      "torch.Size([128, 128]) torch.Size([128, 128])\n",
      "torch.Size([128, 82, 128]) torch.Size([128, 82, 128])\n",
      "torch.Size([128, 128]) torch.Size([128, 128])\n",
      "torch.Size([128, 82, 128]) torch.Size([128, 82, 128])\n",
      "torch.Size([128, 128]) torch.Size([128, 128])\n",
      "torch.Size([128, 82, 128]) torch.Size([128, 82, 128])\n",
      "torch.Size([128, 128]) torch.Size([128, 128])\n",
      "torch.Size([128, 82, 128]) torch.Size([128, 82, 128])\n",
      "torch.Size([128, 128]) torch.Size([128, 128])\n",
      "torch.Size([128, 82, 128]) torch.Size([128, 82, 128])\n",
      "torch.Size([128, 128]) torch.Size([128, 128])\n",
      "torch.Size([128, 82, 128]) torch.Size([128, 82, 128])\n",
      "torch.Size([128, 128]) torch.Size([128, 128])\n",
      "torch.Size([128, 82, 128]) torch.Size([128, 82, 128])\n",
      "torch.Size([128, 128]) torch.Size([128, 128])\n",
      "torch.Size([128, 82, 128]) torch.Size([128, 82, 128])\n",
      "torch.Size([128, 128]) torch.Size([128, 128])\n",
      "torch.Size([128, 82, 128]) torch.Size([128, 82, 128])\n",
      "torch.Size([128, 128]) torch.Size([128, 128])\n",
      "torch.Size([128, 82, 128]) torch.Size([128, 82, 128])\n",
      "torch.Size([128, 128]) torch.Size([128, 128])\n",
      "torch.Size([128, 82, 128]) torch.Size([128, 82, 128])\n",
      "torch.Size([128, 128]) torch.Size([128, 128])\n",
      "torch.Size([128, 82, 128]) torch.Size([128, 82, 128])\n",
      "torch.Size([128, 128]) torch.Size([128, 128])\n",
      "torch.Size([128, 82, 128]) torch.Size([128, 82, 128])\n",
      "torch.Size([128, 128]) torch.Size([128, 128])\n",
      "torch.Size([128, 82, 128]) torch.Size([128, 82, 128])\n",
      "torch.Size([128, 128]) torch.Size([128, 128])\n",
      "torch.Size([128, 82, 128]) torch.Size([128, 82, 128])\n",
      "torch.Size([128, 128]) torch.Size([128, 128])\n",
      "torch.Size([128, 82, 128]) torch.Size([128, 82, 128])\n",
      "torch.Size([128, 128]) torch.Size([128, 128])\n",
      "torch.Size([128, 82, 128]) torch.Size([128, 82, 128])\n",
      "torch.Size([128, 128]) torch.Size([128, 128])\n",
      "Epoch: [1/1], Step: [91/782], Train Loss: 1.0763442516326904, Train Acc: 0.5, Val Loss: 0.9029196500778198, Val Acc: 0.609375\n",
      "torch.Size([128, 82, 128]) torch.Size([128, 82, 128])\n",
      "torch.Size([128, 128]) torch.Size([128, 128])\n",
      "torch.Size([128, 82, 128]) torch.Size([128, 82, 128])\n",
      "torch.Size([128, 128]) torch.Size([128, 128])\n",
      "torch.Size([128, 82, 128]) torch.Size([128, 82, 128])\n",
      "torch.Size([128, 128]) torch.Size([128, 128])\n",
      "torch.Size([128, 82, 128]) torch.Size([128, 82, 128])\n",
      "torch.Size([128, 128]) torch.Size([128, 128])\n",
      "torch.Size([128, 82, 128]) torch.Size([128, 82, 128])\n",
      "torch.Size([128, 128]) torch.Size([128, 128])\n",
      "torch.Size([128, 82, 128]) torch.Size([128, 82, 128])\n",
      "torch.Size([128, 128]) torch.Size([128, 128])\n",
      "torch.Size([128, 82, 128]) torch.Size([128, 82, 128])\n",
      "torch.Size([128, 128]) torch.Size([128, 128])\n",
      "torch.Size([128, 82, 128]) torch.Size([128, 82, 128])\n",
      "torch.Size([128, 128]) torch.Size([128, 128])\n",
      "torch.Size([128, 82, 128]) torch.Size([128, 82, 128])\n",
      "torch.Size([128, 128]) torch.Size([128, 128])\n",
      "torch.Size([128, 82, 128]) torch.Size([128, 82, 128])\n",
      "torch.Size([128, 128]) torch.Size([128, 128])\n",
      "torch.Size([128, 82, 128]) torch.Size([128, 82, 128])\n",
      "torch.Size([128, 128]) torch.Size([128, 128])\n",
      "torch.Size([128, 82, 128]) torch.Size([128, 82, 128])\n",
      "torch.Size([128, 128]) torch.Size([128, 128])\n",
      "torch.Size([128, 82, 128]) torch.Size([128, 82, 128])\n",
      "torch.Size([128, 128]) torch.Size([128, 128])\n",
      "torch.Size([128, 82, 128]) torch.Size([128, 82, 128])\n",
      "torch.Size([128, 128]) torch.Size([128, 128])\n",
      "torch.Size([128, 82, 128]) torch.Size([128, 82, 128])\n",
      "torch.Size([128, 128]) torch.Size([128, 128])\n",
      "torch.Size([128, 82, 128]) torch.Size([128, 82, 128])\n",
      "torch.Size([128, 128]) torch.Size([128, 128])\n",
      "torch.Size([128, 82, 128]) torch.Size([128, 82, 128])\n",
      "torch.Size([128, 128]) torch.Size([128, 128])\n",
      "torch.Size([128, 82, 128]) torch.Size([128, 82, 128])\n",
      "torch.Size([128, 128]) torch.Size([128, 128])\n",
      "torch.Size([128, 82, 128]) torch.Size([128, 82, 128])\n",
      "torch.Size([128, 128]) torch.Size([128, 128])\n",
      "torch.Size([128, 82, 128]) torch.Size([128, 82, 128])\n",
      "torch.Size([128, 128]) torch.Size([128, 128])\n",
      "Epoch: [1/1], Step: [101/782], Train Loss: 0.9674301147460938, Train Acc: 0.5390625, Val Loss: 0.9532489776611328, Val Acc: 0.5078125\n",
      "torch.Size([128, 82, 128]) torch.Size([128, 82, 128])\n",
      "torch.Size([128, 128]) torch.Size([128, 128])\n",
      "torch.Size([128, 82, 128]) torch.Size([128, 82, 128])\n",
      "torch.Size([128, 128]) torch.Size([128, 128])\n",
      "torch.Size([128, 82, 128]) torch.Size([128, 82, 128])\n",
      "torch.Size([128, 128]) torch.Size([128, 128])\n",
      "torch.Size([128, 82, 128]) torch.Size([128, 82, 128])\n",
      "torch.Size([128, 128]) torch.Size([128, 128])\n",
      "torch.Size([128, 82, 128]) torch.Size([128, 82, 128])\n",
      "torch.Size([128, 128]) torch.Size([128, 128])\n",
      "torch.Size([128, 82, 128]) torch.Size([128, 82, 128])\n",
      "torch.Size([128, 128]) torch.Size([128, 128])\n",
      "torch.Size([128, 82, 128]) torch.Size([128, 82, 128])\n",
      "torch.Size([128, 128]) torch.Size([128, 128])\n",
      "torch.Size([128, 82, 128]) torch.Size([128, 82, 128])\n",
      "torch.Size([128, 128]) torch.Size([128, 128])\n",
      "torch.Size([128, 82, 128]) torch.Size([128, 82, 128])\n",
      "torch.Size([128, 128]) torch.Size([128, 128])\n",
      "torch.Size([128, 82, 128]) torch.Size([128, 82, 128])\n",
      "torch.Size([128, 128]) torch.Size([128, 128])\n",
      "torch.Size([128, 82, 128]) torch.Size([128, 82, 128])\n",
      "torch.Size([128, 128]) torch.Size([128, 128])\n",
      "torch.Size([128, 82, 128]) torch.Size([128, 82, 128])\n",
      "torch.Size([128, 128]) torch.Size([128, 128])\n",
      "torch.Size([128, 82, 128]) torch.Size([128, 82, 128])\n",
      "torch.Size([128, 128]) torch.Size([128, 128])\n",
      "torch.Size([128, 82, 128]) torch.Size([128, 82, 128])\n",
      "torch.Size([128, 128]) torch.Size([128, 128])\n",
      "torch.Size([128, 82, 128]) torch.Size([128, 82, 128])\n",
      "torch.Size([128, 128]) torch.Size([128, 128])\n",
      "torch.Size([128, 82, 128]) torch.Size([128, 82, 128])\n",
      "torch.Size([128, 128]) torch.Size([128, 128])\n",
      "torch.Size([128, 82, 128]) torch.Size([128, 82, 128])\n",
      "torch.Size([128, 128]) torch.Size([128, 128])\n",
      "torch.Size([128, 82, 128]) torch.Size([128, 82, 128])\n",
      "torch.Size([128, 128]) torch.Size([128, 128])\n",
      "torch.Size([128, 82, 128]) torch.Size([128, 82, 128])\n",
      "torch.Size([128, 128]) torch.Size([128, 128])\n",
      "torch.Size([128, 82, 128]) torch.Size([128, 82, 128])\n",
      "torch.Size([128, 128]) torch.Size([128, 128])\n",
      "Epoch: [1/1], Step: [111/782], Train Loss: 0.9959781765937805, Train Acc: 0.5390625, Val Loss: 0.9301272630691528, Val Acc: 0.578125\n",
      "torch.Size([128, 82, 128]) torch.Size([128, 82, 128])\n",
      "torch.Size([128, 128]) torch.Size([128, 128])\n",
      "torch.Size([128, 82, 128]) torch.Size([128, 82, 128])\n",
      "torch.Size([128, 128]) torch.Size([128, 128])\n",
      "torch.Size([128, 82, 128]) torch.Size([128, 82, 128])\n",
      "torch.Size([128, 128]) torch.Size([128, 128])\n",
      "torch.Size([128, 82, 128]) torch.Size([128, 82, 128])\n",
      "torch.Size([128, 128]) torch.Size([128, 128])\n",
      "torch.Size([128, 82, 128]) torch.Size([128, 82, 128])\n",
      "torch.Size([128, 128]) torch.Size([128, 128])\n",
      "torch.Size([128, 82, 128]) torch.Size([128, 82, 128])\n",
      "torch.Size([128, 128]) torch.Size([128, 128])\n",
      "torch.Size([128, 82, 128]) torch.Size([128, 82, 128])\n",
      "torch.Size([128, 128]) torch.Size([128, 128])\n",
      "torch.Size([128, 82, 128]) torch.Size([128, 82, 128])\n",
      "torch.Size([128, 128]) torch.Size([128, 128])\n",
      "torch.Size([128, 82, 128]) torch.Size([128, 82, 128])\n",
      "torch.Size([128, 128]) torch.Size([128, 128])\n",
      "torch.Size([128, 82, 128]) torch.Size([128, 82, 128])\n",
      "torch.Size([128, 128]) torch.Size([128, 128])\n"
     ]
    },
    {
     "name": "stdout",
     "output_type": "stream",
     "text": [
      "torch.Size([128, 82, 128]) torch.Size([128, 82, 128])\n",
      "torch.Size([128, 128]) torch.Size([128, 128])\n",
      "torch.Size([128, 82, 128]) torch.Size([128, 82, 128])\n",
      "torch.Size([128, 128]) torch.Size([128, 128])\n",
      "torch.Size([128, 82, 128]) torch.Size([128, 82, 128])\n",
      "torch.Size([128, 128]) torch.Size([128, 128])\n",
      "torch.Size([128, 82, 128]) torch.Size([128, 82, 128])\n",
      "torch.Size([128, 128]) torch.Size([128, 128])\n",
      "torch.Size([128, 82, 128]) torch.Size([128, 82, 128])\n",
      "torch.Size([128, 128]) torch.Size([128, 128])\n",
      "torch.Size([128, 82, 128]) torch.Size([128, 82, 128])\n",
      "torch.Size([128, 128]) torch.Size([128, 128])\n",
      "torch.Size([128, 82, 128]) torch.Size([128, 82, 128])\n",
      "torch.Size([128, 128]) torch.Size([128, 128])\n",
      "torch.Size([128, 82, 128]) torch.Size([128, 82, 128])\n",
      "torch.Size([128, 128]) torch.Size([128, 128])\n",
      "torch.Size([128, 82, 128]) torch.Size([128, 82, 128])\n",
      "torch.Size([128, 128]) torch.Size([128, 128])\n",
      "torch.Size([128, 82, 128]) torch.Size([128, 82, 128])\n",
      "torch.Size([128, 128]) torch.Size([128, 128])\n",
      "Epoch: [1/1], Step: [121/782], Train Loss: 0.8888397812843323, Train Acc: 0.625, Val Loss: 0.9315658211708069, Val Acc: 0.5\n",
      "torch.Size([128, 82, 128]) torch.Size([128, 82, 128])\n",
      "torch.Size([128, 128]) torch.Size([128, 128])\n",
      "torch.Size([128, 82, 128]) torch.Size([128, 82, 128])\n",
      "torch.Size([128, 128]) torch.Size([128, 128])\n",
      "torch.Size([128, 82, 128]) torch.Size([128, 82, 128])\n",
      "torch.Size([128, 128]) torch.Size([128, 128])\n",
      "torch.Size([128, 82, 128]) torch.Size([128, 82, 128])\n",
      "torch.Size([128, 128]) torch.Size([128, 128])\n",
      "torch.Size([128, 82, 128]) torch.Size([128, 82, 128])\n",
      "torch.Size([128, 128]) torch.Size([128, 128])\n",
      "torch.Size([128, 82, 128]) torch.Size([128, 82, 128])\n",
      "torch.Size([128, 128]) torch.Size([128, 128])\n",
      "torch.Size([128, 82, 128]) torch.Size([128, 82, 128])\n",
      "torch.Size([128, 128]) torch.Size([128, 128])\n",
      "torch.Size([128, 82, 128]) torch.Size([128, 82, 128])\n",
      "torch.Size([128, 128]) torch.Size([128, 128])\n",
      "torch.Size([128, 82, 128]) torch.Size([128, 82, 128])\n",
      "torch.Size([128, 128]) torch.Size([128, 128])\n",
      "torch.Size([128, 82, 128]) torch.Size([128, 82, 128])\n",
      "torch.Size([128, 128]) torch.Size([128, 128])\n",
      "torch.Size([128, 82, 128]) torch.Size([128, 82, 128])\n",
      "torch.Size([128, 128]) torch.Size([128, 128])\n",
      "torch.Size([128, 82, 128]) torch.Size([128, 82, 128])\n",
      "torch.Size([128, 128]) torch.Size([128, 128])\n",
      "torch.Size([128, 82, 128]) torch.Size([128, 82, 128])\n",
      "torch.Size([128, 128]) torch.Size([128, 128])\n",
      "torch.Size([128, 82, 128]) torch.Size([128, 82, 128])\n",
      "torch.Size([128, 128]) torch.Size([128, 128])\n",
      "torch.Size([128, 82, 128]) torch.Size([128, 82, 128])\n",
      "torch.Size([128, 128]) torch.Size([128, 128])\n",
      "torch.Size([128, 82, 128]) torch.Size([128, 82, 128])\n",
      "torch.Size([128, 128]) torch.Size([128, 128])\n",
      "torch.Size([128, 82, 128]) torch.Size([128, 82, 128])\n",
      "torch.Size([128, 128]) torch.Size([128, 128])\n",
      "torch.Size([128, 82, 128]) torch.Size([128, 82, 128])\n",
      "torch.Size([128, 128]) torch.Size([128, 128])\n",
      "torch.Size([128, 82, 128]) torch.Size([128, 82, 128])\n",
      "torch.Size([128, 128]) torch.Size([128, 128])\n",
      "torch.Size([128, 82, 128]) torch.Size([128, 82, 128])\n",
      "torch.Size([128, 128]) torch.Size([128, 128])\n",
      "Epoch: [1/1], Step: [131/782], Train Loss: 0.94508957862854, Train Acc: 0.578125, Val Loss: 0.9410187005996704, Val Acc: 0.5859375\n",
      "torch.Size([128, 82, 128]) torch.Size([128, 82, 128])\n",
      "torch.Size([128, 128]) torch.Size([128, 128])\n",
      "torch.Size([128, 82, 128]) torch.Size([128, 82, 128])\n",
      "torch.Size([128, 128]) torch.Size([128, 128])\n",
      "torch.Size([128, 82, 128]) torch.Size([128, 82, 128])\n",
      "torch.Size([128, 128]) torch.Size([128, 128])\n",
      "torch.Size([128, 82, 128]) torch.Size([128, 82, 128])\n",
      "torch.Size([128, 128]) torch.Size([128, 128])\n",
      "torch.Size([128, 82, 128]) torch.Size([128, 82, 128])\n",
      "torch.Size([128, 128]) torch.Size([128, 128])\n",
      "torch.Size([128, 82, 128]) torch.Size([128, 82, 128])\n",
      "torch.Size([128, 128]) torch.Size([128, 128])\n",
      "torch.Size([128, 82, 128]) torch.Size([128, 82, 128])\n",
      "torch.Size([128, 128]) torch.Size([128, 128])\n",
      "torch.Size([128, 82, 128]) torch.Size([128, 82, 128])\n",
      "torch.Size([128, 128]) torch.Size([128, 128])\n",
      "torch.Size([128, 82, 128]) torch.Size([128, 82, 128])\n",
      "torch.Size([128, 128]) torch.Size([128, 128])\n",
      "torch.Size([128, 82, 128]) torch.Size([128, 82, 128])\n",
      "torch.Size([128, 128]) torch.Size([128, 128])\n",
      "torch.Size([128, 82, 128]) torch.Size([128, 82, 128])\n",
      "torch.Size([128, 128]) torch.Size([128, 128])\n",
      "torch.Size([128, 82, 128]) torch.Size([128, 82, 128])\n",
      "torch.Size([128, 128]) torch.Size([128, 128])\n",
      "torch.Size([128, 82, 128]) torch.Size([128, 82, 128])\n",
      "torch.Size([128, 128]) torch.Size([128, 128])\n",
      "torch.Size([128, 82, 128]) torch.Size([128, 82, 128])\n",
      "torch.Size([128, 128]) torch.Size([128, 128])\n",
      "torch.Size([128, 82, 128]) torch.Size([128, 82, 128])\n",
      "torch.Size([128, 128]) torch.Size([128, 128])\n",
      "torch.Size([128, 82, 128]) torch.Size([128, 82, 128])\n",
      "torch.Size([128, 128]) torch.Size([128, 128])\n",
      "torch.Size([128, 82, 128]) torch.Size([128, 82, 128])\n",
      "torch.Size([128, 128]) torch.Size([128, 128])\n",
      "torch.Size([128, 82, 128]) torch.Size([128, 82, 128])\n",
      "torch.Size([128, 128]) torch.Size([128, 128])\n",
      "torch.Size([128, 82, 128]) torch.Size([128, 82, 128])\n",
      "torch.Size([128, 128]) torch.Size([128, 128])\n",
      "torch.Size([128, 82, 128]) torch.Size([128, 82, 128])\n",
      "torch.Size([128, 128]) torch.Size([128, 128])\n",
      "Epoch: [1/1], Step: [141/782], Train Loss: 0.900404691696167, Train Acc: 0.5703125, Val Loss: 0.9581701159477234, Val Acc: 0.5234375\n",
      "torch.Size([128, 82, 128]) torch.Size([128, 82, 128])\n",
      "torch.Size([128, 128]) torch.Size([128, 128])\n",
      "torch.Size([128, 82, 128]) torch.Size([128, 82, 128])\n",
      "torch.Size([128, 128]) torch.Size([128, 128])\n",
      "torch.Size([128, 82, 128]) torch.Size([128, 82, 128])\n",
      "torch.Size([128, 128]) torch.Size([128, 128])\n",
      "torch.Size([128, 82, 128]) torch.Size([128, 82, 128])\n",
      "torch.Size([128, 128]) torch.Size([128, 128])\n",
      "torch.Size([128, 82, 128]) torch.Size([128, 82, 128])\n",
      "torch.Size([128, 128]) torch.Size([128, 128])\n",
      "torch.Size([128, 82, 128]) torch.Size([128, 82, 128])\n",
      "torch.Size([128, 128]) torch.Size([128, 128])\n",
      "torch.Size([128, 82, 128]) torch.Size([128, 82, 128])\n",
      "torch.Size([128, 128]) torch.Size([128, 128])\n",
      "torch.Size([128, 82, 128]) torch.Size([128, 82, 128])\n",
      "torch.Size([128, 128]) torch.Size([128, 128])\n",
      "torch.Size([128, 82, 128]) torch.Size([128, 82, 128])\n",
      "torch.Size([128, 128]) torch.Size([128, 128])\n",
      "torch.Size([128, 82, 128]) torch.Size([128, 82, 128])\n",
      "torch.Size([128, 128]) torch.Size([128, 128])\n",
      "torch.Size([128, 82, 128]) torch.Size([128, 82, 128])\n",
      "torch.Size([128, 128]) torch.Size([128, 128])\n",
      "torch.Size([128, 82, 128]) torch.Size([128, 82, 128])\n",
      "torch.Size([128, 128]) torch.Size([128, 128])\n",
      "torch.Size([128, 82, 128]) torch.Size([128, 82, 128])\n",
      "torch.Size([128, 128]) torch.Size([128, 128])\n",
      "torch.Size([128, 82, 128]) torch.Size([128, 82, 128])\n",
      "torch.Size([128, 128]) torch.Size([128, 128])\n",
      "torch.Size([128, 82, 128]) torch.Size([128, 82, 128])\n",
      "torch.Size([128, 128]) torch.Size([128, 128])\n",
      "torch.Size([128, 82, 128]) torch.Size([128, 82, 128])\n",
      "torch.Size([128, 128]) torch.Size([128, 128])\n",
      "torch.Size([128, 82, 128]) torch.Size([128, 82, 128])\n",
      "torch.Size([128, 128]) torch.Size([128, 128])\n",
      "torch.Size([128, 82, 128]) torch.Size([128, 82, 128])\n",
      "torch.Size([128, 128]) torch.Size([128, 128])\n",
      "torch.Size([128, 82, 128]) torch.Size([128, 82, 128])\n",
      "torch.Size([128, 128]) torch.Size([128, 128])\n",
      "torch.Size([128, 82, 128]) torch.Size([128, 82, 128])\n",
      "torch.Size([128, 128]) torch.Size([128, 128])\n",
      "Epoch: [1/1], Step: [151/782], Train Loss: 0.9071897864341736, Train Acc: 0.5859375, Val Loss: 0.9571371078491211, Val Acc: 0.5390625\n",
      "torch.Size([128, 82, 128]) torch.Size([128, 82, 128])\n",
      "torch.Size([128, 128]) torch.Size([128, 128])\n",
      "torch.Size([128, 82, 128]) torch.Size([128, 82, 128])\n",
      "torch.Size([128, 128]) torch.Size([128, 128])\n",
      "torch.Size([128, 82, 128]) torch.Size([128, 82, 128])\n",
      "torch.Size([128, 128]) torch.Size([128, 128])\n",
      "torch.Size([128, 82, 128]) torch.Size([128, 82, 128])\n",
      "torch.Size([128, 128]) torch.Size([128, 128])\n",
      "torch.Size([128, 82, 128]) torch.Size([128, 82, 128])\n",
      "torch.Size([128, 128]) torch.Size([128, 128])\n",
      "torch.Size([128, 82, 128]) torch.Size([128, 82, 128])\n",
      "torch.Size([128, 128]) torch.Size([128, 128])\n",
      "torch.Size([128, 82, 128]) torch.Size([128, 82, 128])\n",
      "torch.Size([128, 128]) torch.Size([128, 128])\n"
     ]
    },
    {
     "name": "stdout",
     "output_type": "stream",
     "text": [
      "torch.Size([128, 82, 128]) torch.Size([128, 82, 128])\n",
      "torch.Size([128, 128]) torch.Size([128, 128])\n",
      "torch.Size([128, 82, 128]) torch.Size([128, 82, 128])\n",
      "torch.Size([128, 128]) torch.Size([128, 128])\n",
      "torch.Size([128, 82, 128]) torch.Size([128, 82, 128])\n",
      "torch.Size([128, 128]) torch.Size([128, 128])\n",
      "torch.Size([128, 82, 128]) torch.Size([128, 82, 128])\n",
      "torch.Size([128, 128]) torch.Size([128, 128])\n",
      "torch.Size([128, 82, 128]) torch.Size([128, 82, 128])\n",
      "torch.Size([128, 128]) torch.Size([128, 128])\n",
      "torch.Size([128, 82, 128]) torch.Size([128, 82, 128])\n",
      "torch.Size([128, 128]) torch.Size([128, 128])\n",
      "torch.Size([128, 82, 128]) torch.Size([128, 82, 128])\n",
      "torch.Size([128, 128]) torch.Size([128, 128])\n",
      "torch.Size([128, 82, 128]) torch.Size([128, 82, 128])\n",
      "torch.Size([128, 128]) torch.Size([128, 128])\n",
      "torch.Size([128, 82, 128]) torch.Size([128, 82, 128])\n",
      "torch.Size([128, 128]) torch.Size([128, 128])\n",
      "torch.Size([128, 82, 128]) torch.Size([128, 82, 128])\n",
      "torch.Size([128, 128]) torch.Size([128, 128])\n",
      "torch.Size([128, 82, 128]) torch.Size([128, 82, 128])\n",
      "torch.Size([128, 128]) torch.Size([128, 128])\n",
      "torch.Size([128, 82, 128]) torch.Size([128, 82, 128])\n",
      "torch.Size([128, 128]) torch.Size([128, 128])\n",
      "torch.Size([128, 82, 128]) torch.Size([128, 82, 128])\n",
      "torch.Size([128, 128]) torch.Size([128, 128])\n",
      "Epoch: [1/1], Step: [161/782], Train Loss: 1.0093876123428345, Train Acc: 0.5390625, Val Loss: 0.9929348826408386, Val Acc: 0.515625\n",
      "torch.Size([128, 82, 128]) torch.Size([128, 82, 128])\n",
      "torch.Size([128, 128]) torch.Size([128, 128])\n",
      "torch.Size([128, 82, 128]) torch.Size([128, 82, 128])\n",
      "torch.Size([128, 128]) torch.Size([128, 128])\n",
      "torch.Size([128, 82, 128]) torch.Size([128, 82, 128])\n",
      "torch.Size([128, 128]) torch.Size([128, 128])\n",
      "torch.Size([128, 82, 128]) torch.Size([128, 82, 128])\n",
      "torch.Size([128, 128]) torch.Size([128, 128])\n",
      "torch.Size([128, 82, 128]) torch.Size([128, 82, 128])\n",
      "torch.Size([128, 128]) torch.Size([128, 128])\n",
      "torch.Size([128, 82, 128]) torch.Size([128, 82, 128])\n",
      "torch.Size([128, 128]) torch.Size([128, 128])\n",
      "torch.Size([128, 82, 128]) torch.Size([128, 82, 128])\n",
      "torch.Size([128, 128]) torch.Size([128, 128])\n",
      "torch.Size([128, 82, 128]) torch.Size([128, 82, 128])\n",
      "torch.Size([128, 128]) torch.Size([128, 128])\n",
      "torch.Size([128, 82, 128]) torch.Size([128, 82, 128])\n",
      "torch.Size([128, 128]) torch.Size([128, 128])\n",
      "torch.Size([128, 82, 128]) torch.Size([128, 82, 128])\n",
      "torch.Size([128, 128]) torch.Size([128, 128])\n",
      "torch.Size([128, 82, 128]) torch.Size([128, 82, 128])\n",
      "torch.Size([128, 128]) torch.Size([128, 128])\n",
      "torch.Size([128, 82, 128]) torch.Size([128, 82, 128])\n",
      "torch.Size([128, 128]) torch.Size([128, 128])\n",
      "torch.Size([128, 82, 128]) torch.Size([128, 82, 128])\n",
      "torch.Size([128, 128]) torch.Size([128, 128])\n",
      "torch.Size([128, 82, 128]) torch.Size([128, 82, 128])\n",
      "torch.Size([128, 128]) torch.Size([128, 128])\n",
      "torch.Size([128, 82, 128]) torch.Size([128, 82, 128])\n",
      "torch.Size([128, 128]) torch.Size([128, 128])\n",
      "torch.Size([128, 82, 128]) torch.Size([128, 82, 128])\n",
      "torch.Size([128, 128]) torch.Size([128, 128])\n",
      "torch.Size([128, 82, 128]) torch.Size([128, 82, 128])\n",
      "torch.Size([128, 128]) torch.Size([128, 128])\n"
     ]
    },
    {
     "ename": "KeyboardInterrupt",
     "evalue": "",
     "output_type": "error",
     "traceback": [
      "\u001b[0;31m---------------------------------------------------------------------------\u001b[0m",
      "\u001b[0;31mKeyboardInterrupt\u001b[0m                         Traceback (most recent call last)",
      "\u001b[0;32m<ipython-input-190-3f94be81d865>\u001b[0m in \u001b[0;36m<module>\u001b[0;34m()\u001b[0m\n\u001b[1;32m      2\u001b[0m \u001b[0mload_from_path\u001b[0m \u001b[0;34m=\u001b[0m \u001b[0;32mNone\u001b[0m\u001b[0;34m\u001b[0m\u001b[0m\n\u001b[1;32m      3\u001b[0m \u001b[0msave_to_path\u001b[0m \u001b[0;34m=\u001b[0m \u001b[0;34m\"./test\"\u001b[0m\u001b[0;34m\u001b[0m\u001b[0m\n\u001b[0;32m----> 4\u001b[0;31m \u001b[0mtrain\u001b[0m\u001b[0;34m(\u001b[0m\u001b[0mmodel\u001b[0m\u001b[0;34m,\u001b[0m \u001b[0;36m1\u001b[0m\u001b[0;34m,\u001b[0m \u001b[0;36m1e-2\u001b[0m\u001b[0;34m,\u001b[0m \u001b[0mtrain_loader\u001b[0m\u001b[0;34m,\u001b[0m \u001b[0mval_loader\u001b[0m\u001b[0;34m,\u001b[0m \u001b[0mload_from_path\u001b[0m\u001b[0;34m,\u001b[0m \u001b[0msave_to_path\u001b[0m\u001b[0;34m,\u001b[0m \u001b[0mbest_val_acc\u001b[0m\u001b[0;34m,\u001b[0m \u001b[0mtrain_losses\u001b[0m\u001b[0;34m,\u001b[0m \u001b[0mtrain_accs\u001b[0m\u001b[0;34m,\u001b[0m \u001b[0mval_losses\u001b[0m\u001b[0;34m,\u001b[0m \u001b[0mval_accs\u001b[0m\u001b[0;34m)\u001b[0m\u001b[0;34m\u001b[0m\u001b[0m\n\u001b[0m",
      "\u001b[0;32m<ipython-input-189-e07d41e7c2ef>\u001b[0m in \u001b[0;36mtrain\u001b[0;34m(model, num_epochs, learning_rate, train_loader, val_loader, load_from_path, save_to_path, best_val_acc, train_losses, train_accs, val_losses, val_accs)\u001b[0m\n\u001b[1;32m     44\u001b[0m \u001b[0;34m\u001b[0m\u001b[0m\n\u001b[1;32m     45\u001b[0m             \u001b[0;31m# Backprop from loss\u001b[0m\u001b[0;34m\u001b[0m\u001b[0;34m\u001b[0m\u001b[0m\n\u001b[0;32m---> 46\u001b[0;31m             \u001b[0mloss\u001b[0m\u001b[0;34m.\u001b[0m\u001b[0mbackward\u001b[0m\u001b[0;34m(\u001b[0m\u001b[0;34m)\u001b[0m\u001b[0;34m\u001b[0m\u001b[0m\n\u001b[0m\u001b[1;32m     47\u001b[0m \u001b[0;34m\u001b[0m\u001b[0m\n\u001b[1;32m     48\u001b[0m             \u001b[0;31m# Update parameters\u001b[0m\u001b[0;34m\u001b[0m\u001b[0;34m\u001b[0m\u001b[0m\n",
      "\u001b[0;32m/Users/wu/anaconda/lib/python3.6/site-packages/torch/tensor.py\u001b[0m in \u001b[0;36mbackward\u001b[0;34m(self, gradient, retain_graph, create_graph)\u001b[0m\n\u001b[1;32m     91\u001b[0m                 \u001b[0mproducts\u001b[0m\u001b[0;34m.\u001b[0m \u001b[0mDefaults\u001b[0m \u001b[0mto\u001b[0m\u001b[0;31m \u001b[0m\u001b[0;31m`\u001b[0m\u001b[0;31m`\u001b[0m\u001b[0;32mFalse\u001b[0m\u001b[0;31m`\u001b[0m\u001b[0;31m`\u001b[0m\u001b[0;34m.\u001b[0m\u001b[0;34m\u001b[0m\u001b[0m\n\u001b[1;32m     92\u001b[0m         \"\"\"\n\u001b[0;32m---> 93\u001b[0;31m         \u001b[0mtorch\u001b[0m\u001b[0;34m.\u001b[0m\u001b[0mautograd\u001b[0m\u001b[0;34m.\u001b[0m\u001b[0mbackward\u001b[0m\u001b[0;34m(\u001b[0m\u001b[0mself\u001b[0m\u001b[0;34m,\u001b[0m \u001b[0mgradient\u001b[0m\u001b[0;34m,\u001b[0m \u001b[0mretain_graph\u001b[0m\u001b[0;34m,\u001b[0m \u001b[0mcreate_graph\u001b[0m\u001b[0;34m)\u001b[0m\u001b[0;34m\u001b[0m\u001b[0m\n\u001b[0m\u001b[1;32m     94\u001b[0m \u001b[0;34m\u001b[0m\u001b[0m\n\u001b[1;32m     95\u001b[0m     \u001b[0;32mdef\u001b[0m \u001b[0mregister_hook\u001b[0m\u001b[0;34m(\u001b[0m\u001b[0mself\u001b[0m\u001b[0;34m,\u001b[0m \u001b[0mhook\u001b[0m\u001b[0;34m)\u001b[0m\u001b[0;34m:\u001b[0m\u001b[0;34m\u001b[0m\u001b[0m\n",
      "\u001b[0;32m/Users/wu/anaconda/lib/python3.6/site-packages/torch/autograd/__init__.py\u001b[0m in \u001b[0;36mbackward\u001b[0;34m(tensors, grad_tensors, retain_graph, create_graph, grad_variables)\u001b[0m\n\u001b[1;32m     88\u001b[0m     Variable._execution_engine.run_backward(\n\u001b[1;32m     89\u001b[0m         \u001b[0mtensors\u001b[0m\u001b[0;34m,\u001b[0m \u001b[0mgrad_tensors\u001b[0m\u001b[0;34m,\u001b[0m \u001b[0mretain_graph\u001b[0m\u001b[0;34m,\u001b[0m \u001b[0mcreate_graph\u001b[0m\u001b[0;34m,\u001b[0m\u001b[0;34m\u001b[0m\u001b[0m\n\u001b[0;32m---> 90\u001b[0;31m         allow_unreachable=True)  # allow_unreachable flag\n\u001b[0m\u001b[1;32m     91\u001b[0m \u001b[0;34m\u001b[0m\u001b[0m\n\u001b[1;32m     92\u001b[0m \u001b[0;34m\u001b[0m\u001b[0m\n",
      "\u001b[0;31mKeyboardInterrupt\u001b[0m: "
     ]
    }
   ],
   "source": [
    "model = TwoSentencesRNN(embedding_matrix, 3, MAX_SENTENCE_LENGTH)\n",
    "load_from_path = None\n",
    "save_to_path = \"./test\"\n",
    "train(model, 1, 1e-2, train_loader, val_loader, load_from_path, save_to_path, best_val_acc, train_losses, train_accs, val_losses, val_accs)"
   ]
  },
  {
   "cell_type": "markdown",
   "metadata": {},
   "source": [
    "### Get Number of parameters and Plot"
   ]
  },
  {
   "cell_type": "code",
   "execution_count": 80,
   "metadata": {
    "collapsed": true
   },
   "outputs": [],
   "source": [
    "# RNN_CONCATE_128\n",
    "# get number of trainable parameters\n",
    "model_parameters_1 = filter(lambda p: p.requires_grad, model.parameters())\n",
    "params_1 = sum([np.prod(p.size()) for p in model_parameters_1])"
   ]
  },
  {
   "cell_type": "code",
   "execution_count": 82,
   "metadata": {},
   "outputs": [
    {
     "name": "stdout",
     "output_type": "stream",
     "text": [
      "Number of trainable parameters are 6505903.\n"
     ]
    }
   ],
   "source": [
    "print(\"Number of trainable parameters are {}.\".format(params_1))"
   ]
  },
  {
   "cell_type": "code",
   "execution_count": 45,
   "metadata": {
    "collapsed": true
   },
   "outputs": [],
   "source": [
    "train_losses_1, train_accs_1, val_losses_1, val_accs_1 = train_losses, train_accs, val_losses, val_accs"
   ]
  },
  {
   "cell_type": "code",
   "execution_count": 46,
   "metadata": {},
   "outputs": [
    {
     "data": {
      "image/png": "[encoded data removed]",
      "text/plain": [
       "<matplotlib.figure.Figure at 0x15e19f358>"
      ]
     },
     "metadata": {},
     "output_type": "display_data"
    }
   ],
   "source": [
    "# RNN_CONCATE_128\n",
    "# plot for losses\n",
    "title = 'rnn_loss_concate_128'\n",
    "plt.plot(train_losses_1, label='train losses')\n",
    "plt.plot(val_losses_1, label='val losses')\n",
    "plt.legend(loc='lower right')\n",
    "plt.xlabel(\"Step\")\n",
    "plt.ylabel(\"Loss\")\n",
    "plt.title(title)\n",
    "plt.savefig(title + \".png\")"
   ]
  },
  {
   "cell_type": "code",
   "execution_count": 47,
   "metadata": {
    "scrolled": true
   },
   "outputs": [
    {
     "data": {
      "image/png": "[encoded data removed]",
      "text/plain": [
       "<matplotlib.figure.Figure at 0x13e5ffc50>"
      ]
     },
     "metadata": {},
     "output_type": "display_data"
    }
   ],
   "source": [
    "# RNN_CONCATE_128\n",
    "# plot for accs\n",
    "title = 'rnn_acc_concate_128'\n",
    "plt.plot(train_accs_1, label='train accs')\n",
    "plt.plot(val_accs_1, label='val accs')\n",
    "plt.legend(loc='lower right')\n",
    "plt.xlabel(\"Step\")\n",
    "plt.ylabel(\"Accuracy\")\n",
    "plt.title(title)\n",
    "plt.savefig(title + \".png\")"
   ]
  },
  {
   "cell_type": "code",
   "execution_count": 128,
   "metadata": {},
   "outputs": [
    {
     "name": "stdout",
     "output_type": "stream",
     "text": [
      "0.75\n"
     ]
    }
   ],
   "source": [
    "print(max(train_accs_1))"
   ]
  },
  {
   "cell_type": "code",
   "execution_count": 49,
   "metadata": {},
   "outputs": [
    {
     "name": "stdout",
     "output_type": "stream",
     "text": [
      "0.7734375\n"
     ]
    }
   ],
   "source": [
    "print(max(val_accs_1))"
   ]
  },
  {
   "cell_type": "code",
   "execution_count": null,
   "metadata": {
    "collapsed": true
   },
   "outputs": [],
   "source": []
  },
  {
   "cell_type": "code",
   "execution_count": 139,
   "metadata": {
    "collapsed": true
   },
   "outputs": [],
   "source": [
    "# RNN_CONCATE_256\n",
    "# get number of trainable parameters\n",
    "model_parameters_2 = filter(lambda p: p.requires_grad, model.parameters())\n",
    "params_2 = sum([np.prod(p.size()) for p in model_parameters_2])"
   ]
  },
  {
   "cell_type": "code",
   "execution_count": 140,
   "metadata": {},
   "outputs": [
    {
     "name": "stdout",
     "output_type": "stream",
     "text": [
      "Number of trainable parameters are 6394671.\n"
     ]
    }
   ],
   "source": [
    "print(\"Number of trainable parameters are {}.\".format(params_2))"
   ]
  },
  {
   "cell_type": "code",
   "execution_count": 141,
   "metadata": {
    "collapsed": true
   },
   "outputs": [],
   "source": [
    "train_losses_2, train_accs_2, val_losses_2, val_accs_2 = train_losses, train_accs, val_losses, val_accs"
   ]
  },
  {
   "cell_type": "code",
   "execution_count": 132,
   "metadata": {},
   "outputs": [
    {
     "data": {
      "image/png": "[encoded data removed]",
      "text/plain": [
       "<matplotlib.figure.Figure at 0x15c9b7a20>"
      ]
     },
     "metadata": {},
     "output_type": "display_data"
    }
   ],
   "source": [
    "# RNN_CONCATE_256\n",
    "# plot for losses\n",
    "title = 'rnn_loss_concate_256'\n",
    "plt.plot(train_losses_2, label='train losses')\n",
    "plt.plot(val_losses_2, label='val losses')\n",
    "plt.legend(loc='lower right')\n",
    "plt.xlabel(\"Step\")\n",
    "plt.ylabel(\"Loss\")\n",
    "plt.title(title)\n",
    "plt.savefig(title + \".png\")"
   ]
  },
  {
   "cell_type": "code",
   "execution_count": 133,
   "metadata": {},
   "outputs": [
    {
     "data": {
      "image/png": "[encoded data removed]",
      "text/plain": [
       "<matplotlib.figure.Figure at 0x13dda9128>"
      ]
     },
     "metadata": {},
     "output_type": "display_data"
    }
   ],
   "source": [
    "# RNN_CONCATE_256\n",
    "# plot for accs\n",
    "title = 'rnn_acc_concate_256'\n",
    "plt.plot(train_accs_2, label='train accs')\n",
    "plt.plot(val_accs_2, label='val accs')\n",
    "plt.legend(loc='lower right')\n",
    "plt.xlabel(\"Step\")\n",
    "plt.ylabel(\"Accuracy\")\n",
    "plt.title(title)\n",
    "plt.savefig(title + \".png\")"
   ]
  },
  {
   "cell_type": "code",
   "execution_count": 134,
   "metadata": {},
   "outputs": [
    {
     "name": "stdout",
     "output_type": "stream",
     "text": [
      "0.71875\n"
     ]
    }
   ],
   "source": [
    "print(max(train_accs_2))"
   ]
  },
  {
   "cell_type": "code",
   "execution_count": 135,
   "metadata": {},
   "outputs": [
    {
     "name": "stdout",
     "output_type": "stream",
     "text": [
      "0.7265625\n"
     ]
    }
   ],
   "source": [
    "print(max(val_accs_2))"
   ]
  },
  {
   "cell_type": "code",
   "execution_count": null,
   "metadata": {
    "collapsed": true
   },
   "outputs": [],
   "source": []
  },
  {
   "cell_type": "code",
   "execution_count": 142,
   "metadata": {
    "collapsed": true
   },
   "outputs": [],
   "source": [
    "# RNN_CONCATE_64\n",
    "# get number of trainable parameters\n",
    "model_parameters_3 = filter(lambda p: p.requires_grad, model.parameters())\n",
    "params_3 = sum([np.prod(p.size()) for p in model_parameters_3])"
   ]
  },
  {
   "cell_type": "code",
   "execution_count": 143,
   "metadata": {},
   "outputs": [
    {
     "name": "stdout",
     "output_type": "stream",
     "text": [
      "Number of trainable parameters are 6394671.\n"
     ]
    }
   ],
   "source": [
    "print(\"Number of trainable parameters are {}.\".format(params_3))"
   ]
  },
  {
   "cell_type": "code",
   "execution_count": 144,
   "metadata": {
    "collapsed": true
   },
   "outputs": [],
   "source": [
    "train_losses_3, train_accs_3, val_losses_3, val_accs_3 = train_losses, train_accs, val_losses, val_accs"
   ]
  },
  {
   "cell_type": "code",
   "execution_count": 145,
   "metadata": {},
   "outputs": [
    {
     "data": {
      "image/png": "[encoded data removed]",
      "text/plain": [
       "<matplotlib.figure.Figure at 0x13e823a58>"
      ]
     },
     "metadata": {},
     "output_type": "display_data"
    }
   ],
   "source": [
    "# RNN_CONCATE_64\n",
    "# plot for losses\n",
    "title = 'rnn_loss_concate_64'\n",
    "plt.plot(train_losses_3, label='train losses')\n",
    "plt.plot(val_losses_3, label='val losses')\n",
    "plt.legend(loc='lower right')\n",
    "plt.xlabel(\"Step\")\n",
    "plt.ylabel(\"Loss\")\n",
    "plt.title(title)\n",
    "plt.savefig(title + \".png\")"
   ]
  },
  {
   "cell_type": "code",
   "execution_count": 146,
   "metadata": {},
   "outputs": [
    {
     "data": {
      "image/png": "[encoded data removed]",
      "text/plain": [
       "<matplotlib.figure.Figure at 0x13e688748>"
      ]
     },
     "metadata": {},
     "output_type": "display_data"
    }
   ],
   "source": [
    "# RNN_CONCATE_64\n",
    "# plot for accs\n",
    "title = 'rnn_acc_concate_64'\n",
    "plt.plot(train_accs_3, label='train accs')\n",
    "plt.plot(val_accs_3, label='val accs')\n",
    "plt.legend(loc='lower right')\n",
    "plt.xlabel(\"Step\")\n",
    "plt.ylabel(\"Accuracy\")\n",
    "plt.title(title)\n",
    "plt.savefig(title + \".png\")"
   ]
  },
  {
   "cell_type": "code",
   "execution_count": 147,
   "metadata": {},
   "outputs": [
    {
     "name": "stdout",
     "output_type": "stream",
     "text": [
      "0.7578125\n"
     ]
    }
   ],
   "source": [
    "print(max(train_accs_3))"
   ]
  },
  {
   "cell_type": "code",
   "execution_count": 148,
   "metadata": {},
   "outputs": [
    {
     "name": "stdout",
     "output_type": "stream",
     "text": [
      "0.7578125\n"
     ]
    }
   ],
   "source": [
    "print(max(val_accs_3))"
   ]
  },
  {
   "cell_type": "code",
   "execution_count": null,
   "metadata": {
    "collapsed": true
   },
   "outputs": [],
   "source": []
  },
  {
   "cell_type": "code",
   "execution_count": 177,
   "metadata": {
    "collapsed": true
   },
   "outputs": [],
   "source": [
    "# RNN_MULTI_128\n",
    "# get number of trainable parameters\n",
    "model_parameters_4 = filter(lambda p: p.requires_grad, model.parameters())\n",
    "params_4 = sum([np.prod(p.size()) for p in model_parameters_4])"
   ]
  },
  {
   "cell_type": "code",
   "execution_count": 178,
   "metadata": {},
   "outputs": [
    {
     "name": "stdout",
     "output_type": "stream",
     "text": [
      "Number of trainable parameters are 6489519.\n"
     ]
    }
   ],
   "source": [
    "print(\"Number of trainable parameters are {}.\".format(params_4))"
   ]
  },
  {
   "cell_type": "code",
   "execution_count": 179,
   "metadata": {
    "collapsed": true
   },
   "outputs": [],
   "source": [
    "train_losses_4, train_accs_4, val_losses_4, val_accs_4 = train_losses, train_accs, val_losses, val_accs"
   ]
  },
  {
   "cell_type": "code",
   "execution_count": 180,
   "metadata": {},
   "outputs": [
    {
     "data": {
      "image/png": "[encoded data removed]",
      "text/plain": [
       "<matplotlib.figure.Figure at 0x146ec5240>"
      ]
     },
     "metadata": {},
     "output_type": "display_data"
    }
   ],
   "source": [
    "# RNN_MULTI_128\n",
    "# plot for losses\n",
    "title = 'rnn_loss_multi_128'\n",
    "plt.plot(train_losses_4, label='train losses')\n",
    "plt.plot(val_losses_4, label='val losses')\n",
    "plt.legend(loc='lower right')\n",
    "plt.xlabel(\"Step\")\n",
    "plt.ylabel(\"Loss\")\n",
    "plt.title(title)\n",
    "plt.savefig(title + \".png\")"
   ]
  },
  {
   "cell_type": "code",
   "execution_count": 181,
   "metadata": {},
   "outputs": [
    {
     "data": {
      "image/png": "[encoded data removed]",
      "text/plain": [
       "<matplotlib.figure.Figure at 0x1391b97f0>"
      ]
     },
     "metadata": {},
     "output_type": "display_data"
    }
   ],
   "source": [
    "# RNN_MULTI_128\n",
    "# plot for accs\n",
    "title = 'rnn_acc_multi_128'\n",
    "plt.plot(train_accs_4, label='train accs')\n",
    "plt.plot(val_accs_4, label='val accs')\n",
    "plt.legend(loc='lower right')\n",
    "plt.xlabel(\"Step\")\n",
    "plt.ylabel(\"Accuracy\")\n",
    "plt.title(title)\n",
    "plt.savefig(title + \".png\")"
   ]
  },
  {
   "cell_type": "code",
   "execution_count": 182,
   "metadata": {},
   "outputs": [
    {
     "name": "stdout",
     "output_type": "stream",
     "text": [
      "0.703125\n"
     ]
    }
   ],
   "source": [
    "print(max(train_accs_4))"
   ]
  },
  {
   "cell_type": "code",
   "execution_count": 183,
   "metadata": {},
   "outputs": [
    {
     "name": "stdout",
     "output_type": "stream",
     "text": [
      "0.7109375\n"
     ]
    }
   ],
   "source": [
    "print(max(val_accs_4))"
   ]
  },
  {
   "cell_type": "code",
   "execution_count": null,
   "metadata": {
    "collapsed": true
   },
   "outputs": [],
   "source": []
  },
  {
   "cell_type": "markdown",
   "metadata": {},
   "source": [
    "### Process Multi-NLI Validation Dataset to Evaluate RNNs"
   ]
  },
  {
   "cell_type": "code",
   "execution_count": 191,
   "metadata": {
    "collapsed": true
   },
   "outputs": [],
   "source": [
    "nli = pd.read_csv(\"./hw2_data/mnli_val.tsv\", sep='\\t', header=0)"
   ]
  },
  {
   "cell_type": "code",
   "execution_count": 192,
   "metadata": {},
   "outputs": [
    {
     "data": {
      "text/plain": [
       "array(['fiction', 'telephone', 'slate', 'government', 'travel'],\n",
       "      dtype=object)"
      ]
     },
     "execution_count": 192,
     "metadata": {},
     "output_type": "execute_result"
    }
   ],
   "source": [
    "nli[\"genre\"].unique()"
   ]
  },
  {
   "cell_type": "code",
   "execution_count": 193,
   "metadata": {
    "collapsed": true
   },
   "outputs": [],
   "source": [
    "def load_data_2(PATH_TO_FILE, genre):\n",
    "    data = pd.read_csv(PATH_TO_FILE, sep='\\t', header=0)\n",
    "    s1_text = []\n",
    "    s2_text = []\n",
    "    label = []\n",
    "    for idx, row in data.iterrows():\n",
    "        s1 = row['sentence1'].lower()\n",
    "        s2 = row['sentence2'].lower()\n",
    "        g = row['genre'].lower()\n",
    "        if g == genre:\n",
    "            label.append(label_idx[row['label'].lower()])\n",
    "            s1_text.append(s1.split())\n",
    "            s2_text.append(s2.split())\n",
    "    return s1_text, s2_text, label"
   ]
  },
  {
   "cell_type": "code",
   "execution_count": 194,
   "metadata": {
    "collapsed": true
   },
   "outputs": [],
   "source": [
    "fiction_s1_text, fiction_s2_text, fiction_label = load_data_2(\"./hw2_data/mnli_val.tsv\", 'fiction')"
   ]
  },
  {
   "cell_type": "code",
   "execution_count": 195,
   "metadata": {
    "collapsed": true
   },
   "outputs": [],
   "source": [
    "tele_s1_text, tele_s2_text, tele_label = load_data_2(\"./hw2_data/mnli_val.tsv\", 'telephone')"
   ]
  },
  {
   "cell_type": "code",
   "execution_count": 196,
   "metadata": {
    "collapsed": true
   },
   "outputs": [],
   "source": [
    "slate_s1_text, slate_s2_text, slate_label = load_data_2(\"./hw2_data/mnli_val.tsv\", 'slate')"
   ]
  },
  {
   "cell_type": "code",
   "execution_count": 197,
   "metadata": {
    "collapsed": true
   },
   "outputs": [],
   "source": [
    "gov_s1_text, gov_s2_text, gov_label = load_data_2(\"./hw2_data/mnli_val.tsv\", 'government')"
   ]
  },
  {
   "cell_type": "code",
   "execution_count": 198,
   "metadata": {
    "collapsed": true
   },
   "outputs": [],
   "source": [
    "travel_s1_text, travel_s2_text, travel_label = load_data_2(\"./hw2_data/mnli_val.tsv\", 'travel')"
   ]
  },
  {
   "cell_type": "code",
   "execution_count": 199,
   "metadata": {
    "collapsed": true
   },
   "outputs": [],
   "source": [
    "tele_s1_indices = token2index_dataset(tele_s1_text)\n",
    "tele_s2_indices = token2index_dataset(tele_s2_text)"
   ]
  },
  {
   "cell_type": "code",
   "execution_count": 200,
   "metadata": {
    "collapsed": true
   },
   "outputs": [],
   "source": [
    "slate_s1_indices = token2index_dataset(slate_s1_text)\n",
    "slate_s2_indices = token2index_dataset(slate_s2_text)"
   ]
  },
  {
   "cell_type": "code",
   "execution_count": 201,
   "metadata": {
    "collapsed": true
   },
   "outputs": [],
   "source": [
    "gov_s1_indices = token2index_dataset(gov_s1_text)\n",
    "gov_s2_indices = token2index_dataset(gov_s2_text)"
   ]
  },
  {
   "cell_type": "code",
   "execution_count": 202,
   "metadata": {
    "collapsed": true
   },
   "outputs": [],
   "source": [
    "travel_s1_indices = token2index_dataset(travel_s1_text)\n",
    "travel_s2_indices = token2index_dataset(travel_s2_text)"
   ]
  },
  {
   "cell_type": "code",
   "execution_count": 203,
   "metadata": {
    "collapsed": true
   },
   "outputs": [],
   "source": [
    "fiction_s1_indices = token2index_dataset(fiction_s1_text)\n",
    "fiction_s2_indices = token2index_dataset(fiction_s2_text)"
   ]
  },
  {
   "cell_type": "code",
   "execution_count": 236,
   "metadata": {},
   "outputs": [],
   "source": [
    "def padding(input1, input2, labels):\n",
    "    s1_data_list = []\n",
    "    s2_data_list = []\n",
    "    for i in range(len(input1)):\n",
    "        if len(input1[i]) == MAX_SENTENCE_LENGTH:\n",
    "            s1_data_list.append(np.asarray(input1[i]))\n",
    "        elif len(input1[i]) < MAX_SENTENCE_LENGTH:\n",
    "            s1_padded_vec = np.pad(np.array(input1[i]),\n",
    "                                pad_width=(0,(MAX_SENTENCE_LENGTH-len(input1[i]))),\n",
    "                                mode=\"constant\", constant_values=0)\n",
    "            s1_data_list.append(s1_padded_vec)\n",
    "        else :\n",
    "            s1_data_list.append(np.asarray(input1[:MAX_SENTENCE_LENGTH]))\n",
    "            \n",
    "        if len(input2[i]) == MAX_SENTENCE_LENGTH:\n",
    "            s2_data_list.append(np.asarray(input2[i]))\n",
    "        elif len(input2[i]) < MAX_SENTENCE_LENGTH:\n",
    "            s2_padded_vec = np.pad(np.array(input2[i]),\n",
    "                                pad_width=(0,(MAX_SENTENCE_LENGTH-len(input2[i]))),\n",
    "                                mode=\"constant\", constant_values=0)\n",
    "            s2_data_list.append(np.asarray(s2_padded_vec))\n",
    "        else :\n",
    "            s2_data_list.append(input2[:MAX_SENTENCE_LENGTH])\n",
    "    return [torch.from_numpy(np.array(s1_data_list)), torch.from_numpy(np.array(s2_data_list)), torch.LongTensor(label_list)]"
   ]
  },
  {
   "cell_type": "code",
   "execution_count": null,
   "metadata": {},
   "outputs": [],
   "source": [
    "fiction_s1, fiction_s2, fiction_l = padding(fiction_s1_text, fiction_s1_text, fiction_label)"
   ]
  },
  {
   "cell_type": "code",
   "execution_count": 205,
   "metadata": {
    "collapsed": true
   },
   "outputs": [],
   "source": [
    "def evaluate2(model, sent1, sent2, sent1_len, sent2_len, labels):\n",
    "    logits = model(sent1, sent2, sent1_len, sent2_len)\n",
    "    _, pred = torch.max(logits, 1)\n",
    "    acc = (labels == pred).sum()\n",
    "    pred_value = pred.cpu().data\n",
    "    acc_value = acc.cpu().data.numpy() / labels.size()[0]\n",
    "    return float(acc_value)"
   ]
  },
  {
   "cell_type": "code",
   "execution_count": null,
   "metadata": {
    "collapsed": true
   },
   "outputs": [],
   "source": [
    "print(evaluate2(model, ))"
   ]
  }
 ],
 "metadata": {
  "kernelspec": {
   "display_name": "Python 3",
   "language": "python",
   "name": "python3"
  },
  "language_info": {
   "codemirror_mode": {
    "name": "ipython",
    "version": 3
   },
   "file_extension": ".py",
   "mimetype": "text/x-python",
   "name": "python",
   "nbconvert_exporter": "python",
   "pygments_lexer": "ipython3",
   "version": "3.6.1"
  }
 },
 "nbformat": 4,
 "nbformat_minor": 2
}
